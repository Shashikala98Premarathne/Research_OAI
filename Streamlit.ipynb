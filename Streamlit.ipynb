{
 "cells": [
  {
   "cell_type": "code",
   "execution_count": 1,
   "metadata": {},
   "outputs": [
    {
     "name": "stderr",
     "output_type": "stream",
     "text": [
      "2025-01-13 22:46:52.102 \n",
      "  \u001b[33m\u001b[1mWarning:\u001b[0m to view this Streamlit app on a browser, run it with the following\n",
      "  command:\n",
      "\n",
      "    streamlit run /Users/shashinimashi/Library/Python/3.11/lib/python/site-packages/ipykernel_launcher.py [ARGUMENTS]\n",
      "2025-01-13 22:46:52.103 Session state does not function when running a script without `streamlit run`\n"
     ]
    }
   ],
   "source": [
    "import streamlit as st\n",
    "\n",
    "# Title of the web page\n",
    "st.title(\"Open Government Consultation\")\n",
    "\n",
    "# Placeholder for the description\n",
    "st.markdown(\"<h3 style='color:blue;'>A description will be added here</h3>\", unsafe_allow_html=True)\n",
    "\n",
    "# Input fields for keywords\n",
    "st.write(\"Please enter the key words:\")\n",
    "col1, col2 = st.columns(2)\n",
    "\n",
    "with col1:\n",
    "    keyword1 = st.text_input(\"Keyword 1\")\n",
    "\n",
    "with col2:\n",
    "    keyword2 = st.text_input(\"Keyword 2\")\n",
    "\n",
    "# Placeholder for submission summary\n",
    "st.subheader(\"Submission Summary\")\n",
    "\n",
    "# Output area\n",
    "output = st.empty()  # Placeholder for output\n",
    "\n",
    "# Generate submission button\n",
    "if st.button(\"Generate a new submission\"):\n",
    "    if keyword1 or keyword2:\n",
    "        # Display the entered keywords as output\n",
    "        output.text(f\"You entered:\\nKeyword 1: {keyword1}\\nKeyword 2: {keyword2}\")\n",
    "    else:\n",
    "        # Notify the user to enter at least one keyword\n",
    "        output.text(\"Please enter at least one keyword to generate a submission.\")"
   ]
  }
 ],
 "metadata": {
  "kernelspec": {
   "display_name": "Python 3",
   "language": "python",
   "name": "python3"
  },
  "language_info": {
   "codemirror_mode": {
    "name": "ipython",
    "version": 3
   },
   "file_extension": ".py",
   "mimetype": "text/x-python",
   "name": "python",
   "nbconvert_exporter": "python",
   "pygments_lexer": "ipython3",
   "version": "3.11.6"
  }
 },
 "nbformat": 4,
 "nbformat_minor": 2
}
