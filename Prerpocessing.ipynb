{
 "cells": [
  {
   "cell_type": "code",
   "execution_count": 214,
   "metadata": {},
   "outputs": [
    {
     "name": "stderr",
     "output_type": "stream",
     "text": [
      "huggingface/tokenizers: The current process just got forked, after parallelism has already been used. Disabling parallelism to avoid deadlocks...\n",
      "To disable this warning, you can either:\n",
      "\t- Avoid using `tokenizers` before the fork if possible\n",
      "\t- Explicitly set the environment variable TOKENIZERS_PARALLELISM=(true | false)\n"
     ]
    },
    {
     "name": "stdout",
     "output_type": "stream",
     "text": [
      "Requirement already satisfied: nltk in /Library/Frameworks/Python.framework/Versions/3.11/lib/python3.11/site-packages (3.9.1)\n",
      "Requirement already satisfied: click in /Library/Frameworks/Python.framework/Versions/3.11/lib/python3.11/site-packages (from nltk) (8.1.7)\n",
      "Requirement already satisfied: joblib in /Library/Frameworks/Python.framework/Versions/3.11/lib/python3.11/site-packages (from nltk) (1.3.2)\n",
      "Requirement already satisfied: regex>=2021.8.3 in /Library/Frameworks/Python.framework/Versions/3.11/lib/python3.11/site-packages (from nltk) (2024.5.15)\n",
      "Requirement already satisfied: tqdm in /Library/Frameworks/Python.framework/Versions/3.11/lib/python3.11/site-packages (from nltk) (4.66.4)\n",
      "\n",
      "\u001b[1m[\u001b[0m\u001b[34;49mnotice\u001b[0m\u001b[1;39;49m]\u001b[0m\u001b[39;49m A new release of pip is available: \u001b[0m\u001b[31;49m24.1.1\u001b[0m\u001b[39;49m -> \u001b[0m\u001b[32;49m24.3.1\u001b[0m\n",
      "\u001b[1m[\u001b[0m\u001b[34;49mnotice\u001b[0m\u001b[1;39;49m]\u001b[0m\u001b[39;49m To update, run: \u001b[0m\u001b[32;49mpip install --upgrade pip\u001b[0m\n"
     ]
    }
   ],
   "source": [
    "!pip install nltk"
   ]
  },
  {
   "cell_type": "code",
   "execution_count": 215,
   "metadata": {},
   "outputs": [
    {
     "name": "stderr",
     "output_type": "stream",
     "text": [
      "huggingface/tokenizers: The current process just got forked, after parallelism has already been used. Disabling parallelism to avoid deadlocks...\n",
      "To disable this warning, you can either:\n",
      "\t- Avoid using `tokenizers` before the fork if possible\n",
      "\t- Explicitly set the environment variable TOKENIZERS_PARALLELISM=(true | false)\n"
     ]
    },
    {
     "name": "stdout",
     "output_type": "stream",
     "text": [
      "Requirement already satisfied: beautifulsoup4 in /Library/Frameworks/Python.framework/Versions/3.11/lib/python3.11/site-packages (4.12.3)\n",
      "Requirement already satisfied: soupsieve>1.2 in /Library/Frameworks/Python.framework/Versions/3.11/lib/python3.11/site-packages (from beautifulsoup4) (2.5)\n",
      "\n",
      "\u001b[1m[\u001b[0m\u001b[34;49mnotice\u001b[0m\u001b[1;39;49m]\u001b[0m\u001b[39;49m A new release of pip is available: \u001b[0m\u001b[31;49m24.1.1\u001b[0m\u001b[39;49m -> \u001b[0m\u001b[32;49m24.3.1\u001b[0m\n",
      "\u001b[1m[\u001b[0m\u001b[34;49mnotice\u001b[0m\u001b[1;39;49m]\u001b[0m\u001b[39;49m To update, run: \u001b[0m\u001b[32;49mpip install --upgrade pip\u001b[0m\n",
      "Note: you may need to restart the kernel to use updated packages.\n"
     ]
    }
   ],
   "source": [
    "pip install beautifulsoup4\n"
   ]
  },
  {
   "cell_type": "code",
   "execution_count": 216,
   "metadata": {},
   "outputs": [],
   "source": [
    "import pandas as pd\n",
    "import re\n",
    "from gensim.parsing.preprocessing import STOPWORDS, strip_tags,strip_numeric, strip_punctuation, strip_multiple_whitespaces,remove_stopwords, strip_short, stem_text\n",
    "import pickle\n",
    "from transformers import BertTokenizer\n",
    "import nltk\n"
   ]
  },
  {
   "cell_type": "code",
   "execution_count": 217,
   "metadata": {},
   "outputs": [],
   "source": [
    "import numpy as np"
   ]
  },
  {
   "cell_type": "code",
   "execution_count": 218,
   "metadata": {},
   "outputs": [],
   "source": [
    "import re\n",
    "import string\n",
    "from bs4 import BeautifulSoup\n",
    "from nltk.tokenize import sent_tokenize"
   ]
  },
  {
   "cell_type": "code",
   "execution_count": 219,
   "metadata": {},
   "outputs": [
    {
     "name": "stderr",
     "output_type": "stream",
     "text": [
      "[nltk_data] Downloading package stopwords to\n",
      "[nltk_data]     /Users/shashinimashi/nltk_data...\n",
      "[nltk_data]   Package stopwords is already up-to-date!\n"
     ]
    },
    {
     "data": {
      "text/plain": [
       "True"
      ]
     },
     "execution_count": 219,
     "metadata": {},
     "output_type": "execute_result"
    }
   ],
   "source": [
    "nltk.download('stopwords')"
   ]
  },
  {
   "cell_type": "code",
   "execution_count": 220,
   "metadata": {},
   "outputs": [],
   "source": [
    "from nltk.corpus import stopwords"
   ]
  },
  {
   "cell_type": "code",
   "execution_count": 221,
   "metadata": {},
   "outputs": [],
   "source": [
    "# Load the CSV file\n",
    "file_path = '/Users/shashinimashi/Desktop/Semester 3/Thesis/Analysis/Research_OAI-1/transcripts.csv'  \n",
    "df = pd.read_csv(file_path)"
   ]
  },
  {
   "cell_type": "code",
   "execution_count": 222,
   "metadata": {},
   "outputs": [
    {
     "data": {
      "text/html": [
       "<div>\n",
       "<style scoped>\n",
       "    .dataframe tbody tr th:only-of-type {\n",
       "        vertical-align: middle;\n",
       "    }\n",
       "\n",
       "    .dataframe tbody tr th {\n",
       "        vertical-align: top;\n",
       "    }\n",
       "\n",
       "    .dataframe thead th {\n",
       "        text-align: right;\n",
       "    }\n",
       "</style>\n",
       "<table border=\"1\" class=\"dataframe\">\n",
       "  <thead>\n",
       "    <tr style=\"text-align: right;\">\n",
       "      <th></th>\n",
       "      <th>ResponseID</th>\n",
       "      <th>Topic</th>\n",
       "      <th>Transcription</th>\n",
       "    </tr>\n",
       "  </thead>\n",
       "  <tbody>\n",
       "    <tr>\n",
       "      <th>0</th>\n",
       "      <td>510</td>\n",
       "      <td>Supporting Responsible Ai Discussion Paper</td>\n",
       "      <td>The Australian Federal Police Afp Welcomes The...</td>\n",
       "    </tr>\n",
       "    <tr>\n",
       "      <th>1</th>\n",
       "      <td>507</td>\n",
       "      <td>Safe And Responsible Ai In Australia’</td>\n",
       "      <td>The Disr Have Called For Public Submissions To...</td>\n",
       "    </tr>\n",
       "    <tr>\n",
       "      <th>2</th>\n",
       "      <td>506</td>\n",
       "      <td>Safe And Responsible Ai In Australia\\r\\nDiscus...</td>\n",
       "      <td>The Office Of The Australian Information Commi...</td>\n",
       "    </tr>\n",
       "    <tr>\n",
       "      <th>3</th>\n",
       "      <td>505</td>\n",
       "      <td>Canvas Approach To Ai</td>\n",
       "      <td>Canvas Mission Is To Empower The World To Desi...</td>\n",
       "    </tr>\n",
       "    <tr>\n",
       "      <th>4</th>\n",
       "      <td>504</td>\n",
       "      <td>Safe And Responsible Ai In\\r\\nAustralia</td>\n",
       "      <td>The Law Council Welcomes The Opportunity To Pr...</td>\n",
       "    </tr>\n",
       "  </tbody>\n",
       "</table>\n",
       "</div>"
      ],
      "text/plain": [
       "   ResponseID                                              Topic  \\\n",
       "0         510         Supporting Responsible Ai Discussion Paper   \n",
       "1         507              Safe And Responsible Ai In Australia’   \n",
       "2         506  Safe And Responsible Ai In Australia\\r\\nDiscus...   \n",
       "3         505                              Canvas Approach To Ai   \n",
       "4         504            Safe And Responsible Ai In\\r\\nAustralia   \n",
       "\n",
       "                                       Transcription  \n",
       "0  The Australian Federal Police Afp Welcomes The...  \n",
       "1  The Disr Have Called For Public Submissions To...  \n",
       "2  The Office Of The Australian Information Commi...  \n",
       "3  Canvas Mission Is To Empower The World To Desi...  \n",
       "4  The Law Council Welcomes The Opportunity To Pr...  "
      ]
     },
     "execution_count": 222,
     "metadata": {},
     "output_type": "execute_result"
    }
   ],
   "source": [
    "df.head()"
   ]
  },
  {
   "cell_type": "code",
   "execution_count": 223,
   "metadata": {},
   "outputs": [
    {
     "data": {
      "text/plain": [
       "Index(['ResponseID', 'Topic', 'Transcription'], dtype='object')"
      ]
     },
     "execution_count": 223,
     "metadata": {},
     "output_type": "execute_result"
    }
   ],
   "source": [
    "df.columns"
   ]
  },
  {
   "cell_type": "code",
   "execution_count": 224,
   "metadata": {},
   "outputs": [
    {
     "data": {
      "text/plain": [
       "<bound method DataFrame.value_counts of      ResponseID                                              Topic  \\\n",
       "0           510         Supporting Responsible Ai Discussion Paper   \n",
       "1           507              Safe And Responsible Ai In Australia’   \n",
       "2           506  Safe And Responsible Ai In Australia\\r\\nDiscus...   \n",
       "3           505                              Canvas Approach To Ai   \n",
       "4           504            Safe And Responsible Ai In\\r\\nAustralia   \n",
       "..          ...                                                ...   \n",
       "411           7  Epistemic Virtues Of Harnessing Rigorous\\r\\nMa...   \n",
       "412           6  Ai Explainability Framework For Environmental ...   \n",
       "413           4  Submission To Responsible Ai In Australia – Ga...   \n",
       "414           2  Ben Blackburn Racing Submission\\r\\nOn The Aust...   \n",
       "415           1                             Make A General Comment   \n",
       "\n",
       "                                         Transcription  \n",
       "0    The Australian Federal Police Afp Welcomes The...  \n",
       "1    The Disr Have Called For Public Submissions To...  \n",
       "2    The Office Of The Australian Information Commi...  \n",
       "3    Canvas Mission Is To Empower The World To Desi...  \n",
       "4    The Law Council Welcomes The Opportunity To Pr...  \n",
       "..                                                 ...  \n",
       "411  Some Physicians In Their Care Of\\r\\nPatients A...  \n",
       "412  Deep Learning Networks Powered By Ai Are Essen...  \n",
       "413  I Imported Zx80 Pc From Uk 43Yr Ago At 14Yr Ol...  \n",
       "414  I Am Extremely Pleased To Provide This Public ...  \n",
       "415  Ensure Ai Has Built In Prime Directives That C...  \n",
       "\n",
       "[416 rows x 3 columns]>"
      ]
     },
     "execution_count": 224,
     "metadata": {},
     "output_type": "execute_result"
    }
   ],
   "source": [
    "df.value_counts"
   ]
  },
  {
   "cell_type": "code",
   "execution_count": 225,
   "metadata": {},
   "outputs": [
    {
     "name": "stdout",
     "output_type": "stream",
     "text": [
      "count    416.000000\n",
      "mean     240.641827\n",
      "std      140.267280\n",
      "min        1.000000\n",
      "25%      144.000000\n",
      "50%      221.000000\n",
      "75%      309.000000\n",
      "max      710.000000\n",
      "Name: word_count, dtype: float64\n"
     ]
    }
   ],
   "source": [
    "#  Calculate word count for each transcription\n",
    "df['word_count'] = df['Transcription'].apply(lambda x: len(str(x).split()))\n",
    "\n",
    "# Get descriptive statistics for the word count\n",
    "word_count_stats = df['word_count'].describe()\n",
    "\n",
    "print(word_count_stats)"
   ]
  },
  {
   "cell_type": "code",
   "execution_count": 226,
   "metadata": {},
   "outputs": [
    {
     "name": "stdout",
     "output_type": "stream",
     "text": [
      "Non-empty rows: 416\n",
      "Empty rows: 8\n"
     ]
    }
   ],
   "source": [
    "# Count the non-empty rows in 'Transcription' column\n",
    "non_empty_rows = df['Transcription'].str.strip().astype(bool).sum()\n",
    "\n",
    "# Count the empty rows (including NaN values) in 'Transcription' column\n",
    "empty_rows = df['Transcription'].isna().sum() + (df['Transcription'].str.strip().astype(bool) == False).sum()\n",
    "\n",
    "# Print the results\n",
    "print(f\"Non-empty rows: {non_empty_rows}\")\n",
    "print(f\"Empty rows: {empty_rows}\")\n"
   ]
  },
  {
   "cell_type": "code",
   "execution_count": 227,
   "metadata": {},
   "outputs": [
    {
     "name": "stdout",
     "output_type": "stream",
     "text": [
      "Rows before filtering: 416\n",
      "Rows after filtering: 408\n"
     ]
    }
   ],
   "source": [
    "# Filtering Empty rows\n",
    "print(f\"Rows before filtering: {df.shape[0]}\")\n",
    "df = df[df['Transcription'].str.strip().astype(bool) & df['Transcription'].notna()]\n",
    "print(f\"Rows after filtering: {df.shape[0]}\")"
   ]
  },
  {
   "cell_type": "code",
   "execution_count": 228,
   "metadata": {},
   "outputs": [
    {
     "name": "stdout",
     "output_type": "stream",
     "text": [
      "Transcription - Average length: 245.34 words\n",
      "Transcription - Minimum length: 1 words\n",
      "Transcription - Maximum length: 710 words\n",
      "\n",
      "Text Lengths (Word Counts) per Text:\n",
      "                                       Transcription  transcription_word_count\n",
      "0  The Australian Federal Police Afp Welcomes The...                       518\n",
      "1  The Disr Have Called For Public Submissions To...                       213\n",
      "2  The Office Of The Australian Information Commi...                       545\n",
      "3  Canvas Mission Is To Empower The World To Desi...                       103\n",
      "4  The Law Council Welcomes The Opportunity To Pr...                       410\n"
     ]
    },
    {
     "name": "stderr",
     "output_type": "stream",
     "text": [
      "/var/folders/s1/xx81lcvn0kq8swqwckfrftb40000gn/T/ipykernel_56461/2615125692.py:5: SettingWithCopyWarning: \n",
      "A value is trying to be set on a copy of a slice from a DataFrame.\n",
      "Try using .loc[row_indexer,col_indexer] = value instead\n",
      "\n",
      "See the caveats in the documentation: https://pandas.pydata.org/pandas-docs/stable/user_guide/indexing.html#returning-a-view-versus-a-copy\n",
      "  df['transcription_word_count'] = df['Transcription'].apply(lambda x: len(str(x).split()) if isinstance(x, str) else 0)\n"
     ]
    }
   ],
   "source": [
    "import numpy as np\n",
    "\n",
    "# Word count check for 'Transcription' column\n",
    "# Step 1: Calculate word counts for each text in the 'Transcription' column\n",
    "df['transcription_word_count'] = df['Transcription'].apply(lambda x: len(str(x).split()) if isinstance(x, str) else 0)\n",
    "\n",
    "# Step 2: Calculate and print statistics for the 'Transcription' column\n",
    "transcription_avg = np.mean(df['transcription_word_count'])\n",
    "transcription_min = np.min(df['transcription_word_count'])\n",
    "transcription_max = np.max(df['transcription_word_count'])\n",
    "\n",
    "# Step 3: Display the statistics\n",
    "print(f\"Transcription - Average length: {transcription_avg:.2f} words\")\n",
    "print(f\"Transcription - Minimum length: {transcription_min} words\")\n",
    "print(f\"Transcription - Maximum length: {transcription_max} words\")\n",
    "\n",
    "# Optional: Display the word counts in the DataFrame for better insight\n",
    "print(\"\\nText Lengths (Word Counts) per Text:\")\n",
    "print(df[['Transcription', 'transcription_word_count']].head())"
   ]
  },
  {
   "cell_type": "code",
   "execution_count": 229,
   "metadata": {},
   "outputs": [
    {
     "data": {
      "text/plain": [
       "Text(0, 0.5, 'Frequency')"
      ]
     },
     "execution_count": 229,
     "metadata": {},
     "output_type": "execute_result"
    },
    {
     "data": {
      "image/png": "[encoded data removed]",
      "text/plain": [
       "<Figure size 800x500 with 1 Axes>"
      ]
     },
     "metadata": {},
     "output_type": "display_data"
    }
   ],
   "source": [
    "# Histogram of word counts\n",
    "import matplotlib.pyplot as plt\n",
    "import seaborn as sns\n",
    "\n",
    "plt.figure(figsize=(8, 5))\n",
    "sns.histplot(df['transcription_word_count'], bins=30, kde=True, color='skyblue')\n",
    "plt.title('Distribution of Word Count in Transcription Column', fontsize=16)\n",
    "plt.xlabel('Word Count', fontsize=12)\n",
    "plt.ylabel('Frequency', fontsize=12)"
   ]
  },
  {
   "cell_type": "code",
   "execution_count": 230,
   "metadata": {},
   "outputs": [
    {
     "name": "stderr",
     "output_type": "stream",
     "text": [
      "[nltk_data] Downloading package punkt to\n",
      "[nltk_data]     /Users/shashinimashi/nltk_data...\n",
      "[nltk_data]   Package punkt is already up-to-date!\n"
     ]
    },
    {
     "name": "stdout",
     "output_type": "stream",
     "text": [
      "First few rows of the column 'Transcription':\n",
      "0    The Australian Federal Police Afp Welcomes The...\n",
      "1    The Disr Have Called For Public Submissions To...\n",
      "2    The Office Of The Australian Information Commi...\n",
      "3    Canvas Mission Is To Empower The World To Desi...\n",
      "4    The Law Council Welcomes The Opportunity To Pr...\n",
      "Name: Transcription, dtype: object\n",
      "'Responses' column has been created successfully.\n",
      "                                       Transcription  \\\n",
      "0  The Australian Federal Police Afp Welcomes The...   \n",
      "1  The Disr Have Called For Public Submissions To...   \n",
      "2  The Office Of The Australian Information Commi...   \n",
      "3  Canvas Mission Is To Empower The World To Desi...   \n",
      "4  The Law Council Welcomes The Opportunity To Pr...   \n",
      "\n",
      "                                           Responses  \n",
      "0  [the australian federal police af ##p welcome ...  \n",
      "1  [the di ##sr have called for public submission...  \n",
      "2  [the office of the australian information comm...  \n",
      "3  [canvas mission is to em ##power the world to ...  \n",
      "4  [the law council welcome ##s the opportunity t...  \n"
     ]
    },
    {
     "name": "stderr",
     "output_type": "stream",
     "text": [
      "/var/folders/s1/xx81lcvn0kq8swqwckfrftb40000gn/T/ipykernel_56461/2575543807.py:59: SettingWithCopyWarning: \n",
      "A value is trying to be set on a copy of a slice from a DataFrame.\n",
      "Try using .loc[row_indexer,col_indexer] = value instead\n",
      "\n",
      "See the caveats in the documentation: https://pandas.pydata.org/pandas-docs/stable/user_guide/indexing.html#returning-a-view-versus-a-copy\n",
      "  df['Responses'] = df[column_name].apply(clean_text)\n"
     ]
    }
   ],
   "source": [
    "import re\n",
    "import string\n",
    "from transformers import BertTokenizer\n",
    "from bs4 import BeautifulSoup\n",
    "import nltk\n",
    "import pandas as pd  \n",
    "\n",
    "# Download NLTK data for sentence tokenization (ensure 'punkt' is available)\n",
    "nltk.download('punkt')\n",
    "\n",
    "# Initialize BERT tokenizer\n",
    "tokenizer = BertTokenizer.from_pretrained('bert-base-uncased')\n",
    "\n",
    "def clean_and_tokenize(df, column_name='Transcription'):\n",
    "    \n",
    "    # Ensure the column exists in the DataFrame\n",
    "    if column_name not in df.columns:\n",
    "        print(f\"Error: Column '{column_name}' not found in the DataFrame.\")\n",
    "        return df\n",
    "    \n",
    "    def clean_text(text):\n",
    "        if not text or pd.isna(text):  # Check for empty or NaN values\n",
    "            return []  # Return an empty list if the text is invalid\n",
    "\n",
    "        # Lowercase the text\n",
    "        text = text.lower()\n",
    "        \n",
    "        # Remove URLs\n",
    "        text = re.sub(r\"http\\S+|www\\S+|https\\S+\", \"\", text, flags=re.MULTILINE)\n",
    "        \n",
    "        # Remove HTML tags\n",
    "        text = BeautifulSoup(text, \"html.parser\").get_text()\n",
    "        \n",
    "        # Remove punctuation\n",
    "        text = text.translate(str.maketrans(\"\", \"\", string.punctuation))\n",
    "        \n",
    "        # Remove special characters and numbers\n",
    "        text = re.sub(r\"[^a-zA-Z\\s]\", \"\", text)\n",
    "\n",
    "        # Normalize multiple spaces to a single space\n",
    "        text = re.sub(r'\\s+', ' ', text).strip()\n",
    "        \n",
    "        # Tokenize the text using BERT tokenizer (subword-level)\n",
    "        tokens = tokenizer.tokenize(text)\n",
    "        \n",
    "        # Rejoin tokens into a single string\n",
    "        cleaned_text = \" \".join(tokens)\n",
    "        \n",
    "        # Alternative sentence tokenization using re.split()\n",
    "        sentences = re.split(r'(?<=[.!?])\\s+', cleaned_text)\n",
    "        \n",
    "        return sentences\n",
    "\n",
    "    # Debug: Print first few rows before cleaning\n",
    "    print(f\"First few rows of the column '{column_name}':\")\n",
    "    print(df[column_name].head())\n",
    "    \n",
    "    # Apply the clean_text function to each entry in the column\n",
    "    df['Responses'] = df[column_name].apply(clean_text)\n",
    "    \n",
    "    # Debug: Check if the Responses column has been added\n",
    "    if 'Responses' in df.columns:\n",
    "        print(f\"'Responses' column has been created successfully.\")\n",
    "    else:\n",
    "        print(f\"Error: 'Responses' column not created.\")\n",
    "    \n",
    "    # Print the DataFrame with Transcriptions and Responses\n",
    "    print(df[['Transcription', 'Responses']].head())\n",
    "    \n",
    "    return df\n",
    "\n",
    "# Output\n",
    "df_cleaned = clean_and_tokenize(df)\n"
   ]
  },
  {
   "cell_type": "code",
   "execution_count": 258,
   "metadata": {},
   "outputs": [
    {
     "data": {
      "text/html": [
       "<div>\n",
       "<style scoped>\n",
       "    .dataframe tbody tr th:only-of-type {\n",
       "        vertical-align: middle;\n",
       "    }\n",
       "\n",
       "    .dataframe tbody tr th {\n",
       "        vertical-align: top;\n",
       "    }\n",
       "\n",
       "    .dataframe thead th {\n",
       "        text-align: right;\n",
       "    }\n",
       "</style>\n",
       "<table border=\"1\" class=\"dataframe\">\n",
       "  <thead>\n",
       "    <tr style=\"text-align: right;\">\n",
       "      <th></th>\n",
       "      <th>ResponseID</th>\n",
       "      <th>Topic</th>\n",
       "      <th>Transcription</th>\n",
       "      <th>word_count</th>\n",
       "      <th>transcription_word_count</th>\n",
       "      <th>Responses</th>\n",
       "    </tr>\n",
       "  </thead>\n",
       "  <tbody>\n",
       "    <tr>\n",
       "      <th>0</th>\n",
       "      <td>510</td>\n",
       "      <td>Supporting Responsible Ai Discussion Paper</td>\n",
       "      <td>The Australian Federal Police Afp Welcomes The...</td>\n",
       "      <td>550</td>\n",
       "      <td>518</td>\n",
       "      <td>[the australian federal police af ##p welcome ...</td>\n",
       "    </tr>\n",
       "    <tr>\n",
       "      <th>1</th>\n",
       "      <td>507</td>\n",
       "      <td>Safe And Responsible Ai In Australia’</td>\n",
       "      <td>The Disr Have Called For Public Submissions To...</td>\n",
       "      <td>226</td>\n",
       "      <td>213</td>\n",
       "      <td>[the di ##sr have called for public submission...</td>\n",
       "    </tr>\n",
       "    <tr>\n",
       "      <th>2</th>\n",
       "      <td>506</td>\n",
       "      <td>Safe And Responsible Ai In Australia\\r\\nDiscus...</td>\n",
       "      <td>The Office Of The Australian Information Commi...</td>\n",
       "      <td>579</td>\n",
       "      <td>545</td>\n",
       "      <td>[the office of the australian information comm...</td>\n",
       "    </tr>\n",
       "    <tr>\n",
       "      <th>3</th>\n",
       "      <td>505</td>\n",
       "      <td>Canvas Approach To Ai</td>\n",
       "      <td>Canvas Mission Is To Empower The World To Desi...</td>\n",
       "      <td>108</td>\n",
       "      <td>103</td>\n",
       "      <td>[canvas mission is to em ##power the world to ...</td>\n",
       "    </tr>\n",
       "    <tr>\n",
       "      <th>4</th>\n",
       "      <td>504</td>\n",
       "      <td>Safe And Responsible Ai In\\r\\nAustralia</td>\n",
       "      <td>The Law Council Welcomes The Opportunity To Pr...</td>\n",
       "      <td>436</td>\n",
       "      <td>410</td>\n",
       "      <td>[the law council welcome ##s the opportunity t...</td>\n",
       "    </tr>\n",
       "  </tbody>\n",
       "</table>\n",
       "</div>"
      ],
      "text/plain": [
       "   ResponseID                                              Topic  \\\n",
       "0         510         Supporting Responsible Ai Discussion Paper   \n",
       "1         507              Safe And Responsible Ai In Australia’   \n",
       "2         506  Safe And Responsible Ai In Australia\\r\\nDiscus...   \n",
       "3         505                              Canvas Approach To Ai   \n",
       "4         504            Safe And Responsible Ai In\\r\\nAustralia   \n",
       "\n",
       "                                       Transcription  word_count  \\\n",
       "0  The Australian Federal Police Afp Welcomes The...         550   \n",
       "1  The Disr Have Called For Public Submissions To...         226   \n",
       "2  The Office Of The Australian Information Commi...         579   \n",
       "3  Canvas Mission Is To Empower The World To Desi...         108   \n",
       "4  The Law Council Welcomes The Opportunity To Pr...         436   \n",
       "\n",
       "   transcription_word_count                                          Responses  \n",
       "0                       518  [the australian federal police af ##p welcome ...  \n",
       "1                       213  [the di ##sr have called for public submission...  \n",
       "2                       545  [the office of the australian information comm...  \n",
       "3                       103  [canvas mission is to em ##power the world to ...  \n",
       "4                       410  [the law council welcome ##s the opportunity t...  "
      ]
     },
     "execution_count": 258,
     "metadata": {},
     "output_type": "execute_result"
    }
   ],
   "source": [
    "df_cleaned.head()"
   ]
  },
  {
   "cell_type": "code",
   "execution_count": 259,
   "metadata": {},
   "outputs": [
    {
     "name": "stdout",
     "output_type": "stream",
     "text": [
      "count    408.000000\n",
      "mean     264.850490\n",
      "std      149.770027\n",
      "min        1.000000\n",
      "25%      157.750000\n",
      "50%      243.500000\n",
      "75%      341.000000\n",
      "max      786.000000\n",
      "Name: word_count, dtype: float64\n"
     ]
    },
    {
     "name": "stderr",
     "output_type": "stream",
     "text": [
      "/var/folders/s1/xx81lcvn0kq8swqwckfrftb40000gn/T/ipykernel_56461/2871606896.py:2: SettingWithCopyWarning: \n",
      "A value is trying to be set on a copy of a slice from a DataFrame.\n",
      "Try using .loc[row_indexer,col_indexer] = value instead\n",
      "\n",
      "See the caveats in the documentation: https://pandas.pydata.org/pandas-docs/stable/user_guide/indexing.html#returning-a-view-versus-a-copy\n",
      "  df_cleaned['word_count'] = df_cleaned['Responses'].apply(lambda x: len(str(x).split()))\n"
     ]
    }
   ],
   "source": [
    "#  Calculate word count for each Response\n",
    "df_cleaned['word_count'] = df_cleaned['Responses'].apply(lambda x: len(str(x).split()))\n",
    "\n",
    "# Get descriptive statistics for the word count\n",
    "word_count_stats = df_cleaned['word_count'].describe()\n",
    "\n",
    "print(word_count_stats)"
   ]
  },
  {
   "cell_type": "markdown",
   "metadata": {},
   "source": [
    "Train/Validation/Test Split"
   ]
  },
  {
   "cell_type": "code",
   "execution_count": null,
   "metadata": {},
   "outputs": [],
   "source": [
    "# from sklearn.model_selection import train_test_split\n",
    "\n",
    "# train_df, temp_df = train_test_split(df_cleaned, test_size=0.2, random_state=42)  # 80% training data\n",
    "# val_df, test_df = train_test_split(temp_df, test_size=0.5, random_state=42)  # 10% validation, 10% test\n",
    "\n",
    "# print(f\"Training Set: {len(train_df)}\")\n",
    "# print(f\"Validation Set: {len(val_df)}\")\n",
    "# print(f\"Test Set: {len(test_df)}\")"
   ]
  },
  {
   "cell_type": "code",
   "execution_count": null,
   "metadata": {},
   "outputs": [],
   "source": [
    "#Check how many valid responses are left\n",
    "#print(f\"Valid Train Responses: {len([r for r in train_responses if r != ''])}\")\n",
    "#print(f\"Valid Validation Responses: {len([r for r in val_responses if r != ''])}\")\n",
    "#print(f\"Valid Test Responses: {len([r for r in test_responses if r != ''])}\")"
   ]
  },
  {
   "cell_type": "code",
   "execution_count": 237,
   "metadata": {},
   "outputs": [
    {
     "name": "stdout",
     "output_type": "stream",
     "text": [
      "339    [the paper does not acknowledge the catastroph...\n",
      "3      [canvas mission is to em ##power the world to ...\n",
      "18     [the interactive games entertainment associati...\n",
      "133    [king wood mall ##eson ##s welcome ##s the opp...\n",
      "120    [this submission concerns the formation of ai ...\n",
      "Name: Responses, dtype: object\n",
      "33     [the centre for media transition is conducting...\n",
      "235    [this response to the australian government th...\n",
      "82     [crest brings a multi ##dis ##ci ##plin ##ary ...\n",
      "252    [que ##son how can the australian government f...\n",
      "343    [australia post appreciate ##s the opportunity...\n",
      "Name: Responses, dtype: object\n",
      "134    [the financial services council f ##sc welcome...\n",
      "70     [property exchange australia ltd pe ##xa is pl...\n",
      "294    [there exist several potential risks from arti...\n",
      "96     [thank you for the opportunity to respond to t...\n",
      "9      [banks have a history of using technology to i...\n",
      "Name: Responses, dtype: object\n",
      "Empty Train Responses: 0\n",
      "Empty Validation Responses: 0\n",
      "Empty Test Responses: 0\n"
     ]
    }
   ],
   "source": [
    "# # Check the first few responses after cleaning\n",
    "# print(train_df['Responses'].head())\n",
    "# print(val_df['Responses'].head())\n",
    "# print(test_df['Responses'].head())\n",
    "\n",
    "# # Check if there are any empty or None values\n",
    "# empty_train_responses = train_df['Responses'].apply(lambda x: len(x) == 0 if isinstance(x, list) else True)\n",
    "# empty_val_responses = val_df['Responses'].apply(lambda x: len(x) == 0 if isinstance(x, list) else True)\n",
    "# empty_test_responses = test_df['Responses'].apply(lambda x: len(x) == 0 if isinstance(x, list) else True)\n",
    "\n",
    "# print(f\"Empty Train Responses: {empty_train_responses.sum()}\")\n",
    "# print(f\"Empty Validation Responses: {empty_val_responses.sum()}\")\n",
    "# print(f\"Empty Test Responses: {empty_test_responses.sum()}\")\n"
   ]
  },
  {
   "cell_type": "markdown",
   "metadata": {},
   "source": [
    "Embedding Creation"
   ]
  },
  {
   "cell_type": "code",
   "execution_count": 261,
   "metadata": {},
   "outputs": [
    {
     "name": "stdout",
     "output_type": "stream",
     "text": [
      "Embeddings generated successfully!\n"
     ]
    }
   ],
   "source": [
    "from sentence_transformers import SentenceTransformer\n",
    "import torch\n",
    "import numpy as np\n",
    "\n",
    "# Initialize the SentenceTransformer model (all-mpnet-base-v2)\n",
    "model = SentenceTransformer('all-mpnet-base-v2')\n",
    "\n",
    "# Function to generate sentence embeddings\n",
    "def get_sentence_embeddings(text_list):\n",
    "    # Generate sentence embeddings for the text list\n",
    "    return model.encode(text_list, convert_to_tensor=True)\n",
    "\n",
    "# Flatten the list of sentences (Responses are lists of sentences, so flatten them into one list)\n",
    "def flatten_responses(responses):\n",
    "    return [sentence for response in responses for sentence in response]\n",
    "\n",
    "# Ensure `df_cleaned` contains the `Responses` column\n",
    "if 'Responses' in df_cleaned.columns:\n",
    "    # Flatten the Responses column\n",
    "    flat_responses = flatten_responses(df_cleaned['Responses'].tolist())\n",
    "\n",
    "    # Generate embeddings for the flattened responses\n",
    "    flat_embeddings = get_sentence_embeddings(flat_responses)\n",
    "\n",
    "    # Group by ResponseID and apply mean pooling to get one embedding per response\n",
    "    def group_by_response_id(df, embeddings):\n",
    "        response_embeddings = {}\n",
    "        embedding_idx = 0  # Index to track embeddings for sentences\n",
    "\n",
    "        for response_id in df['ResponseID'].unique():\n",
    "            # Get all sentences for the given ResponseID\n",
    "            sentences = df[df['ResponseID'] == response_id]['Responses'].tolist()\n",
    "            \n",
    "            # Flatten the sentences for the ResponseID\n",
    "            sentences_flat = flatten_responses(sentences)\n",
    "            \n",
    "            # Extract corresponding embeddings\n",
    "            num_sentences = len(sentences_flat)\n",
    "            sentences_embeddings = embeddings[embedding_idx: embedding_idx + num_sentences]\n",
    "            embedding_idx += num_sentences\n",
    "            \n",
    "            # Apply mean pooling using PyTorch's .mean() method\n",
    "            response_embeddings[response_id] = sentences_embeddings.mean(dim=0)  # Mean Pooling\n",
    "        \n",
    "        return response_embeddings\n",
    "\n",
    "    # Generate response embeddings for all responses in df_cleaned\n",
    "    response_embeddings = group_by_response_id(df_cleaned, flat_embeddings)\n",
    "\n",
    "    # `response_embeddings` now contains a dictionary mapping ResponseID to its mean-pooled embedding\n",
    "    print(\"Embeddings generated successfully!\")\n",
    "else:\n",
    "    print(\"Error: `Responses` column not found in the DataFrame.\")\n"
   ]
  },
  {
   "cell_type": "markdown",
   "metadata": {},
   "source": [
    "\n",
    "Cosine Similarity Calculation"
   ]
  },
  {
   "cell_type": "code",
   "execution_count": 277,
   "metadata": {},
   "outputs": [
    {
     "name": "stderr",
     "output_type": "stream",
     "text": [
      "Special tokens have been added in the vocabulary, make sure the associated word embeddings are fine-tuned or trained.\n"
     ]
    },
    {
     "name": "stdout",
     "output_type": "stream",
     "text": [
      "\n",
      "Filtered Responses:\n",
      "{501: 0.3214892, 487: 0.28845337, 484: 0.28588706, 459: 0.3135083, 433: 0.4345435, 432: 0.33562458, 428: 0.3259278, 388: 0.22591971, 379: 0.3166092, 368: 0.20993409, 354: 0.307584, 337: 0.3619985, 318: 0.24295926, 288: 0.33239985, 282: 0.20518482, 272: 0.25665125, 270: 0.3357447, 269: 0.29243273, 261: 0.26826602, 254: 0.20108172, 236: 0.32821319, 235: 0.39185894, 222: 0.3081241, 218: 0.20083797, 214: 0.28457117, 167: 0.22784068, 161: 0.20732924, 158: 0.20518467, 118: 0.32784605, 116: 0.33611903, 111: 0.20528916, 71: 0.26874042, 70: 0.27302998, 67: 0.27488136, 65: 0.2516881, 59: 0.3099209, 58: 0.39038882, 53: 0.25899515, 49: 0.21935953, 7: 0.357951}\n",
      "\n",
      "Generated Summary:\n",
      "department of health and aged care welcomes ##s the discussion paper released by the department of industry science and resources di ##sr on safe and responsible ai in australia. artificial intelligence ai is an emerging capability that has the potential to transform wide areas of the economy and improve lives it is expected to have significant impacts in the healthcare sector ai is advancing quickly and will likely generate disrupt ##ive innovation across many parts of society.\n"
     ]
    }
   ],
   "source": [
    "from sklearn.metrics.pairwise import cosine_similarity\n",
    "from sklearn.preprocessing import normalize\n",
    "from sentence_transformers import SentenceTransformer\n",
    "from transformers import T5Tokenizer, T5ForConditionalGeneration\n",
    "\n",
    "# Initialize the SentenceTransformer and T5 models\n",
    "model = SentenceTransformer('all-mpnet-base-v2')\n",
    "t5_tokenizer = T5Tokenizer.from_pretrained(\"t5-small\")\n",
    "t5_model = T5ForConditionalGeneration.from_pretrained(\"t5-small\")\n",
    "\n",
    "# Step 1: Accept User Keywords\n",
    "user_keywords = input(\"Enter keywords for summarization (comma-separated): \")\n",
    "user_keywords = [kw.strip() for kw in user_keywords.split(\",\")]\n",
    "\n",
    "# Step 2: Generate Embeddings for User Keywords\n",
    "keyword_embeddings = model.encode(user_keywords, convert_to_tensor=True)\n",
    "keyword_embeddings_cpu = normalize(keyword_embeddings.cpu().numpy(), axis=1)\n",
    "\n",
    "# Function to calculate cosine similarity\n",
    "def calculate_cosine_similarity(query_embeddings, response_embeddings):\n",
    "    similarities = {}\n",
    "    for response_id, embedding in response_embeddings.items():\n",
    "        # Normalize response embeddings\n",
    "        response_embedding_numpy = embedding.detach().cpu().numpy()\n",
    "        response_embedding_normalized = normalize(response_embedding_numpy.reshape(1, -1), axis=1)\n",
    "        \n",
    "        # Calculate cosine similarity for all user keywords\n",
    "        max_similarity = max(\n",
    "            cosine_similarity(query_embeddings, response_embedding_normalized).flatten()\n",
    "        )\n",
    "        similarities[response_id] = max_similarity\n",
    "    return similarities\n",
    "\n",
    "# Example threshold and fallback count\n",
    "THRESHOLD = 0.2\n",
    "TOP_N = 5  # Fallback: Select top N responses if no responses pass the threshold\n",
    "\n",
    "# Step 3: Calculate cosine similarity between user keyword embeddings and response embeddings\n",
    "response_similarities = {}\n",
    "for response_id, embedding in response_embeddings.items():\n",
    "    # Calculate cosine similarity\n",
    "    response_similarities[response_id] = calculate_cosine_similarity(keyword_embeddings_cpu, {response_id: embedding})[response_id]\n",
    "\n",
    "# Step 4: Filter responses based on threshold\n",
    "filtered_responses = {\n",
    "    response_id: sim for response_id, sim in response_similarities.items() if sim >= THRESHOLD\n",
    "}\n",
    "\n",
    "# Fallback: If no responses pass the threshold, select the top N most similar responses\n",
    "if not filtered_responses:\n",
    "    print(\"\\nNo responses passed the threshold. Using fallback mechanism.\")\n",
    "    filtered_responses = dict(\n",
    "        sorted(response_similarities.items(), key=lambda x: x[1], reverse=True)[:TOP_N]\n",
    "    )\n",
    "\n",
    "# Display filtered responses\n",
    "print(\"\\nFiltered Responses:\")\n",
    "print(filtered_responses)\n",
    "\n",
    "# Step 5: Fetch the filtered responses' text\n",
    "filtered_texts = [\n",
    "    \" \".join(df_cleaned.loc[df_cleaned['ResponseID'] == resp_id, 'Responses'].values[0])\n",
    "    for resp_id in filtered_responses.keys()\n",
    "]\n",
    "\n",
    "# Handle case where no responses are found\n",
    "if not filtered_texts:\n",
    "    filtered_texts = [\"No relevant responses found.\"]\n",
    "\n",
    "# Step 6: Prepare input for T5 summarization\n",
    "input_text = \"summarize: \" + \" \".join(filtered_texts)\n",
    "input_ids = t5_tokenizer.encode(input_text, return_tensors=\"pt\", truncation=True)\n",
    "\n",
    "# Step 7: Generate summary with T5\n",
    "summary_ids = t5_model.generate(input_ids, max_length=200, num_beams=8, length_penalty=1.5, early_stopping=True)\n",
    "summary = t5_tokenizer.decode(summary_ids[0], skip_special_tokens=True)\n",
    "\n",
    "# Display the generated summary\n",
    "print(\"\\nGenerated Summary:\")\n",
    "print(summary)\n"
   ]
  },
  {
   "cell_type": "markdown",
   "metadata": {},
   "source": [
    "Evaluation"
   ]
  },
  {
   "cell_type": "code",
   "execution_count": 266,
   "metadata": {},
   "outputs": [
    {
     "name": "stderr",
     "output_type": "stream",
     "text": [
      "huggingface/tokenizers: The current process just got forked, after parallelism has already been used. Disabling parallelism to avoid deadlocks...\n",
      "To disable this warning, you can either:\n",
      "\t- Avoid using `tokenizers` before the fork if possible\n",
      "\t- Explicitly set the environment variable TOKENIZERS_PARALLELISM=(true | false)\n"
     ]
    },
    {
     "name": "stdout",
     "output_type": "stream",
     "text": [
      "Collecting bert-score\n",
      "  Downloading bert_score-0.3.13-py3-none-any.whl.metadata (15 kB)\n",
      "Requirement already satisfied: torch>=1.0.0 in /Library/Frameworks/Python.framework/Versions/3.11/lib/python3.11/site-packages (from bert-score) (2.3.1)\n",
      "Requirement already satisfied: pandas>=1.0.1 in /Library/Frameworks/Python.framework/Versions/3.11/lib/python3.11/site-packages (from bert-score) (2.1.1)\n",
      "Requirement already satisfied: transformers>=3.0.0 in /Library/Frameworks/Python.framework/Versions/3.11/lib/python3.11/site-packages (from bert-score) (4.42.3)\n",
      "Requirement already satisfied: numpy in /Library/Frameworks/Python.framework/Versions/3.11/lib/python3.11/site-packages (from bert-score) (1.26.1)\n",
      "Requirement already satisfied: requests in /Library/Frameworks/Python.framework/Versions/3.11/lib/python3.11/site-packages (from bert-score) (2.31.0)\n",
      "Requirement already satisfied: tqdm>=4.31.1 in /Library/Frameworks/Python.framework/Versions/3.11/lib/python3.11/site-packages (from bert-score) (4.66.4)\n",
      "Requirement already satisfied: matplotlib in /Library/Frameworks/Python.framework/Versions/3.11/lib/python3.11/site-packages (from bert-score) (3.8.0)\n",
      "Requirement already satisfied: packaging>=20.9 in /Users/shashinimashi/Library/Python/3.11/lib/python/site-packages (from bert-score) (23.2)\n",
      "Requirement already satisfied: python-dateutil>=2.8.2 in /Users/shashinimashi/Library/Python/3.11/lib/python/site-packages (from pandas>=1.0.1->bert-score) (2.8.2)\n",
      "Requirement already satisfied: pytz>=2020.1 in /Library/Frameworks/Python.framework/Versions/3.11/lib/python3.11/site-packages (from pandas>=1.0.1->bert-score) (2023.3.post1)\n",
      "Requirement already satisfied: tzdata>=2022.1 in /Library/Frameworks/Python.framework/Versions/3.11/lib/python3.11/site-packages (from pandas>=1.0.1->bert-score) (2023.3)\n",
      "Requirement already satisfied: filelock in /Library/Frameworks/Python.framework/Versions/3.11/lib/python3.11/site-packages (from torch>=1.0.0->bert-score) (3.15.4)\n",
      "Requirement already satisfied: typing-extensions>=4.8.0 in /Library/Frameworks/Python.framework/Versions/3.11/lib/python3.11/site-packages (from torch>=1.0.0->bert-score) (4.12.2)\n",
      "Requirement already satisfied: sympy in /Library/Frameworks/Python.framework/Versions/3.11/lib/python3.11/site-packages (from torch>=1.0.0->bert-score) (1.12)\n",
      "Requirement already satisfied: networkx in /Library/Frameworks/Python.framework/Versions/3.11/lib/python3.11/site-packages (from torch>=1.0.0->bert-score) (3.2.1)\n",
      "Requirement already satisfied: jinja2 in /Library/Frameworks/Python.framework/Versions/3.11/lib/python3.11/site-packages (from torch>=1.0.0->bert-score) (3.1.4)\n",
      "Requirement already satisfied: fsspec in /Library/Frameworks/Python.framework/Versions/3.11/lib/python3.11/site-packages (from torch>=1.0.0->bert-score) (2024.6.1)\n",
      "Requirement already satisfied: huggingface-hub<1.0,>=0.23.2 in /Library/Frameworks/Python.framework/Versions/3.11/lib/python3.11/site-packages (from transformers>=3.0.0->bert-score) (0.23.4)\n",
      "Requirement already satisfied: pyyaml>=5.1 in /Library/Frameworks/Python.framework/Versions/3.11/lib/python3.11/site-packages (from transformers>=3.0.0->bert-score) (6.0.1)\n",
      "Requirement already satisfied: regex!=2019.12.17 in /Library/Frameworks/Python.framework/Versions/3.11/lib/python3.11/site-packages (from transformers>=3.0.0->bert-score) (2024.5.15)\n",
      "Requirement already satisfied: safetensors>=0.4.1 in /Library/Frameworks/Python.framework/Versions/3.11/lib/python3.11/site-packages (from transformers>=3.0.0->bert-score) (0.4.3)\n",
      "Requirement already satisfied: tokenizers<0.20,>=0.19 in /Library/Frameworks/Python.framework/Versions/3.11/lib/python3.11/site-packages (from transformers>=3.0.0->bert-score) (0.19.1)\n",
      "Requirement already satisfied: contourpy>=1.0.1 in /Library/Frameworks/Python.framework/Versions/3.11/lib/python3.11/site-packages (from matplotlib->bert-score) (1.1.1)\n",
      "Requirement already satisfied: cycler>=0.10 in /Library/Frameworks/Python.framework/Versions/3.11/lib/python3.11/site-packages (from matplotlib->bert-score) (0.12.1)\n",
      "Requirement already satisfied: fonttools>=4.22.0 in /Library/Frameworks/Python.framework/Versions/3.11/lib/python3.11/site-packages (from matplotlib->bert-score) (4.43.1)\n",
      "Requirement already satisfied: kiwisolver>=1.0.1 in /Library/Frameworks/Python.framework/Versions/3.11/lib/python3.11/site-packages (from matplotlib->bert-score) (1.4.5)\n",
      "Requirement already satisfied: pillow>=6.2.0 in /Library/Frameworks/Python.framework/Versions/3.11/lib/python3.11/site-packages (from matplotlib->bert-score) (10.1.0)\n",
      "Requirement already satisfied: pyparsing>=2.3.1 in /Library/Frameworks/Python.framework/Versions/3.11/lib/python3.11/site-packages (from matplotlib->bert-score) (3.1.1)\n",
      "Requirement already satisfied: charset-normalizer<4,>=2 in /Library/Frameworks/Python.framework/Versions/3.11/lib/python3.11/site-packages (from requests->bert-score) (3.3.0)\n",
      "Requirement already satisfied: idna<4,>=2.5 in /Library/Frameworks/Python.framework/Versions/3.11/lib/python3.11/site-packages (from requests->bert-score) (3.4)\n",
      "Requirement already satisfied: urllib3<3,>=1.21.1 in /Library/Frameworks/Python.framework/Versions/3.11/lib/python3.11/site-packages (from requests->bert-score) (2.0.7)\n",
      "Requirement already satisfied: certifi>=2017.4.17 in /Library/Frameworks/Python.framework/Versions/3.11/lib/python3.11/site-packages (from requests->bert-score) (2024.12.14)\n",
      "Requirement already satisfied: six>=1.5 in /Users/shashinimashi/Library/Python/3.11/lib/python/site-packages (from python-dateutil>=2.8.2->pandas>=1.0.1->bert-score) (1.16.0)\n",
      "Requirement already satisfied: MarkupSafe>=2.0 in /Library/Frameworks/Python.framework/Versions/3.11/lib/python3.11/site-packages (from jinja2->torch>=1.0.0->bert-score) (2.1.5)\n",
      "Requirement already satisfied: mpmath>=0.19 in /Library/Frameworks/Python.framework/Versions/3.11/lib/python3.11/site-packages (from sympy->torch>=1.0.0->bert-score) (1.3.0)\n",
      "Downloading bert_score-0.3.13-py3-none-any.whl (61 kB)\n",
      "\u001b[2K   \u001b[90m━━━━━━━━━━━━━━━━━━━━━━━━━━━━━━━━━━━━━━━━\u001b[0m \u001b[32m61.1/61.1 kB\u001b[0m \u001b[31m2.6 MB/s\u001b[0m eta \u001b[36m0:00:00\u001b[0m\n",
      "\u001b[?25hInstalling collected packages: bert-score\n",
      "Successfully installed bert-score-0.3.13\n",
      "\n",
      "\u001b[1m[\u001b[0m\u001b[34;49mnotice\u001b[0m\u001b[1;39;49m]\u001b[0m\u001b[39;49m A new release of pip is available: \u001b[0m\u001b[31;49m24.1.1\u001b[0m\u001b[39;49m -> \u001b[0m\u001b[32;49m24.3.1\u001b[0m\n",
      "\u001b[1m[\u001b[0m\u001b[34;49mnotice\u001b[0m\u001b[1;39;49m]\u001b[0m\u001b[39;49m To update, run: \u001b[0m\u001b[32;49mpip install --upgrade pip\u001b[0m\n",
      "Note: you may need to restart the kernel to use updated packages.\n"
     ]
    }
   ],
   "source": [
    "pip install bert-score"
   ]
  },
  {
   "cell_type": "code",
   "execution_count": 278,
   "metadata": {},
   "outputs": [],
   "source": [
    "# Combine the text of the filtered responses into a single reference string\n",
    "filtered_reference = \" \".join([\n",
    "    \" \".join(df_cleaned.loc[df_cleaned['ResponseID'] == resp_id, 'Responses'].values[0])\n",
    "    for resp_id in filtered_responses.keys()\n",
    "])\n",
    "\n"
   ]
  },
  {
   "cell_type": "code",
   "execution_count": 280,
   "metadata": {},
   "outputs": [
    {
     "name": "stdout",
     "output_type": "stream",
     "text": [
      "\n",
      "Filtered Reference Text:\n",
      "the department of health and aged care the department welcome ##s the discussion paper released by the department of industry science and resources di ##sr on safe and responsible ai in australia and provides the following submission artificial intelligence ai is an emerging capability that has the potential to transform wide areas of the economy and improve lives it is expected to have significant impacts in the healthcare sector ai is advancing quickly and will likely generate disrupt ##ive innovation across many parts of society which has witnessed significant advancement ##s and applications of ai in recent years ai experts journalists policy makers and the public are increasingly discussing a broad spectrum of important and urgent risks from ai the centre for ai safety recently called for global coordination to mit ##igate these risks ##i and the digital health cooperative research centre having recently developed a comprehensive ethical framework for the responsible design development and use of genera ##tive ai technology in health and medicine ##ii any future regulation will need to balance the need to ensure patient safety and the need to maintain the security of protective sensitive health information and community trust with the health and economic benefits that may be realised from ai innovation the department supports the development and implementation of policies and governance that promote safe and responsible ai in australia as healthcare delivery occurs at different levels of government a national approach to ai governance which includes sectors ##pe ##ci ##fi ##c governance of ai in healthcare is desirable to ensure alignment in policy and legislative development clinical safety and public health delivery prior ##itis ##ation the success of ai in healthcare will depend on national leadership to maintain trust and ensure these systems are safe reliable and understand ##able in how they work the responsible adoption of ai in government en ##tails developing comprehensive policies foster ##ing trust and partnerships and implementing strategies that communicate the benefits and regulate the use of ai effectively in various sectors the department would like to see a well ##in ##formed ethical and comprehensive approach to ai integration in the health sector by understanding and managing risks foster ##ing inc ##lus ##ivity and ensuring accountability the responsible ut ##ilis ##ation of ai technologies can contribute significantly to advancing healthcare and aged care services in australia this would be complement ##ed by further education and training in relation to ai for the health workforce policy makers and the broader australian public ##aus ##tral ##ians have high expectations of the department in the handling of sensitive information including defining what data can be shared with whom and under what circumstances given this role in data sharing the department advocates for regulatory reforms and integration of ai ##sp ##ec ##ific regulations within existing acts this would provide an avenue to harness the benefits of ai while effectively managing its risks and protecting the integrity of healthcare information australian red cross has been a critical part of australian life since and is established by royal charter of as an auxiliary to australia ##s public authorities in the humanitarian field including during emergencies and armed conflict australian red cross is one of national red cross and red crescent societies that together with the international committee of the red cross ic ##rc and international federation of red cross and red crescent societies if ##rc make up the international red cross and red crescent movement the movement the movement is guided at all times and in all places by seven fundamental principles humanity imp ##art ##ial ##ity neutrality independence voluntary service unity and universal ##ity these principles sum up our ethics and are at the core of our mission to prevent and alleviate suffering here in australia our core areas of expertise include emergency services migration international humanitarian law international programs and community programs australian red cross bears witness to the range of vu ##ln ##era ##bilities diverse people and communities experience by working alongside those impacted australian red cross understands their unique strengths and perspectives in australian red cross established human ##ite ##ch with support from founding partner tel ##stra foundation to build stronger and more res ##ili ##ent communities by using technology to increase accessibility scale and impact of humanitarian services lever ##aging red cross expertise and operational reach human ##ite ##ch creates opportunities for technology private sector government and communities to work together to identify new ways to harness technology that benefits all australians including those experiencing vulnerability ##aus ##tral ##ian red cross human ##ite ##ch brings this community centred practice into an industry research partnership with the australian research council centre of excellence for automated decision ##making and society ad ##ms centre and through formal forums including as a member of the ut ##s human technology institute expert reference groups on facial recognition technology and ai as a co ##fo ##under of the an ##u cyber ##net ##ics practitioner network and as a contributor to the australian human rights commission human rights and technology project the australian psychological society ap ##s appreciate ##s the opportunity to respond to the commonwealth department of industry science and resources discussion paper about safe and responsible ai in australia rather than addressing the questions in the discussion paper in detail many of which are outside of the re ##mit of the ap ##s we have provided broader insights and recommendations about safe and responsible ai the ap ##s is the leading professional body for psychologists in australia we are dedicated to advancing the scientific discipline and ethical practice of psychology and work to realise the full human potential of individuals organisations and their communities through the application of psychological science and knowledge we are informed in our work by the united nations sustainable development goals which champion inc ##lus ##ivity social equity and the empowerment of marginal ##ised and vulnerable groups to this end we advocate on behalf of our diverse profession and community for the meaningful design and reform of australian health education and other systems that impact our society ai is one such system that has been aug ##ment ##ing and impact ##ing many aspects of our lives for decades with the latest tran ##che of genera ##tive ai and the anticipated speed of further ai development ethical and safety concerns are giving rise to society ##wide questions about protections that are needed to ensure privacy transparency and equity to eng ##end ##er trust in ai the ap ##s believes that ai has the potential to re ##ap considerable benefits for humanity including improved health well ##bei ##ng and human potential artificial intelligence is already having a significant impact on mental health care e ##g safeguard ##ing mechanisms must however keep up with ai advancement ##s to keep individuals and society safe our position is that psychologists possess extensive expertise to contribute to this subject and must play a key role in the development of rapidly evolving ai technologies and shaping the guard ##rail ##s that govern their use in australia acknowledge ##ment of aboriginal and torres strait islander people we acknowledge the traditional owners of australia and their ongoing strength in pr ##act ##ising the worlds oldest living culture we acknowledge the traditional owners of the lands and waters on which we live learn play and work and we acknowledge that sovereign ##ties of these lands and waters were never ceded we pay our respects to traditional owners elders past and present and commit to supporting them and indigenous emerging leaders to create more e ##quitable healthy and safe workplace ##s for all australians and in particular for those most disadvantaged about us the australian institute of health and safety ai ##hs is the national association for people who work in general ##ist health and safety roles practitioners and professionals the ai ##hs represents more than occupational health and safety oh ##s practitioners and professionals in victoria and more than nationally beyond our membership we advocate for the people who work in health and safety across australia in july our name changed from the safety institute of australia to emphasis ##e the importance of occupational health as well as safety for more than years we have worked towards our vision of safe and healthy people in productive workplace ##s and communities our voice as a profession and association of health and safety experts is often distinct from those of government employers and workers our focus is on the science evidence and risk ##base ##d practice of oh ##s to create safer and health ##ier workplace ##s as the peak body representing those who advise workplace stakeholders on oh ##s risks including those related to artificial intelligence ai and automated decision ##making ad ##m we thank you for the opportunity to contribute the royal aus ##tral ##asian college of medical administrators ra ##cm ##a is unique as a provider of medical management and leadership qualifications as it is the only specialist medical educator whose programs are recognised for the granting of specialist registration in medical administration the fellowship training program offered by ra ##cm ##a is accredited by the australian medical council and the new zealand medical council fellows of our college are recognised as medical specialists our education programs are aimed at e ##qui ##pping doctors with the leadership and management skills needed to influence and lead the aus ##tral ##asian health care systems with the clear aim of improving health outcomes of australians and new zealand ##ers the value of ra ##cm ##a is its members who strive to lead for change and positive outcomes for all australians new zealand ##ers and peoples in all parts of the world in which their members practice demonstrating their skills in key areas such as system leadership clinical governance financial management workforce management and professional leadership ra ##cm ##a members fill key roles in all aspects of health including government the public private and not ##for ##pro ##fi ##t sectors their roles are diverse including chief executives chief medical officers heads of departments clinical inform ##atic ##ians and academics informing influencing and making key decisions about system clinical governance and quality including clinical inform ##atics who the medical software industry association ms ##ia represents the interests of over australian companies to enable a vibrant more efficient effective health system for australians ms ##ia members provide health software to all sectors of australia ##s healthcare market to enable the collection delivery management and storage of health information including administration and payment systems australia ##s healthcare depends on our members systems which are integral to healthcare delivery what digital health software powers healthcare delivery consumer access and importantly supports major reforms in our health and care sector in australia health software has genuinely replaced the ste ##th ##os ##cope as the most important single tool for clinic ##ians and plays an increasingly important role in australia ##s health equity ##i productivity economy and export with significant future potential why we are responding the use of ai is well established in the health industry examples include general practice clinical information systems which routinely include it for drug interaction checks suggestions for prevent ##ative health and logic to improve medicare compliance this early adoption in health which is arguably one of the most high ##ris ##k areas makes healthcare a useful area to focus on in an assessment of ai regulation virtually every interaction demands a balancing of risks and benefits to humans and sometimes communities by all participants this cal ##ib ##ration demands a regulatory framework which reflects the full scale of risks and benefits and will avoid retrospective over ##re ##gul ##ation of existing safe evidence ##base ##d applications of ai the ms ##ia advocates for risk ##base ##d regulation together with transparency so that the proven ##ance of ai outputs is appropriately managed in a risk ##base ##d framework where the risks are higher the on ##us to be able to present information for an audit trail may be required versus simple low ##ris ##k tasks for instance in the simple examples of ai use provided above the proven ##ance may be guidelines from the australian commission for safety and quality in health care ac ##s ##q ##hc in areas of serious risk say surgery an audit trail may be required mt ##aa welcome ##s the opportunity to comment on the safe and responsible ai in australia discussion paper australia has a proud record in medical device technology innovation artificial intelligence ai and machine learning ml play an integral part in a growing number of med ##tech related products and services in order to provide a regional perspective of ai in med ##tech mt ##aa has welcomed the input of ap ##ac ##med into this response to the discussion paper the department of industry science and resources has recognised the opportunity to place australia as world leader in the responsible use of ai ai is poised to offer advantages across all sectors of the economy and to public and private organisations of all sizes mt ##aa appreciate ##s the chance to provide input on the specific ai aspects that affect the healthcare sector and med ##tech industry as recognised in the recently released mt ##aa digital health report digital health breaking barriers to deliver better patient outcomes current applications of aim ##l in healthcare including clinical decision ##making remote monitoring and robotic surgical procedures are seeing substantial growth aim ##l were identified as part of the anticipated regulatory applications via the therapeutic goods administration t ##ga over the next five years for of the mt ##aa digital health survey respondents the use of ai and ml in healthcare poses new regulatory challenges and there is need for regulation to evolve to address sector risk mt ##aa believe that the existing medical device regulators such as the t ##ga are best placed to incorporate emerging aim ##l regulation within their existing medical device assessment framework ##s aim ##l is not new to healthcare with many medical devices already ut ##ilis ##ing technologies approved by t ##ga existing t ##ga medical device regulatory requirements are technology ##ag ##nostic for software ##base ##d medical devices and apply when incorporating components like aim ##l as part of the therapeutic good act because of the unique complex and highly regulated nature of medical technology any broad regulation of ai even regulation of ai aimed at the medical industry generally could have un ##int ##ended consequences for patient outcomes and the medical technology industry it is important that ##su ##bs ##tan ##tial consultation with the medical technology industry occurs regarding any proposed regulation the responses and comments provided within this document are an amalgamation of comments from some of the mt ##aa member companies in particular members of the digital health related groups the mt ##aa digital health advisory group and cyber security working group from a regional perspective responses and comments were provided by ap ##ac ##med members who are part of the regulatory digital working group scarlet alliance is the australian sex workers association through our objectives policies and programs scarlet alliance aims to achieve equality social legal political cultural and economic justice for past and present workers in the sex industry formed in scarlet alliance australian sex workers association is the national peak sex worker organisation our membership includes state and territory ##base ##d and national sex worker organisations and individual sex workers throughout un ##cede ##d australia scarlet alliance uses a multi ##face ##ted approach to strive for equality justice and the highest level of health for past and present workers in the sex industry we achieve our goals and objectives by using best practices including peer education community development community engagement and advocacy scarlet alliance is a leader when it comes to advocating for the health safety and welfare of workers in australia ##s sex industry through our work and that of our member organisations and projects we have the highest level of contact with sex workers and access to sex industry workplace ##s throughout australia of any agency scarlet alliance represents sex workers on a number of government and non ##go ##vern ##ment committees and advisory mechanisms in recent years and particularly since the beginning of the co ##vid pan ##de ##mic many sex workers also now engage in online forms of sex work as we na ##vi ##ga ##ge an increasingly pre ##car ##ious labour environment and need to divers ##ify our income streams sex workers also use online tools to create and distribute health information harm reduction resources and share safety strategies alongside an expansion of sex work in online spaces in ##person sex work also increasingly relies on internet technologies like other workers and businesses sex workers increasingly rely on internet technologies to carry out everyday business activities such as advertising communications payment processing and other services that have moved to digital ##vir ##tua ##l service delivery as sex workers join workers and businesses in every industry in facing increased reliance on online technologies the discrimination and stigma experienced by our community when access ##ing in ##person banking and other services has also shifted online as such the governance and regulation of online spaces and digital technologies are opportunities to either address or replicate the barriers stigma and discrimination faced by sex workers in australia and globally while the safe and responsible ai in australia discussion paper notes that the implications of artificial intelligence ai and automated decision ##making ad ##m on work and labour markets are beyond the scope of this inquiry technology governance and regulatory measures can directly impact sex worker well ##bei ##ng and safety due to the both the far ##rea ##ching consequences of overseas legislation and recent developments in australian internet regulation sex workers in australia are experiencing rapid loss of access to online technologies through crude content mode ##ration practices and disc ##rim ##inatory ad ##m as corporations particularly in the finance and technology sectors respond to an increasing scope of legal liability to combat trafficking prevent money ##lau ##nder ##ing and protect vulnerable people online this submission is focus ##sed towards how the governance and regulation of ai and ad ##m in australia may impact sex workers and how regulation of new and emerging technologies must promote fairness equity of access data autonomy and privacy for all people in australia sex workers have been identified as being consistently the test population for novel surveillance technologies and as can ##aries in the coal mine when it comes to new measures of censorship and control our lived experiences reveal the failures in corporate policy and state regulatory approaches to respond to the economic free ##sp ##ee ##ch and privacy needs of sex workers across un ##cede ##d australia and globally leading our community to lose access to income safety tools and strategies and vital peer connections thank you for the opportunity to provide input into evolving policy for the safe and responsible use of ai this submission is made on behalf of the australian alliance for ai in healthcare aaa ##ih a national community of practice with over member organisations drawn from industry health service providers academia and consumer organisations aaa ##ih and its partners including the aus ##tral ##asian institute of digital health aid ##h and the digital health cr ##c dh ##cr ##c are currently engaged in a policy development program for the safe and effective use of ai in healthcare the process began with a national consultation on ai priorities for healthcare in which attracted responses that body of work is documented in the aaa ##ih ##s ai road ##ma ##p for healthcare which is attached to this submission as an appendix the road ##ma ##p identified priority areas covering issues such as ai safety and security industry development and workforce and made specific recommendations more recently we have undertaken to ref ##resh and sharpe ##n this work with a focus on identifying core policy targets over the next few years we will hold a chatham house rules workshop in sydney on august to explore an updated draft set of policy recommendations and will have attendees from di ##sr as well as federal and state departments of health and representatives from key stake ##holder and regulatory bodies we intend to launch the final policy recommendations emerging from the workshop later this year ##our submission for this consultation is a draft set of policy recommendations developed with the assistance of the aaa ##ih membership the dh ##cr ##c and the aid ##h these draft recommendations will be given consideration at our august workshop we therefore anti ##ci ##pate the recommendations will evolve over the next few months we would welcome the opportunity to update the department of industry science and resources over this period as our recommendations take their final form the national emergency communications working group australia and new zealand nec ##wg ##an ##z is recognised and respected nationally and globally for its professional leadership and advisory functions that support australia and new zealand ##s emergency communications sectors the nec ##wg ##an ##z ##s purpose is to improve community safety outcomes through advocating and ##or influencing change for the emergency call services ec ##s of australia and new zealand in a timely manner to support planning and the impacts of more immediate challenges the nec ##wg ##an ##z has working relationships with the department of infrastructure transport regional development communications and the arts di ##tr ##dc ##a and the australian communications media authority ac ##ma in support of the operation and development of the ec ##s while the nec ##wg ##an ##z notes individual jurisdictions or agencies may respond directly and in relation to their specific considerations this submission in response to the discussion paper for supporting responsible ai is primarily focus ##sed on the general implications for the ec ##s comprising the national emergency call person ec ##p and the emergency service organisations es ##os the providers of services to the ec ##s and the community as users of the ec ##s the nec ##wg ##an ##z is part of a global collaboration forum for emergency communications that includes europe united kingdom united states south america and canada and which has been monitoring progress in both ai development and policy internationally es ##os have been using forms of ai for many years including automatic number plate recognition and algorithms to identify medical critical ##ity however with the rapid development of intelligent systems the opportunities available to es ##os and the community to enhance emergency communications services there is a need for active discussion on the access to and application of these technologies roche welcome ##s the opportunity to provide a submission to the department of industry science and resources discussion paper on safe and responsible ai in australia roche supports the australian governments ambitions to be a leader in the responsible use of artificial intelligence ai and the process of consultation by seeking broad advice on the steps the government can take to mit ##igate the potential risks roche is a global pioneer in pharmaceuticals and diagnostic ##s focused on advancing science to improve peoples lives the combined strengths of pharmaceuticals and diagnostic ##s as well as growing capabilities in the area of data ##drive ##n medical insights help roche deliver truly personal ##ised healthcare roche is working with partners across the healthcare sector to provide the best care for each person central to roche ##s strategy is a focus on personal ##ised healthcare which is a shift from ones ##ize ##fi ##tsa ##ll approach to disease to maintaining health throughout ones life by applying the right health interventions for the right person at the right time to enable personal ##ised healthcare roche is developing and partnering on digital health solutions like ai which will deliver the benefits to australian patients providers and the health system as a whole roche is uniquely positioned to apply ai and machine learning ml to dramatically accelerate and transform our research into the development of new therapeutic ##s diagnostic ##s and treatments at roche we work alongside some of the largest data ##set ##s and data generation capabilities which our scientists use to train and opt ##imi ##se ml algorithms to g ##lean new insights this is for targeting drug discovery answering fundamental questions about human biology and disease and creating a lab ##inal ##oop this is where experimental data feeds computational models that make new experimental ##ly test ##able predictions allowing for it ##erative development of better the ##ra ##pies including tack ##ling targets and diseases that we could not previously address over a patients journey with the health system thousands of data points are created and these data will help identify changes in their health and enable tracking of similar patient groups across institutions and geo ##graph ##ies through ai and ml this will eventually allow for comparison of outcomes as well as predict ##ive measures our digital solution for pathology now delivers high ##res ##ol ##ution digital images of tissue samples even faster as the evaluation is not carried out using a microscope but electronically ai makes it easier to dia ##gno ##se cancer and enables more targeted and effective treatment for the patient concerned concerns about the sustainability of healthcare spending can include in ##ef ##fi ##cie ##ncies at the point of care to the rising cost of innovative treatments to the ina ##de ##qua ##cy of end ##of ##life care roche would contest that there needs to be a more precise evidence ##base ##d ho ##listic approach to health that is tailored to individuals helps patients achieve better outcomes and can be sustained over the long term through increased system efficiency ai based solutions have the potential to support healthcare to become more efficient through personal ##ising healthcare while the discussion paper is looking to identify potential gaps in the existing domestic governance landscape it must not lose sight of the enormous patient benefit that this new technology can bring roche believes that any new governance mechanisms must take a balanced approach to the potential risks and benefits of the use of this new technology ramsay health care r ##hc provides quality healthcare through a global network of clinical practice teaching and research r ##hc ##s global network extends across ten countries with over eleven million admissions and patient visits to facilities in more than locations r ##hc ##a has over private hospitals and day surgery units in australia and is australia ##s largest private hospital operator employing more than people firstly r ##hc ##a is concerned the paper mentions this consultation does not seek to consolidate or replicate the development of existing general or sectors ##pe ##ci ##fi ##c regulations and governance initiatives across the australian government and only seeks to identify potential gaps and whether additional ai governance mechanisms are required page the paper itself notes many of these issues are cross ##cut ##ting and related to a broad range of issues page the government may wish to consider task ##ing the regulatory reform division department of finance formerly the der ##eg ##ulation task ##force department of the prime minister and cabinet to undertake this work given the division has undertaken similar reviews such as health practitioner regulatory settings automatic mutual recognition of occupation licence ##s and ex ##cise and ex ##cise ##e ##qui ##valent goods system secondly r ##hc ##a strongly recommends this work align ##s with the australian governments broader policy platform including the work being undertaken by the attorney ##gen ##eral ##s department the digital transformation agency the national science and technology council ns ##tc and the national ai centre interesting ##ly the ns ##tc provided a rapid response information report on genera ##tive ai in march it is strongly encouraged the government establishes inter ##de ##par ##tment ##al committees id ##c at least at the deputy secretary level to progress and ensure the successful development of ai policy third ##ly r ##hc ##a recommends the australian government appoint a particular department or agency such as the national ai centre to be responsible for australia ##s general ai policy given it has been identified as a critical technology in australia ##s interest other departments could then develop sectors ##pe ##ci ##fi ##c regulations in coordination with the lead agency as required it would also be paramount this lead agency works with state and territory governments private not ##for ##pro ##fi ##t and academia to ensure a national consistent approach is developed to address ai fourth ##ly r ##hc ##a recommends the australian government harmon ##ise and sim ##plify existing legislation and regulations commonwealth state territory to ensure there is a consistent approach to ai including related obligations and requirements stream ##lining and sim ##plify ##ing regulation to promote its effectiveness should be a priority for the government rather than introducing additional regulations to an already complex and burden ##some system for the private sector the australian government should continue to engage in international forums in consultation with the department of foreign affairs and trade such as the g o ##ec ##d united nations word trade organisation and world economic forum this engagement can support domestic responses and avoid du ##plication of work being undertaken at a global level lastly r ##hc ##a can bring a global perspective to this conversation given the ramsay group has operations across the united kingdom european union asia and australia r ##hc ##a would be happy to contribute its perspective by participating in future consultation ##s including round ##table ##s it is important the government takes learning ##s from overseas rather than duplicate and re ##work significant progress which could be implemented within australia aa ##ng ##uk ##u arts and cultural aboriginal corporation ku arts is the south australian peak body for aboriginal artists and art centres since we have been providing advocacy support services creative skills and professional development opportunities for artists and arts workers across all stages of their careers in support of a strong and vibrant aboriginal and torres strait islander visual arts sector strong arts strong culture strong communities is the vision that has guided our organisation since forming years ago and it remains our driving force today our vision recognise ##s the sy ##mb ##iot ##ic relationship that arts and culture have with individual and community health education and well ##bei ##ng participation in cultural activities has an intrinsic relationship with the creative practices of aboriginal artists the royal australian college of general practitioners ra ##c ##gp appreciate ##s the opportunity to provide a response to the departments discussion paper safe and responsible ai in australia rather than addressing the specific questions in the consultation paper many of which are outside of the re ##mit of the ra ##c ##gp we provide high level feedback and recommendations the ra ##c ##gp is the voice of general practitioners gps throughout australia we support the centre of australia ##s health system by setting the standards for education and practice and advocating for better health and well ##bei ##ng for all australians we cult ##ivate a strong profession by developing resources and guidelines to support gps provide their patients with world ##class healthcare and help with the unique issues that affect their practices our position statement on artificial intelligence in primary care outlines the significant challenges posed by use of ai technologies to the delivery of medicine our position statement on electronic clinical decision support also includes recommendations relevant to ai in short our view is that ai has the potential to revolution ##ise the delivery of medicine and regulation must keep pace with these technologies to keep patients safe further gps must be included and involved in the development and implementation of relevant ai technologies as well as the regulatory approaches that govern their use in australia as gps see more than two million patients each week with almost nine in ten people consulting a gp every year gp involvement is crucial in ensuring ai technologies in healthcare are safe to use and fit ##for ##pur ##pose the ut ##ilis ##ation of expertise of gps in the design testing implementation regulation and post ##market surveillance of relevant ai products will give the best hope these technologies are appropriate for use with patients by clinic ##ians in the australian primary care setting for this reason while the ra ##c ##gp supports the risk ##base ##d approach to governance outlined in the discussion paper we suggest that gps must be involved in assessing and quan ##tify ##ing relevant risks as touched upon in the discussion paper using un ##re ##pres ##ent ##ative data ##set ##s to train ai systems can introduce bias into ai decision ##making a problem that can have del ##eter ##ious consequences in medicine including mis ##dia ##gno ##sis and under ##dia ##gno ##sis and can ex ##ace ##rba ##te health inequality however as noted the solution to this issue is the use of large high ##qual ##ity data ##set ##s for ai training and these can only be built with the knowledge and consent of patients who have a right to privacy and security of their health data which might be both personal and sensitive gps have insights into these problems that would be useful to policy ##makers and ##or regulators gp involvement in risk identification might help prevent the appearance of new and un ##for ##ese ##en problems of safety and quality that arise after implementation gp involvement is also likely to be key in building trust in and up ##take of ai systems within the primary care setting the ra ##c ##gp is supportive of a risk ##base ##d approach for responsible ai to be mandated through regulation which should be applied to ai developers while there is potential for ai to present technological advancement ##s that save and enhance patients lives the risks to patient safety inherent to many medical ai applications and potential for related liability to the clinic ##ian are significant simply en ##trust ##ing industry to adhere to a voluntary code of ethics is not enough where there are potential gaps in existing legislation governing high ##ris ##k ai use moreover passing the burden of adherence to ai regulation to general practice would disadvantage a sector already under considerable time and financial pressures the ra ##c ##gp would support cross ##ind ##ust ##ry development of a framework for the use of ai in medical settings where gps have a seat at the table and can bring their vast knowledge to bear on this topic we would welcome the opportunity to collaborate on such a project in summary our key recommendations are a risk ##base ##d approach for responsible ai be mandated through regulation an oversight body be established to develop a framework and oversee and monitor developments in healthcare ai gps must be included and involved in the development implementation and regulation of ai technologies relevant to general practice women with disabilities australia w ##wd ##a welcome ##s the opportunity to respond to the australian governments safe and responsible ai in australia discussion paper discussion paper w ##wd ##a com ##men ##ds the government on its efforts to ensure that the use of artificial intelligence ai in australia is safe and responsible and subject to robust governance w ##wd ##a welcome ##s the opportunity to contribute to the discussion on how the use of artificial intelligence will impact how people with disability experience australian public services as the consultation paper identifies the safe ethical and responsible use of ai presents significant opportunities for australia to improve economic and social outcomes this includes by providing opportunities to advance disability rights in particular through the use of assist ##ive technologies however the increased use of ai also poses significant risks as the united nations special rap ##port ##eur on the rights of persons with disabilities has written in a recent report while many of these risks are shared with other groups some are unique to people with disabilities there is therefore an urgent need for consideration of the balance of risks and opportunities presented by ai in the context of disability the university of newcastle welcome ##s the opportunity to provide feedback our university has several experts working in the broader area of ar ##fi ##cial intelligence ai including in machine learning ml smart robots neural inform ##ao ##n processing digital health pat ##ern rec ##og ##nio ##n and law specifically in the areas of the inter ##se ##con of technology and law our experts col ##lated feedback is reflected in the responses to select que ##sons que ##son do you agree with the def ##ini ##ons in this discussion paper if not what def ##ini ##ons do you prefer and why the def ##ini ##on of ai under the sub ##head ##ing technologies is appropriate given the complexity of defining this terminology and its basis on the iso def ##ini ##on the def ##ini ##on is however restricted because it refers to human ##de ##fine ##d ob ##je ##c ##ves however a fully autonomous ai system could develop its own ob ##je ##c ##ves or follow the ob ##je ##c ##ves of other ai systems the def ##ini ##on of ml could be rep ##hra ##sed to refer to algorithms methods or the field rather than pat ##ern ##s university of newcastle researchers advise they some ##mes use the following two short def ##ini ##ons although they are also restricted the field of ai tries to make computers do things that when done by people are described as having indicated intelligence brooks r new approaches to rob ##oc ##s science ml addresses the study of computer algorithms that improve auto ##mac ##ally through experience inspired by tom mitchell for the purposes of the report a general def ##ini ##on of ai alone may be inadequate because the field of ai comprises many different techniques with different proper ##es where safe and responsible use may require different approaches and reg ##ula ##ons to discuss possible risks and associated ethical or legal imp ##lica ##ons of the various forms of ai it may be useful to di ##s ##ng ##uis ##h between different types of ai the australian digital health agency the agency thanks the department of industry science and resources for the opportunity to provide a submission on the safe and responsible ai in australia discussion paper the agency supports the development and implementation of policies and governance that promote safe and responsible artificial intelligence ai in australia ai has immense potential to revolution ##ise healthcare in australia to improve patient ##cent ##red care and workforce productivity and contribute to the sustainability of quality healthcare used safely with sound clinical governance in place ai ##ena ##bled health services can deliver significant benefits through advanced capability to assess patterns in data and medical imaging to assist with dia ##gno ##ses manage patient flows in hospitals based on type of medical emergency bed capacity and daily patient loads and support clinical decision ##making the success of ai in healthcare will depend on national governance and leadership to maintain trust and ensure these systems are safe reliable and understand ##able in how they work the agency recommends that any new governance arrangements around ai general or sectors ##pe ##ci ##fi ##c should strike a balance between the need to ensure consumer safety and the need to maintain the security of sensitive information and community trust with the health and economic benefits that ai innovation can provide ##as healthcare delivery occurs at different levels of government a national approach to ai governance particularly for the development and up ##take of ai in the health sector is desirable to ensure alignment in policy and legislative development clinical safety and public health delivery prior ##itis ##ation background in june the department of industry science and resources announced a consultation on steps australia can take to mit ##igate the potential risks of ai accompanied by a discussion paper research australia ##s submission in response to the discussion paper addresses some of the questions posed in the discussion paper definitions do you agree with the definitions in this discussion paper if not what definitions do you prefer and why yes research australia is the peak body for the australian health and medical research and innovation sector our submission is focus ##sed on ai in medical products therapeutic goods and the potential use of ai in health more broadly for example to inter ##rogate medical records potential gaps in approaches what potential risks from ai are not covered by australia ##s existing regulatory approaches do you have suggestions for possible regulatory action to mit ##igate these risks the t ##ga has an existing regulatory framework for medical devices which incorporates ai research australia is also aware the department of health and aged care is developing a regulatory impact statement focused on gp data and electronic clinical decision support ec ##ds ##ther ##e are potentially other areas of healthcare where ai could be applied for example medical records held by hospitals where consideration of the risks associated with healthcare have yet to be considered we at not ##cent ##ral ##ised are pleased to contribute to the ongoing dialogue on the safe and responsible use of art ##icia ##l intelligence ai in australia as a pioneering organisation in the el ##d of emerging technologies we believe that our unique insights and experience can add valuable perspectives to this important discussion not ##cent ##ral ##ised is a dynamic entity that operates at the intersection of block ##chai ##n and ai technologies we are the proud orchestra ##tors of two vibrant communities the aus def ##i association which explores the potential of block ##chai ##n technology and the data science and ai association of australia ds ##ai which del ##ves into ai and machine learning innovations our work extends beyond these communities as we collaborate with companies ut ##ilis ##ing block ##chai ##n and ai technologies and develop proprietary products within this bu ##rgeon ##ing sector ##our portfolio includes a diverse range of projects and we have established strong collaborations with federal and state governments notably we were one of the pilot projects for the reserve bank of australia ##s central bank digital currency cb ##dc initiative we also play a sign ##ica ##nt role in the new south wales government task ##force on data digital and ai further solid ##ifying our in ##uen ##ce and expertise within the emerging technology sector in the healthcare domain we leverage cutting ##edge ai tools to design private gp ##t models that enhance patient outcomes while uphold ##ing data privacy we also develop business ##grade gp ##t use cases tailored to spec ##ic roles ensuring that access to sensitive business information is strictly controlled guided by the united nations convention on the rights of the child cr ##c and informed by our work lever ##aging artificial intelligence ai to improve the lives of children around the world unicef australia welcome ##s the opportunity to provide a submission to the consultation on safe and responsible ai in australia today ##s children are the first generation that will never know a world without smartphone ##si their lives will be en ##mes ##hed with digital technologies in a way that no other generation before them has experienced and ai will per ##me ##ate through this increasingly digital world as it already does in so many ways for children and for society more broadly the opportunities presented by ai are exciting and almost unlimited from improving children ##s access to life saving healthcare to the vast economic boon it may offer estimates place the potential additional economic output that ai systems will deliver at roughly us trillion by ii unicef recognise ##s this potential particularly for the role it can play in supporting children ##s development which is why we already leverage ai systems to predict the spread of diseases map digital connectivity in schools and produce better poverty estimation thus improving our programming ##iii ai is undoubtedly a force for innovation which can likely help us achieve the sustainable development goals but it also poses risks to children ##s safety privacy and security ##iv this could present as discrimination and bias in systems trained on children ##s data that work unnoticed at great scale ##v or ai ##ass ##iste ##d cyber security breach ##es that place children at risk of ex ##tort ##ion as with most things children face increased vulnerability compared with adults particularly as the negative impacts they potentially face compound over their comparatively longer ##li ##ves lived in both online and off ##line worlds thankfully as the discussion paper for this consultation identifies there is a real opportunity for australia to be a leader in responsible ai due to our cutting ##edge research capabilities world ##lea ##ding esa ##fe ##ty commission and early adoption of ai ethics principles framework ##s ##vi we have an opportunity now to guide the development and deployment of ai systems which work in the best interests of every australian and especially for some of our most vulnerable in children unicef ##s global research is particularly useful in this regard and our policy guidance on ai for children art ##iculate ##s a series of foundations and requirements for child ##cent ##red ai this guidance can help ensure that ai systems are developed deployed and governed in a way which ensures children ##s protection e ##quitable provision for all their rights and em ##power ##s them to participate in an increasingly aide ##pen ##dent world government and industry alike have a role to play in guiding ai systems in this way and in doing so can help realise the enormous opportunities that ai offers for every child everywhere medicines australia welcome ##s the opportunity to respond to the department of industry science and resources consultation on artificial intelligence ai as the peak body representing the innovative pharmaceutical industry in australia our response will focus primarily on ai in healthcare ai has the potential to significantly improve the lives of australians in many ways not the least of which is in the diagnosis treatment and management of health conditions however as with all technologies used to improve or maintain health ai not only has the potential for great benefit but also the risk of harm which needs to be mit ##igate ##d in addition to the already ##ide ##nti ##fied risks associated with ai more generally ai use in healthcare carries with it additional risks for example an algorithm designed to help dia ##gno ##se or cat ##ego ##rise a health condition and thereby direct treatment decisions has the benefit of being able to synthesis ##e significant amounts of information quickly to accurately treat more people than doctors alone but also to have significant negative consequences if the algorithm is incorrect and subsequently results in incorrect treatment decisions for this reason medicines australia supports the appropriate use of ai in healthcare but also advocates for appropriate checks and balance ##s for any ai technologies used in the healthcare setting including human oversight and regular checks and updates as the diagnosis and treatment landscape evolve ##s as a set of over ##ar ##ching principles we support those outlined on page box replicate ##d below of the safe and responsible ai in australia discussion paper provided as part of this consultation we also draw the departments attention to the international federation of pharmaceutical manufacturers and associations if ##pm ##a artificial intelligence ethics principles which as an if ##pm ##a member medicines australia supports and which also reflect the principles outlined in box below private healthcare australia ph ##a is the australian private health insurance industry ##s peak representative body we have registered health funds throughout australia as members and collectively represent of people covered by private health insurance ph ##a member funds provide healthcare benefits for over million australians response ai has potential to impact health care and private health funds significantly over coming years health funds in australia and globally are changing from being pure pay ##ors of claims to broadly supporting customers health through well ##bei ##ng and prevention programs advice navigation healthcare and rehabilitation delivery this change is necessary as populations are age ##ing and people have more long ##ter ##m conditions that need management funds are keen to promote better health and well ##bei ##ng which is essential to improve health of australians and consistent with the direction of healthcare around the world customers expect their health fund to play a greater role in supporting their health for example if a fund can detect that a patient is potentially at high risk of a heart attack a member would expect the fund to advise them and help them avoid this event the responsible use of ai may assist health funds with a broad range of purposes that provide benefits to their members including audit ##s health prevention programs and advice research delivering health services automated decision processes and analytics and e ##ffi ##cie ##ncies the australian centre for health engagement evidence and values ache ##ev includes a team of researchers focused on data ai and other health technologies our healthcare ai research has been funded by nh ##m ##rc ideas grant nh ##m ##rc cr ##e and grants from the university of wo ##llon ##gong our work focuses on the ethical legal and social implications of the use of machine learning in healthcare we have conducted a national survey of public values and attitudes about healthcare ai ind ##ept ##h interviews with experts dialogue groups with healthcare consumers and a community jury a community jury is a del ##ibe ##rative democratic process designed to produce recommendations for policy ##makers following best ##pr ##actic ##e methods we used random recruitment and st ##rat ##ified selection to identify australians to participate the ju ##ror ##s were diverse and closely matched to the australian population on gender age ancestry level of education urban ##region ##al ##ru ##ral place of residence and state or territory of residence all states and territories were represented the jury worked together for hours over days including three days face to face the jury was asked to make recommendations on the following question under what circumstances if any should artificial intelligence be used in australian health systems to detect or dia ##gno ##se disease our response below is based on our study findings and focuses on health contexts as our area of special ##isation health contexts demonstrate the urgency of questions regarding governance healthcare and public health are high ##ris ##k and highs ##take ##s areas for any application of ai and automated decision ##making ad ##m in addition australia is behind relative to other countries in developing both technology and strategies for safe and responsible implementation of healthcare ai and ad ##m this submission is focused on providing a gender perspective to how the australian government should develop its regulatory and governance response to the design deployment and use of aid ##ri ##ven technologies i write this submission as one of australia ##s key academic experts on gender and the law as an associate professor in the faculty of law at the university of technology sydney i bring to my academic experience years of practical experience as a women ##s human rights lawyer i have worked in local and international non ##go ##vern ##ment and inter ##go ##vern ##mental organisations in jurisdictions across the globe i have published three books and dozens of articles on bringing a gender perspective to law ##making i am the chief investigator behind the research collaboration that led to the gender legislative index an online tool that uses human eva ##lu ##ators and machine learning to assess the gender ##res ##pon ##sive ##ness of legislation in i was named the woman in artificial intelligence law category in australia new zealand and n ##d runner ##up for the woman in ai inn ##ova ##tor of the year award the ama welcome ##s the discussion paper on safe and responsible artificial intelligence ai in australia as the peak professional body for doctors in australia this submission will focus on the regulation of ai in health and medicine only regulating the application of ai in healthcare will require a tailored approach that allows for the adoption and integration of safe technologies while protecting patient and practitioner privacy and patient safety the ama is concerned that australia is behind other comparable countries in ai policy in healthcare the development and implementation of ai technologies must be undertaken with appropriate consultation transparency accountability and regular ongoing review to determine its clinical and social impact and ensure it continues to benefit and not harm patients health care professionals and the wider community therefore while we welcome this consultation the ama would like to see a separate discussion process focusing specifically on ai in healthcare that would bring together all relevant stakeholders i am a senior lecturer and researcher in technology law and intellectual property ip law at macquarie law school macquarie university i am a recipient of women in ai award law category an affiliate at the arc centre of excellence for automated decision making and society a lead of the explain ##able ai research stream at the centre for applied artificial intelligence at macquarie university a lead of the emerging technologies works ##tream at the aus ##tral ##asian society for computers and law and an active member of the australian alliance for ai in healthcare safety and ethics working group i have been researching ip and technology law for the last years and have published over peer ##re ##view ##ed publications presented numerous conference papers and prepared several reports for national and regional government bodies in this field during the last years my research has focused on the regulation and governance of ai technologies in various sectors government healthcare creative industries the commonwealth states and territories should have a harmon ##ised base whether this is leg ##is ##lated or a voluntary code the states can add to the harmon ##ised base in areas where the states have primary jurisdiction such as health and education the csi at flinders university sits within the national csi network our common purpose is to enable system change and lasting social impact for people and communities we do this through transformation ##al education and research engaging within and across different sectors csi has a vision of a world where everyone can thrive and grow their capabilities no matter their circumstances we seek systems ##lev ##el shifts and lasting social impact for people and communities uniting communities is a community service organisation that provides social services throughout south australia it has near a thousand staff who provide a wide range of services including child and youth support homeless ##ness support disability support drug and alcohol support and specialist support for aboriginal and torres strait islander peoples uc also provides community and residential aged care the project researches the increasing impact of data artificial intelligence ai and automated decision making ad ##m on isolated and disadvantaged people in june the department of industry science and resources released the supporting responsible ai discussion paper and sought feedback on a proposed risk management approach to ai we support a risk management approach to managing ai and have offered six recommendations for consideration our focus is on the importance of safeguard ##ing marginal ##ised people and communities from the effects of ai this paper is intended to assist the department of industry sciences and resources in the departments consideration of a bundle of positive incentives and regulated prescription ##s and requirements to improve ai ##af ##fect ##ed decisions made by organisations operating in australia this paper responds to the departments discussion paper on safe and responsible ai in australia june the discussion paper at pages and asked twenty questions section of this paper sets out our responses to many of those questions to illustrate the reasoning under ##ling our responses in section we discuss a case study being use by a medical doctor or other primary health professional of health information about a patient and a genera ##tive ai application such as chat ##gp ##t as a task ##ass ##istan ##t in writing up a clinical note or a discharge summary about a patient at the end of section we sum ##mar ##ise our insights from this case study as to the appropriate balance of regulation of ai and other incentives for safe and responsible use of ai these insights inform our responses in section we start in section with a comprehensive overview of our recommendations on how to assure safe and responsible use of ai in australia thank you for the opportunity to provide feedback to the department of industry science and resources di ##sr consultation into safe and responsible ai in australia the aus ##tral ##asian son ##ographer ##s association asa is the professional organisation for aus ##tral ##asian son ##ographer ##s who are the experts in ultrasound with over members and representing more than of aus ##tral ##asia ##s son ##ographer ##s the asa ##s purpose is to foster a son ##ography profession that delivers high quality ultrasound with a vision to create a health ##ier world through son ##ographer expertise son ##ographer ##s are highly skilled health professionals who are strategically involved at the initial diagnostic stages of patient care and perform the majority of comprehensive medical diagnostic ultrasound examinations ultrasound as a specialty in qualified hands provides essential information to medical practitioners in a timely cost effective and safe way the asa acknowledges the potential application of ai and the opportunities to ut ##ilis ##e it to improve access to services and patient care however it is important to highlight the importance of ensuring appropriate safeguard ##s are in place to mit ##igate risks these safeguard ##s include ongoing ai education and training for health professionals using the technology including its use limitations and potential bias ##es ai may be used to support health professionals however patient oversight and clinical decision making must be undertaken by appropriately skilled and qualified medical professionals ai systems in diagnostic imaging will be increasingly abundant and rapidly evolving ie new data ##set ##s algorithms di ##sr should consider the capability and skills ##ets of the therapeutic goods administration t ##ga to provide rapid informed decision making before the approval of ai and machine learning technology increasing ag ##ility will be required to ensure the australian health system remains up to date with developments while preserving and encouraging patient choice access and health literacy despite the recognition of the disastrous potential ##s of highly competent ai systems by experts and well ##k ##now ##n personalities demonstrated through open letters hosted by the future of life institute and the centre for ai safety this government discussion paper fails to address these risks moreover the un secretary ##gen ##eral has publicly acknowledged the devastating and existent ##ial threats posed by advanced ai systems it is imperative that the australian government recognise ##s and engages with the severe and existent ##ial threats posed by advanced ai systems similar to other nations and experts it is not to ##ler ##able to stay quiet on a topic of such magnitude and concern as a young person with my life ahead of me this is one of the issues i worry most about and think could significantly harm my future while these concerns sometimes seem abstract or far ##fe ##tched i think we can ##t afford to be com ##pl ##ace ##nt and must be pro ##active in heading off any risks before they material ##ise typically high ##ris ##k activities and technologies warrant more string ##ent government oversight this pattern is evident in the strict laws supervising areas such as genetic engineering biotechnology healthcare and energy in these fields both the technology itself and its applications are subject to regulation from a human rights stand ##point there is an increased need for more detailed regulation when the use of a particular technology has a higher potential for harm to humans the need to pro ##active ##ly shape the digital landscape as search shifts from offering a menu of ranked websites to a conversation we call for the consideration of the impact artificial intelligence ai is having on the way questions are exchanged for health advice online our white paper attached to our submission presents a detailed summary of current dynamics of the digital information landscape in healthcare and presents a road ##ma ##p for responding to the disruption ##s as ai ##gen ##erated conversations replace traditional search it is anticipated that verbal exchanges of questions for health advice will be quickly adopted across healthcare stakeholders next and we will see relationships with dr google deep ##en and expand to include ai ##cha ##t tools such as dr chat ##gp ##t and dr bard as the implications will be broad and possibly too big for one organisation to gr ##apple on its own within the time ##frame of change a group of senior healthcare executives engaged in this cross ##ind ##ust ##ry collaboration to define the scope of this disruption and explore the opportunities and challenges it presents their goal was to generate a guide to digital change management that includes recommendations for healthcare organisations internally and industry as a whole where there may be broader legislative and ethical considerations this white paper provides an analysis of the impact artificial intelligence ai is having on the way questions are exchanged for health advice online it presents a detailed summary of current dynamics of the digital information landscape in healthcare and presents a road ##ma ##p for responding to the disruption ##s as ai ##gen ##erated conversations replace traditional search it is anticipated that verbal exchanges of questions for health advice will be quickly adopted across healthcare stakeholders next and we will see relationships with dr google deep ##en and expand to include ai ##cha ##t tools such as dr chat ##gp ##t and dr bard as the implications will be broad and possibly too big for one organisation to gr ##apple on its own within the time ##frame of change a group of senior healthcare executives engaged in this cross ##ind ##ust ##ry collaboration to define the scope of this disruption and explore the opportunities and challenges it presents their goal was to generate a guide to digital change management that includes recommendations for healthcare organisations internally and industry as a whole where there may be broader legislative and ethical considerations while this round table was held in sydney with a focus on the australian context the insights generated have global relevance this white paper is the outcome of that collaboration and presents an overview of current dynamics of the digital disco ##nne ##ct in search particularly where due to regulatory restrictions the pharmaceutical industry has little to no voice when healthcare stakeholders seek online advice about prescription the ##ra ##pies which inadvertently leads search ##ers to mis ##in ##form ##ation key challenges and opportunities presented by the ai ##led disruption where chat ##base ##d conversation ##al narratives replace the menu of ranked websites offered by traditional search strategies for adapting to this changing landscape with recommendations of specific critical success factors for groups of stakeholders from medical affairs to information technology considerations for an ethical framework to guide our response i believe there are notable differences in the ai landscape between usa and australia regarding monopoly of healthcare data for the public good in america clinic ##ians had considerable sway over the decision to release patient data for research purposes including ai development in diagnostic procedures during this time there were multiple hold ##ups in advancing ai due to lack of appropriate data sources the federal government then passed laws making it illegal to mono ##polis ##e data by an overseeing clinic ##ian and additionally implemented a system of he ##ft ##y fines for exhibiting mono ##polis ##ing behaviour since these laws have been passed i understand there have been no reported instances of auto ##cratic ownership of patient data by american physicians this type of regulation needs to be extended to australia to protect the patient and democrat ##ise the ownership of ai data another factor in american ai guidelines concerns the composition of data ##set ##s used to train ai models the fda guidelines seem to be clear on the following points fa ##d do not allow for the use of local population data to rei ##tera ##te and fine tune ai models because this will introduce output bias the american ai model essentially becomes a locked algorithm there is no reinforcement learning also the training data set is isolated from the validation set this would mean validation techniques such as ten ##fold cross validation would not allow for fda approval of ai model approval all ai models used in medicine must be trained and valid ##ated using a minimum of usa population data all ai models used in diagnostic medicine must be tested and certified against two usa board certified radio ##logists there may well be many more per ##tine ##nt points of comparison between the fda ##ame ##rica vs t ##ga ##aus ##tral ##ia but the above three points deserve consideration if australia is going to advance in medical ai adoption greater transparency should be adopted by t ##ga when looking at medical ai technology registered with t ##ga one has a name date patent number and not much else when looking through the fda equivalent there is a much fuller description of the ai model to the point of being able to read the code used in the model this is another disc ##re ##pan ##cy worth a closer look the australian government has a responsibility to oversee the democrat ##isation of population data for the development of australian ai medical industry and research it would be a very positive step to have an agreed it tool which would be unanimously used to dei ##dent ##ify patient data particularly di ##com images currently there is a very hot ##ch ##pot ##ch approach towards cleaning data for an ##ony ##mity the lack of available medical data sets will negatively impact ai research in australia and limits ai research performed by healthcare professionals urgent need for education across the board accessible free courses that enable the general population to understand risks and benefits and make informed judgement ##s about what is true un ##tr ##ue ai generated i am a phd candidate working on hospital ultrasound digital images hospitals and private imaging practices seem semi ##para ##ly ##sed in releasing any an ##ony ##mise ##d patient images for research purposes they don ##t know how to do it or where to put it its creating a monopoly for commercial industry to access imaging research data and st ##if ##ling research from academic avenues using patient images for research purposes should be made a uniform and transparent process across australia with generic tools and platforms used to dei ##dent ##ify store and transfer images there appears to be too much fear in sharing digital images for medical diagnostic research organisations are so caught up in avoiding ransom attacks and mal ##ware ni ##st they seem unable to avoid with ##holding digital data to benefit the public good research papers from europe and america frequently have data sets of tens of thousands of patient image files i would like to see democratic access to an ##ony ##mise ##d images in australia on behalf of the aus ##tral ##asian college of der ##mat ##ologists ac ##d i would like to thank you for the opportunity to comment on the department of industry science and resources discussion paper the paper safe and responsible artificial intelligence al in australia ac ##d is the sole medical college accredited by the australian medical council amc for the training and continuing professional development of medical practitioners in the specialty of der ##mat ##ology we are the national peak membership organisation representing over der ##mat ##ologist fellows fa ##cd and trainee ##s as the leading authority in australia for der ##mat ##ology we provide information advocacy and advice to individuals communities government and other health stakeholders on der ##mat ##ological practice diagnosis and management of der ##mat ##ological conditions has significantly evolved with rapid advancement ##s in technology and innovation creating new opportunities and risks for patient care as der ##mat ##ology is a highly visual specialty there is increasing interest both in australia and internationally in the opportunities for al particularly image ##base ##d al to improve patient access to der ##mat ##ological care and to enhance quality of care ac ##ds digital health committee have been closely monitoring and advising on these developments including the opportunities risks and regulatory considerations to inform education and guidance for our fellows der ##mat ##ologists trainee ##s government and other stakeholders we therefore support the intent of this paper to identify potential gaps in the governance of ai in australia and opportunities to strengthen governance mechanisms to support the safe ethical and effective development adoption and use of ai this submission provides a brief overview of the context for our work in this area and the research and recommendations that we have made to date in relation to the development regulation and adoption of ai technology in der ##mat ##ology in australia the full minute presentation is available at i write on behalf of the bio ##metric ##s institute an independent and international not ##for ##pro ##fi ##t membership organisation with a long history of promoting the responsible ethical and effective use of bio ##metric ##s the bio ##metric ##s institute was established in in australia supported in part by the federal government with a mission to promote the responsible ethical and effective use of bio ##metric technologies since then our membership has expanded to include government agencies banks tel ##cos social media platforms technology and services providers academics and regulators from over countries around a quarter of which are in our foundation ##al home of australia in support of our mission we connect stakeholders internationally through a range of events produce a range of good practice material to support those governing and implementing bio ##metric ##s and lead thought about bio ##metric ##s today and into the future over the past few years surveys of stakeholders by the institute have increasingly identified that insufficient regulation imp ##edes advancement of bio ##metric technology globally this perspective is likely informed by an understanding that there are material risks associated with the use of bio ##metric ##s particularly when handled without due respect for privacy and ethical considerations some of these risks are shared with other applications in the field of artificial intelligence therefore we are pleased to see consultation on how artificial intelligence might be regulated as a membership organisation accountable to a wide range of members including the governments of many different nations the institute cannot comment directly on proposals that may arise in any particular jurisdiction but we certainly encourage australian authorities and the private sector to connect with the bio ##metric ##s institute which does provide training thought leadership and forums this opportunity has been utilized by many key government agencies and the private sector including not ##for ##pro ##fi ##ts and consumer groups some physicians in their care of patients at risk of mis ##using op ##io ##ids use machine learning mlb ##ase ##d prediction drug monitoring programmes pd ##mps to guide their decision making in the prescription of op ##io ##ids this can cause a conflict a pd ##mp score can indicate a patient is at a high risk of op ##io ##id abuse while a patient express ##ly reports opposite ##ly the pre ##scribe ##r is then left to balance the credibility and trust of the patient with the pd ##mp score po ##zzi argues that a pre ##scribe ##r who down ##grade ##s the credibility of a patients testimony based on a low pd ##mp score is ep ##iste ##mic ##ally and morally un ##just ##ified and contributes to a form of test ##imo ##nia ##l injustice this results in patients being silenced excluded from decision ##making processes and subjected to structural injustice ##s additionally the use of ml systems in medical practices raises concerns about per ##pet ##uating existing in ##e ##qual ##ities over ##est ##imating their capabilities and di ##sp ##la ##cing human authority however almost the very same critique ##s apply to human ##base ##d systems formal ##isation ml systems included should instead be viewed positively and precisely as a powerful means to begin er ##od ##ing these and other problems in ethical ##ly sensitive domains in this case the ep ##iste ##mic virtues of formal ##isation include promoting transparency consistency and replica ##bility in decision making rigorous ml systems can also help ensure that models ab ##ide by express standards constraints constraints which are well defined and which are open to scrutiny and improvements both within and outside the specific domain of application this is therefore an opportunity for less injustice not more\n"
     ]
    }
   ],
   "source": [
    "print(\"\\nFiltered Reference Text:\")\n",
    "print(filtered_reference)\n"
   ]
  },
  {
   "cell_type": "code",
   "execution_count": 281,
   "metadata": {},
   "outputs": [
    {
     "name": "stderr",
     "output_type": "stream",
     "text": [
      "Some weights of RobertaModel were not initialized from the model checkpoint at roberta-large and are newly initialized: ['roberta.pooler.dense.bias', 'roberta.pooler.dense.weight']\n",
      "You should probably TRAIN this model on a down-stream task to be able to use it for predictions and inference.\n"
     ]
    },
    {
     "name": "stdout",
     "output_type": "stream",
     "text": [
      "calculating scores...\n",
      "computing bert embedding.\n"
     ]
    },
    {
     "name": "stderr",
     "output_type": "stream",
     "text": [
      "100%|██████████| 1/1 [00:01<00:00,  1.88s/it]\n"
     ]
    },
    {
     "name": "stdout",
     "output_type": "stream",
     "text": [
      "computing greedy matching.\n"
     ]
    },
    {
     "name": "stderr",
     "output_type": "stream",
     "text": [
      "100%|██████████| 1/1 [00:00<00:00, 39.23it/s]"
     ]
    },
    {
     "name": "stdout",
     "output_type": "stream",
     "text": [
      "done in 1.93 seconds, 0.52 sentences/sec\n",
      "\n",
      "Evaluation Metrics:\n",
      "ROUGE-1 F-Measure: 0.0126\n",
      "ROUGE-L F-Measure: 0.0126\n",
      "BLEU Score: 0.0000\n",
      "BERTScore Precision: 0.9437\n",
      "BERTScore Recall: 0.8227\n",
      "BERTScore F1: 0.8791\n"
     ]
    },
    {
     "name": "stderr",
     "output_type": "stream",
     "text": [
      "\n"
     ]
    }
   ],
   "source": [
    "from rouge_score import rouge_scorer\n",
    "from nltk.translate.bleu_score import sentence_bleu, SmoothingFunction\n",
    "from bert_score import score\n",
    "\n",
    "# Initialize ROUGE scorer\n",
    "rouge_scorer = rouge_scorer.RougeScorer(['rouge1', 'rougeL'], use_stemmer=True)\n",
    "\n",
    "# Compute ROUGE\n",
    "rouge_scores = rouge_scorer.score(filtered_reference, summary)  # Use the combined reference text\n",
    "rouge_1_fmeasure = rouge_scores['rouge1'].fmeasure\n",
    "rouge_l_fmeasure = rouge_scores['rougeL'].fmeasure\n",
    "\n",
    "# Compute BLEU\n",
    "bleu_score = sentence_bleu(\n",
    "    [filtered_reference.split()],  # Tokenized reference\n",
    "    summary.split(),               # Tokenized generated summary\n",
    "    smoothing_function=SmoothingFunction().method1  # Smoothing for short outputs\n",
    ")\n",
    "\n",
    "# Compute BERTScore\n",
    "P, R, F1 = score(\n",
    "    [summary],                     # List of generated summaries\n",
    "    [filtered_reference],          # List of reference texts (filtered responses)\n",
    "    lang=\"en\",                     # Language (e.g., English)\n",
    "    verbose=True                   # Show progress\n",
    ")\n",
    "\n",
    "# Display all metrics\n",
    "print(f\"\\nEvaluation Metrics:\")\n",
    "print(f\"ROUGE-1 F-Measure: {rouge_1_fmeasure:.4f}\")\n",
    "print(f\"ROUGE-L F-Measure: {rouge_l_fmeasure:.4f}\")\n",
    "print(f\"BLEU Score: {bleu_score:.4f}\")\n",
    "print(f\"BERTScore Precision: {P.mean():.4f}\")\n",
    "print(f\"BERTScore Recall: {R.mean():.4f}\")\n",
    "print(f\"BERTScore F1: {F1.mean():.4f}\")\n"
   ]
  },
  {
   "cell_type": "markdown",
   "metadata": {},
   "source": [
    "Applying Grid search for Threshold optimization"
   ]
  },
  {
   "cell_type": "code",
   "execution_count": null,
   "metadata": {},
   "outputs": [],
   "source": [
    "import numpy as np\n",
    "from rouge_score import rouge_scorer\n",
    "from nltk.translate.bleu_score import sentence_bleu, SmoothingFunction\n",
    "from bert_score import score\n",
    "\n",
    "# Initialize ROUGE scorer\n",
    "rouge_scorer = rouge_scorer.RougeScorer(['rouge1', 'rougeL'], use_stemmer=True)\n",
    "\n",
    "# Define variables to track the best threshold and score\n",
    "best_threshold = None\n",
    "best_rouge1_fmeasure = -1\n",
    "\n",
    "# Define the range of thresholds to test\n",
    "threshold_range = np.arange(0.0, 1.01, 0.01)  # From 0.0 to 1.0 with 0.01 increments\n",
    "\n",
    "# Perform grid search\n",
    "for threshold in threshold_range:\n",
    "    # Filter responses based on the current threshold\n",
    "    filtered_responses = {\n",
    "        response_id: sim for response_id, sim in response_similarities.items() if sim >= threshold\n",
    "    }\n",
    "    \n",
    "    # Skip if no responses pass the threshold\n",
    "    if not filtered_responses:\n",
    "        continue\n",
    "\n",
    "    # Combine filtered responses into a single reference string\n",
    "    filtered_reference = \" \".join([\n",
    "        \" \".join(df_cleaned.loc[df_cleaned['ResponseID'] == resp_id, 'Responses'].values[0])\n",
    "        for resp_id in filtered_responses.keys()\n",
    "    ])\n",
    "\n",
    "    # Generate summary (replace with your T5 summarization step)\n",
    "    # Assume `generate_summary(filtered_text)` is your summarization function\n",
    "    input_text = \"summarize: \" + filtered_reference\n",
    "    input_ids = t5_tokenizer.encode(input_text, return_tensors=\"pt\", truncation=True)\n",
    "    summary_ids = t5_model.generate(input_ids, max_length=150, num_beams=5, early_stopping=True)\n",
    "    generated_summary = t5_tokenizer.decode(summary_ids[0], skip_special_tokens=True)\n",
    "\n",
    "    # Evaluate using ROUGE-1 F-Measure\n",
    "    rouge_scores = rouge_scorer.score(filtered_reference, generated_summary)\n",
    "    rouge1_fmeasure = rouge_scores['rouge1'].fmeasure\n",
    "\n",
    "    # Update the best threshold if the current one is better\n",
    "    if rouge1_fmeasure > best_rouge1_fmeasure:\n",
    "        best_rouge1_fmeasure = rouge1_fmeasure\n",
    "        best_threshold = threshold\n",
    "\n",
    "    # Optionally, print progress for debugging\n",
    "    print(f\"Threshold: {threshold:.2f}, ROUGE-1 F-Measure: {rouge1_fmeasure:.4f}\")\n",
    "\n",
    "# Output the best threshold and score\n",
    "print(f\"\\nOptimal Threshold: {best_threshold:.2f} with ROUGE-1 F-Measure: {best_rouge1_fmeasure:.4f}\")\n"
   ]
  }
 ],
 "metadata": {
  "kernelspec": {
   "display_name": "Python 3",
   "language": "python",
   "name": "python3"
  },
  "language_info": {
   "codemirror_mode": {
    "name": "ipython",
    "version": 3
   },
   "file_extension": ".py",
   "mimetype": "text/x-python",
   "name": "python",
   "nbconvert_exporter": "python",
   "pygments_lexer": "ipython3",
   "version": "3.11.6"
  }
 },
 "nbformat": 4,
 "nbformat_minor": 2
}
