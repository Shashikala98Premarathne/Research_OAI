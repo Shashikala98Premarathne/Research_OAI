{
 "cells": [
  {
   "cell_type": "code",
   "execution_count": 214,
   "metadata": {},
   "outputs": [
    {
     "name": "stderr",
     "output_type": "stream",
     "text": [
      "huggingface/tokenizers: The current process just got forked, after parallelism has already been used. Disabling parallelism to avoid deadlocks...\n",
      "To disable this warning, you can either:\n",
      "\t- Avoid using `tokenizers` before the fork if possible\n",
      "\t- Explicitly set the environment variable TOKENIZERS_PARALLELISM=(true | false)\n"
     ]
    },
    {
     "name": "stdout",
     "output_type": "stream",
     "text": [
      "Requirement already satisfied: nltk in /Library/Frameworks/Python.framework/Versions/3.11/lib/python3.11/site-packages (3.9.1)\n",
      "Requirement already satisfied: click in /Library/Frameworks/Python.framework/Versions/3.11/lib/python3.11/site-packages (from nltk) (8.1.7)\n",
      "Requirement already satisfied: joblib in /Library/Frameworks/Python.framework/Versions/3.11/lib/python3.11/site-packages (from nltk) (1.3.2)\n",
      "Requirement already satisfied: regex>=2021.8.3 in /Library/Frameworks/Python.framework/Versions/3.11/lib/python3.11/site-packages (from nltk) (2024.5.15)\n",
      "Requirement already satisfied: tqdm in /Library/Frameworks/Python.framework/Versions/3.11/lib/python3.11/site-packages (from nltk) (4.66.4)\n",
      "\n",
      "\u001b[1m[\u001b[0m\u001b[34;49mnotice\u001b[0m\u001b[1;39;49m]\u001b[0m\u001b[39;49m A new release of pip is available: \u001b[0m\u001b[31;49m24.1.1\u001b[0m\u001b[39;49m -> \u001b[0m\u001b[32;49m24.3.1\u001b[0m\n",
      "\u001b[1m[\u001b[0m\u001b[34;49mnotice\u001b[0m\u001b[1;39;49m]\u001b[0m\u001b[39;49m To update, run: \u001b[0m\u001b[32;49mpip install --upgrade pip\u001b[0m\n"
     ]
    }
   ],
   "source": [
    "!pip install nltk"
   ]
  },
  {
   "cell_type": "code",
   "execution_count": 215,
   "metadata": {},
   "outputs": [
    {
     "name": "stderr",
     "output_type": "stream",
     "text": [
      "huggingface/tokenizers: The current process just got forked, after parallelism has already been used. Disabling parallelism to avoid deadlocks...\n",
      "To disable this warning, you can either:\n",
      "\t- Avoid using `tokenizers` before the fork if possible\n",
      "\t- Explicitly set the environment variable TOKENIZERS_PARALLELISM=(true | false)\n"
     ]
    },
    {
     "name": "stdout",
     "output_type": "stream",
     "text": [
      "Requirement already satisfied: beautifulsoup4 in /Library/Frameworks/Python.framework/Versions/3.11/lib/python3.11/site-packages (4.12.3)\n",
      "Requirement already satisfied: soupsieve>1.2 in /Library/Frameworks/Python.framework/Versions/3.11/lib/python3.11/site-packages (from beautifulsoup4) (2.5)\n",
      "\n",
      "\u001b[1m[\u001b[0m\u001b[34;49mnotice\u001b[0m\u001b[1;39;49m]\u001b[0m\u001b[39;49m A new release of pip is available: \u001b[0m\u001b[31;49m24.1.1\u001b[0m\u001b[39;49m -> \u001b[0m\u001b[32;49m24.3.1\u001b[0m\n",
      "\u001b[1m[\u001b[0m\u001b[34;49mnotice\u001b[0m\u001b[1;39;49m]\u001b[0m\u001b[39;49m To update, run: \u001b[0m\u001b[32;49mpip install --upgrade pip\u001b[0m\n",
      "Note: you may need to restart the kernel to use updated packages.\n"
     ]
    }
   ],
   "source": [
    "pip install beautifulsoup4\n"
   ]
  },
  {
   "cell_type": "code",
   "execution_count": 216,
   "metadata": {},
   "outputs": [],
   "source": [
    "import pandas as pd\n",
    "import re\n",
    "from gensim.parsing.preprocessing import STOPWORDS, strip_tags,strip_numeric, strip_punctuation, strip_multiple_whitespaces,remove_stopwords, strip_short, stem_text\n",
    "import pickle\n",
    "from transformers import BertTokenizer\n",
    "import nltk\n"
   ]
  },
  {
   "cell_type": "code",
   "execution_count": 217,
   "metadata": {},
   "outputs": [],
   "source": [
    "import numpy as np"
   ]
  },
  {
   "cell_type": "code",
   "execution_count": 218,
   "metadata": {},
   "outputs": [],
   "source": [
    "import re\n",
    "import string\n",
    "from bs4 import BeautifulSoup\n",
    "from nltk.tokenize import sent_tokenize"
   ]
  },
  {
   "cell_type": "code",
   "execution_count": 219,
   "metadata": {},
   "outputs": [
    {
     "name": "stderr",
     "output_type": "stream",
     "text": [
      "[nltk_data] Downloading package stopwords to\n",
      "[nltk_data]     /Users/shashinimashi/nltk_data...\n",
      "[nltk_data]   Package stopwords is already up-to-date!\n"
     ]
    },
    {
     "data": {
      "text/plain": [
       "True"
      ]
     },
     "execution_count": 219,
     "metadata": {},
     "output_type": "execute_result"
    }
   ],
   "source": [
    "nltk.download('stopwords')"
   ]
  },
  {
   "cell_type": "code",
   "execution_count": 220,
   "metadata": {},
   "outputs": [],
   "source": [
    "from nltk.corpus import stopwords"
   ]
  },
  {
   "cell_type": "code",
   "execution_count": 221,
   "metadata": {},
   "outputs": [],
   "source": [
    "# Load the CSV file\n",
    "file_path = '/Users/shashinimashi/Desktop/Semester 3/Thesis/Analysis/Research_OAI-1/transcripts.csv'  \n",
    "df = pd.read_csv(file_path)"
   ]
  },
  {
   "cell_type": "code",
   "execution_count": 222,
   "metadata": {},
   "outputs": [
    {
     "data": {
      "text/html": [
       "<div>\n",
       "<style scoped>\n",
       "    .dataframe tbody tr th:only-of-type {\n",
       "        vertical-align: middle;\n",
       "    }\n",
       "\n",
       "    .dataframe tbody tr th {\n",
       "        vertical-align: top;\n",
       "    }\n",
       "\n",
       "    .dataframe thead th {\n",
       "        text-align: right;\n",
       "    }\n",
       "</style>\n",
       "<table border=\"1\" class=\"dataframe\">\n",
       "  <thead>\n",
       "    <tr style=\"text-align: right;\">\n",
       "      <th></th>\n",
       "      <th>ResponseID</th>\n",
       "      <th>Topic</th>\n",
       "      <th>Transcription</th>\n",
       "    </tr>\n",
       "  </thead>\n",
       "  <tbody>\n",
       "    <tr>\n",
       "      <th>0</th>\n",
       "      <td>510</td>\n",
       "      <td>Supporting Responsible Ai Discussion Paper</td>\n",
       "      <td>The Australian Federal Police Afp Welcomes The...</td>\n",
       "    </tr>\n",
       "    <tr>\n",
       "      <th>1</th>\n",
       "      <td>507</td>\n",
       "      <td>Safe And Responsible Ai In Australia’</td>\n",
       "      <td>The Disr Have Called For Public Submissions To...</td>\n",
       "    </tr>\n",
       "    <tr>\n",
       "      <th>2</th>\n",
       "      <td>506</td>\n",
       "      <td>Safe And Responsible Ai In Australia\\r\\nDiscus...</td>\n",
       "      <td>The Office Of The Australian Information Commi...</td>\n",
       "    </tr>\n",
       "    <tr>\n",
       "      <th>3</th>\n",
       "      <td>505</td>\n",
       "      <td>Canvas Approach To Ai</td>\n",
       "      <td>Canvas Mission Is To Empower The World To Desi...</td>\n",
       "    </tr>\n",
       "    <tr>\n",
       "      <th>4</th>\n",
       "      <td>504</td>\n",
       "      <td>Safe And Responsible Ai In\\r\\nAustralia</td>\n",
       "      <td>The Law Council Welcomes The Opportunity To Pr...</td>\n",
       "    </tr>\n",
       "  </tbody>\n",
       "</table>\n",
       "</div>"
      ],
      "text/plain": [
       "   ResponseID                                              Topic  \\\n",
       "0         510         Supporting Responsible Ai Discussion Paper   \n",
       "1         507              Safe And Responsible Ai In Australia’   \n",
       "2         506  Safe And Responsible Ai In Australia\\r\\nDiscus...   \n",
       "3         505                              Canvas Approach To Ai   \n",
       "4         504            Safe And Responsible Ai In\\r\\nAustralia   \n",
       "\n",
       "                                       Transcription  \n",
       "0  The Australian Federal Police Afp Welcomes The...  \n",
       "1  The Disr Have Called For Public Submissions To...  \n",
       "2  The Office Of The Australian Information Commi...  \n",
       "3  Canvas Mission Is To Empower The World To Desi...  \n",
       "4  The Law Council Welcomes The Opportunity To Pr...  "
      ]
     },
     "execution_count": 222,
     "metadata": {},
     "output_type": "execute_result"
    }
   ],
   "source": [
    "df.head()"
   ]
  },
  {
   "cell_type": "code",
   "execution_count": 223,
   "metadata": {},
   "outputs": [
    {
     "data": {
      "text/plain": [
       "Index(['ResponseID', 'Topic', 'Transcription'], dtype='object')"
      ]
     },
     "execution_count": 223,
     "metadata": {},
     "output_type": "execute_result"
    }
   ],
   "source": [
    "df.columns"
   ]
  },
  {
   "cell_type": "code",
   "execution_count": 224,
   "metadata": {},
   "outputs": [
    {
     "data": {
      "text/plain": [
       "<bound method DataFrame.value_counts of      ResponseID                                              Topic  \\\n",
       "0           510         Supporting Responsible Ai Discussion Paper   \n",
       "1           507              Safe And Responsible Ai In Australia’   \n",
       "2           506  Safe And Responsible Ai In Australia\\r\\nDiscus...   \n",
       "3           505                              Canvas Approach To Ai   \n",
       "4           504            Safe And Responsible Ai In\\r\\nAustralia   \n",
       "..          ...                                                ...   \n",
       "411           7  Epistemic Virtues Of Harnessing Rigorous\\r\\nMa...   \n",
       "412           6  Ai Explainability Framework For Environmental ...   \n",
       "413           4  Submission To Responsible Ai In Australia – Ga...   \n",
       "414           2  Ben Blackburn Racing Submission\\r\\nOn The Aust...   \n",
       "415           1                             Make A General Comment   \n",
       "\n",
       "                                         Transcription  \n",
       "0    The Australian Federal Police Afp Welcomes The...  \n",
       "1    The Disr Have Called For Public Submissions To...  \n",
       "2    The Office Of The Australian Information Commi...  \n",
       "3    Canvas Mission Is To Empower The World To Desi...  \n",
       "4    The Law Council Welcomes The Opportunity To Pr...  \n",
       "..                                                 ...  \n",
       "411  Some Physicians In Their Care Of\\r\\nPatients A...  \n",
       "412  Deep Learning Networks Powered By Ai Are Essen...  \n",
       "413  I Imported Zx80 Pc From Uk 43Yr Ago At 14Yr Ol...  \n",
       "414  I Am Extremely Pleased To Provide This Public ...  \n",
       "415  Ensure Ai Has Built In Prime Directives That C...  \n",
       "\n",
       "[416 rows x 3 columns]>"
      ]
     },
     "execution_count": 224,
     "metadata": {},
     "output_type": "execute_result"
    }
   ],
   "source": [
    "df.value_counts"
   ]
  },
  {
   "cell_type": "code",
   "execution_count": 225,
   "metadata": {},
   "outputs": [
    {
     "name": "stdout",
     "output_type": "stream",
     "text": [
      "count    416.000000\n",
      "mean     240.641827\n",
      "std      140.267280\n",
      "min        1.000000\n",
      "25%      144.000000\n",
      "50%      221.000000\n",
      "75%      309.000000\n",
      "max      710.000000\n",
      "Name: word_count, dtype: float64\n"
     ]
    }
   ],
   "source": [
    "#  Calculate word count for each transcription\n",
    "df['word_count'] = df['Transcription'].apply(lambda x: len(str(x).split()))\n",
    "\n",
    "# Get descriptive statistics for the word count\n",
    "word_count_stats = df['word_count'].describe()\n",
    "\n",
    "print(word_count_stats)"
   ]
  },
  {
   "cell_type": "code",
   "execution_count": 226,
   "metadata": {},
   "outputs": [
    {
     "name": "stdout",
     "output_type": "stream",
     "text": [
      "Non-empty rows: 416\n",
      "Empty rows: 8\n"
     ]
    }
   ],
   "source": [
    "# Count the non-empty rows in 'Transcription' column\n",
    "non_empty_rows = df['Transcription'].str.strip().astype(bool).sum()\n",
    "\n",
    "# Count the empty rows (including NaN values) in 'Transcription' column\n",
    "empty_rows = df['Transcription'].isna().sum() + (df['Transcription'].str.strip().astype(bool) == False).sum()\n",
    "\n",
    "# Print the results\n",
    "print(f\"Non-empty rows: {non_empty_rows}\")\n",
    "print(f\"Empty rows: {empty_rows}\")\n"
   ]
  },
  {
   "cell_type": "code",
   "execution_count": 227,
   "metadata": {},
   "outputs": [
    {
     "name": "stdout",
     "output_type": "stream",
     "text": [
      "Rows before filtering: 416\n",
      "Rows after filtering: 408\n"
     ]
    }
   ],
   "source": [
    "# Filtering Empty rows\n",
    "print(f\"Rows before filtering: {df.shape[0]}\")\n",
    "df = df[df['Transcription'].str.strip().astype(bool) & df['Transcription'].notna()]\n",
    "print(f\"Rows after filtering: {df.shape[0]}\")"
   ]
  },
  {
   "cell_type": "code",
   "execution_count": 228,
   "metadata": {},
   "outputs": [
    {
     "name": "stdout",
     "output_type": "stream",
     "text": [
      "Transcription - Average length: 245.34 words\n",
      "Transcription - Minimum length: 1 words\n",
      "Transcription - Maximum length: 710 words\n",
      "\n",
      "Text Lengths (Word Counts) per Text:\n",
      "                                       Transcription  transcription_word_count\n",
      "0  The Australian Federal Police Afp Welcomes The...                       518\n",
      "1  The Disr Have Called For Public Submissions To...                       213\n",
      "2  The Office Of The Australian Information Commi...                       545\n",
      "3  Canvas Mission Is To Empower The World To Desi...                       103\n",
      "4  The Law Council Welcomes The Opportunity To Pr...                       410\n"
     ]
    },
    {
     "name": "stderr",
     "output_type": "stream",
     "text": [
      "/var/folders/s1/xx81lcvn0kq8swqwckfrftb40000gn/T/ipykernel_56461/2615125692.py:5: SettingWithCopyWarning: \n",
      "A value is trying to be set on a copy of a slice from a DataFrame.\n",
      "Try using .loc[row_indexer,col_indexer] = value instead\n",
      "\n",
      "See the caveats in the documentation: https://pandas.pydata.org/pandas-docs/stable/user_guide/indexing.html#returning-a-view-versus-a-copy\n",
      "  df['transcription_word_count'] = df['Transcription'].apply(lambda x: len(str(x).split()) if isinstance(x, str) else 0)\n"
     ]
    }
   ],
   "source": [
    "import numpy as np\n",
    "\n",
    "# Word count check for 'Transcription' column\n",
    "# Step 1: Calculate word counts for each text in the 'Transcription' column\n",
    "df['transcription_word_count'] = df['Transcription'].apply(lambda x: len(str(x).split()) if isinstance(x, str) else 0)\n",
    "\n",
    "# Step 2: Calculate and print statistics for the 'Transcription' column\n",
    "transcription_avg = np.mean(df['transcription_word_count'])\n",
    "transcription_min = np.min(df['transcription_word_count'])\n",
    "transcription_max = np.max(df['transcription_word_count'])\n",
    "\n",
    "# Step 3: Display the statistics\n",
    "print(f\"Transcription - Average length: {transcription_avg:.2f} words\")\n",
    "print(f\"Transcription - Minimum length: {transcription_min} words\")\n",
    "print(f\"Transcription - Maximum length: {transcription_max} words\")\n",
    "\n",
    "# Optional: Display the word counts in the DataFrame for better insight\n",
    "print(\"\\nText Lengths (Word Counts) per Text:\")\n",
    "print(df[['Transcription', 'transcription_word_count']].head())"
   ]
  },
  {
   "cell_type": "code",
   "execution_count": 229,
   "metadata": {},
   "outputs": [
    {
     "data": {
      "text/plain": [
       "Text(0, 0.5, 'Frequency')"
      ]
     },
     "execution_count": 229,
     "metadata": {},
     "output_type": "execute_result"
    },
    {
     "data": {
      "image/png": "[encoded data removed]",
      "text/plain": [
       "<Figure size 800x500 with 1 Axes>"
      ]
     },
     "metadata": {},
     "output_type": "display_data"
    }
   ],
   "source": [
    "# Histogram of word counts\n",
    "import matplotlib.pyplot as plt\n",
    "import seaborn as sns\n",
    "\n",
    "plt.figure(figsize=(8, 5))\n",
    "sns.histplot(df['transcription_word_count'], bins=30, kde=True, color='skyblue')\n",
    "plt.title('Distribution of Word Count in Transcription Column', fontsize=16)\n",
    "plt.xlabel('Word Count', fontsize=12)\n",
    "plt.ylabel('Frequency', fontsize=12)"
   ]
  },
  {
   "cell_type": "code",
   "execution_count": 230,
   "metadata": {},
   "outputs": [
    {
     "name": "stderr",
     "output_type": "stream",
     "text": [
      "[nltk_data] Downloading package punkt to\n",
      "[nltk_data]     /Users/shashinimashi/nltk_data...\n",
      "[nltk_data]   Package punkt is already up-to-date!\n"
     ]
    },
    {
     "name": "stdout",
     "output_type": "stream",
     "text": [
      "First few rows of the column 'Transcription':\n",
      "0    The Australian Federal Police Afp Welcomes The...\n",
      "1    The Disr Have Called For Public Submissions To...\n",
      "2    The Office Of The Australian Information Commi...\n",
      "3    Canvas Mission Is To Empower The World To Desi...\n",
      "4    The Law Council Welcomes The Opportunity To Pr...\n",
      "Name: Transcription, dtype: object\n",
      "'Responses' column has been created successfully.\n",
      "                                       Transcription  \\\n",
      "0  The Australian Federal Police Afp Welcomes The...   \n",
      "1  The Disr Have Called For Public Submissions To...   \n",
      "2  The Office Of The Australian Information Commi...   \n",
      "3  Canvas Mission Is To Empower The World To Desi...   \n",
      "4  The Law Council Welcomes The Opportunity To Pr...   \n",
      "\n",
      "                                           Responses  \n",
      "0  [the australian federal police af ##p welcome ...  \n",
      "1  [the di ##sr have called for public submission...  \n",
      "2  [the office of the australian information comm...  \n",
      "3  [canvas mission is to em ##power the world to ...  \n",
      "4  [the law council welcome ##s the opportunity t...  \n"
     ]
    },
    {
     "name": "stderr",
     "output_type": "stream",
     "text": [
      "/var/folders/s1/xx81lcvn0kq8swqwckfrftb40000gn/T/ipykernel_56461/2575543807.py:59: SettingWithCopyWarning: \n",
      "A value is trying to be set on a copy of a slice from a DataFrame.\n",
      "Try using .loc[row_indexer,col_indexer] = value instead\n",
      "\n",
      "See the caveats in the documentation: https://pandas.pydata.org/pandas-docs/stable/user_guide/indexing.html#returning-a-view-versus-a-copy\n",
      "  df['Responses'] = df[column_name].apply(clean_text)\n"
     ]
    }
   ],
   "source": [
    "import re\n",
    "import string\n",
    "from transformers import BertTokenizer\n",
    "from bs4 import BeautifulSoup\n",
    "import nltk\n",
    "import pandas as pd  \n",
    "\n",
    "# Download NLTK data for sentence tokenization (ensure 'punkt' is available)\n",
    "nltk.download('punkt')\n",
    "\n",
    "# Initialize BERT tokenizer\n",
    "tokenizer = BertTokenizer.from_pretrained('bert-base-uncased')\n",
    "\n",
    "def clean_and_tokenize(df, column_name='Transcription'):\n",
    "    \n",
    "    # Ensure the column exists in the DataFrame\n",
    "    if column_name not in df.columns:\n",
    "        print(f\"Error: Column '{column_name}' not found in the DataFrame.\")\n",
    "        return df\n",
    "    \n",
    "    def clean_text(text):\n",
    "        if not text or pd.isna(text):  # Check for empty or NaN values\n",
    "            return []  # Return an empty list if the text is invalid\n",
    "\n",
    "        # Lowercase the text\n",
    "        text = text.lower()\n",
    "        \n",
    "        # Remove URLs\n",
    "        text = re.sub(r\"http\\S+|www\\S+|https\\S+\", \"\", text, flags=re.MULTILINE)\n",
    "        \n",
    "        # Remove HTML tags\n",
    "        text = BeautifulSoup(text, \"html.parser\").get_text()\n",
    "        \n",
    "        # Remove punctuation\n",
    "        text = text.translate(str.maketrans(\"\", \"\", string.punctuation))\n",
    "        \n",
    "        # Remove special characters and numbers\n",
    "        text = re.sub(r\"[^a-zA-Z\\s]\", \"\", text)\n",
    "\n",
    "        # Normalize multiple spaces to a single space\n",
    "        text = re.sub(r'\\s+', ' ', text).strip()\n",
    "        \n",
    "        # Tokenize the text using BERT tokenizer (subword-level)\n",
    "        tokens = tokenizer.tokenize(text)\n",
    "        \n",
    "        # Rejoin tokens into a single string\n",
    "        cleaned_text = \" \".join(tokens)\n",
    "        \n",
    "        # Alternative sentence tokenization using re.split()\n",
    "        sentences = re.split(r'(?<=[.!?])\\s+', cleaned_text)\n",
    "        \n",
    "        return sentences\n",
    "\n",
    "    # Debug: Print first few rows before cleaning\n",
    "    print(f\"First few rows of the column '{column_name}':\")\n",
    "    print(df[column_name].head())\n",
    "    \n",
    "    # Apply the clean_text function to each entry in the column\n",
    "    df['Responses'] = df[column_name].apply(clean_text)\n",
    "    \n",
    "    # Debug: Check if the Responses column has been added\n",
    "    if 'Responses' in df.columns:\n",
    "        print(f\"'Responses' column has been created successfully.\")\n",
    "    else:\n",
    "        print(f\"Error: 'Responses' column not created.\")\n",
    "    \n",
    "    # Print the DataFrame with Transcriptions and Responses\n",
    "    print(df[['Transcription', 'Responses']].head())\n",
    "    \n",
    "    return df\n",
    "\n",
    "# Output\n",
    "df_cleaned = clean_and_tokenize(df)\n"
   ]
  },
  {
   "cell_type": "code",
   "execution_count": 258,
   "metadata": {},
   "outputs": [
    {
     "data": {
      "text/html": [
       "<div>\n",
       "<style scoped>\n",
       "    .dataframe tbody tr th:only-of-type {\n",
       "        vertical-align: middle;\n",
       "    }\n",
       "\n",
       "    .dataframe tbody tr th {\n",
       "        vertical-align: top;\n",
       "    }\n",
       "\n",
       "    .dataframe thead th {\n",
       "        text-align: right;\n",
       "    }\n",
       "</style>\n",
       "<table border=\"1\" class=\"dataframe\">\n",
       "  <thead>\n",
       "    <tr style=\"text-align: right;\">\n",
       "      <th></th>\n",
       "      <th>ResponseID</th>\n",
       "      <th>Topic</th>\n",
       "      <th>Transcription</th>\n",
       "      <th>word_count</th>\n",
       "      <th>transcription_word_count</th>\n",
       "      <th>Responses</th>\n",
       "    </tr>\n",
       "  </thead>\n",
       "  <tbody>\n",
       "    <tr>\n",
       "      <th>0</th>\n",
       "      <td>510</td>\n",
       "      <td>Supporting Responsible Ai Discussion Paper</td>\n",
       "      <td>The Australian Federal Police Afp Welcomes The...</td>\n",
       "      <td>550</td>\n",
       "      <td>518</td>\n",
       "      <td>[the australian federal police af ##p welcome ...</td>\n",
       "    </tr>\n",
       "    <tr>\n",
       "      <th>1</th>\n",
       "      <td>507</td>\n",
       "      <td>Safe And Responsible Ai In Australia’</td>\n",
       "      <td>The Disr Have Called For Public Submissions To...</td>\n",
       "      <td>226</td>\n",
       "      <td>213</td>\n",
       "      <td>[the di ##sr have called for public submission...</td>\n",
       "    </tr>\n",
       "    <tr>\n",
       "      <th>2</th>\n",
       "      <td>506</td>\n",
       "      <td>Safe And Responsible Ai In Australia\\r\\nDiscus...</td>\n",
       "      <td>The Office Of The Australian Information Commi...</td>\n",
       "      <td>579</td>\n",
       "      <td>545</td>\n",
       "      <td>[the office of the australian information comm...</td>\n",
       "    </tr>\n",
       "    <tr>\n",
       "      <th>3</th>\n",
       "      <td>505</td>\n",
       "      <td>Canvas Approach To Ai</td>\n",
       "      <td>Canvas Mission Is To Empower The World To Desi...</td>\n",
       "      <td>108</td>\n",
       "      <td>103</td>\n",
       "      <td>[canvas mission is to em ##power the world to ...</td>\n",
       "    </tr>\n",
       "    <tr>\n",
       "      <th>4</th>\n",
       "      <td>504</td>\n",
       "      <td>Safe And Responsible Ai In\\r\\nAustralia</td>\n",
       "      <td>The Law Council Welcomes The Opportunity To Pr...</td>\n",
       "      <td>436</td>\n",
       "      <td>410</td>\n",
       "      <td>[the law council welcome ##s the opportunity t...</td>\n",
       "    </tr>\n",
       "  </tbody>\n",
       "</table>\n",
       "</div>"
      ],
      "text/plain": [
       "   ResponseID                                              Topic  \\\n",
       "0         510         Supporting Responsible Ai Discussion Paper   \n",
       "1         507              Safe And Responsible Ai In Australia’   \n",
       "2         506  Safe And Responsible Ai In Australia\\r\\nDiscus...   \n",
       "3         505                              Canvas Approach To Ai   \n",
       "4         504            Safe And Responsible Ai In\\r\\nAustralia   \n",
       "\n",
       "                                       Transcription  word_count  \\\n",
       "0  The Australian Federal Police Afp Welcomes The...         550   \n",
       "1  The Disr Have Called For Public Submissions To...         226   \n",
       "2  The Office Of The Australian Information Commi...         579   \n",
       "3  Canvas Mission Is To Empower The World To Desi...         108   \n",
       "4  The Law Council Welcomes The Opportunity To Pr...         436   \n",
       "\n",
       "   transcription_word_count                                          Responses  \n",
       "0                       518  [the australian federal police af ##p welcome ...  \n",
       "1                       213  [the di ##sr have called for public submission...  \n",
       "2                       545  [the office of the australian information comm...  \n",
       "3                       103  [canvas mission is to em ##power the world to ...  \n",
       "4                       410  [the law council welcome ##s the opportunity t...  "
      ]
     },
     "execution_count": 258,
     "metadata": {},
     "output_type": "execute_result"
    }
   ],
   "source": [
    "df_cleaned.head()"
   ]
  },
  {
   "cell_type": "code",
   "execution_count": 259,
   "metadata": {},
   "outputs": [
    {
     "name": "stdout",
     "output_type": "stream",
     "text": [
      "count    408.000000\n",
      "mean     264.850490\n",
      "std      149.770027\n",
      "min        1.000000\n",
      "25%      157.750000\n",
      "50%      243.500000\n",
      "75%      341.000000\n",
      "max      786.000000\n",
      "Name: word_count, dtype: float64\n"
     ]
    },
    {
     "name": "stderr",
     "output_type": "stream",
     "text": [
      "/var/folders/s1/xx81lcvn0kq8swqwckfrftb40000gn/T/ipykernel_56461/2871606896.py:2: SettingWithCopyWarning: \n",
      "A value is trying to be set on a copy of a slice from a DataFrame.\n",
      "Try using .loc[row_indexer,col_indexer] = value instead\n",
      "\n",
      "See the caveats in the documentation: https://pandas.pydata.org/pandas-docs/stable/user_guide/indexing.html#returning-a-view-versus-a-copy\n",
      "  df_cleaned['word_count'] = df_cleaned['Responses'].apply(lambda x: len(str(x).split()))\n"
     ]
    }
   ],
   "source": [
    "#  Calculate word count for each Response\n",
    "df_cleaned['word_count'] = df_cleaned['Responses'].apply(lambda x: len(str(x).split()))\n",
    "\n",
    "# Get descriptive statistics for the word count\n",
    "word_count_stats = df_cleaned['word_count'].describe()\n",
    "\n",
    "print(word_count_stats)"
   ]
  },
  {
   "cell_type": "code",
   "execution_count": 305,
   "metadata": {},
   "outputs": [
    {
     "name": "stdout",
     "output_type": "stream",
     "text": [
      "Preprocessed data saved to df_cleaned.csv\n"
     ]
    }
   ],
   "source": [
    "# Save the cleaned DataFrame to a CSV file\n",
    "df_cleaned.to_csv(\"df_cleaned.csv\", index=False)\n",
    "print(\"Preprocessed data saved to df_cleaned.csv\")\n"
   ]
  },
  {
   "cell_type": "markdown",
   "metadata": {},
   "source": [
    "Train/Validation/Test Split"
   ]
  },
  {
   "cell_type": "code",
   "execution_count": null,
   "metadata": {},
   "outputs": [],
   "source": [
    "# from sklearn.model_selection import train_test_split\n",
    "\n",
    "# train_df, temp_df = train_test_split(df_cleaned, test_size=0.2, random_state=42)  # 80% training data\n",
    "# val_df, test_df = train_test_split(temp_df, test_size=0.5, random_state=42)  # 10% validation, 10% test\n",
    "\n",
    "# print(f\"Training Set: {len(train_df)}\")\n",
    "# print(f\"Validation Set: {len(val_df)}\")\n",
    "# print(f\"Test Set: {len(test_df)}\")"
   ]
  },
  {
   "cell_type": "code",
   "execution_count": null,
   "metadata": {},
   "outputs": [],
   "source": [
    "#Check how many valid responses are left\n",
    "#print(f\"Valid Train Responses: {len([r for r in train_responses if r != ''])}\")\n",
    "#print(f\"Valid Validation Responses: {len([r for r in val_responses if r != ''])}\")\n",
    "#print(f\"Valid Test Responses: {len([r for r in test_responses if r != ''])}\")"
   ]
  },
  {
   "cell_type": "code",
   "execution_count": 237,
   "metadata": {},
   "outputs": [
    {
     "name": "stdout",
     "output_type": "stream",
     "text": [
      "339    [the paper does not acknowledge the catastroph...\n",
      "3      [canvas mission is to em ##power the world to ...\n",
      "18     [the interactive games entertainment associati...\n",
      "133    [king wood mall ##eson ##s welcome ##s the opp...\n",
      "120    [this submission concerns the formation of ai ...\n",
      "Name: Responses, dtype: object\n",
      "33     [the centre for media transition is conducting...\n",
      "235    [this response to the australian government th...\n",
      "82     [crest brings a multi ##dis ##ci ##plin ##ary ...\n",
      "252    [que ##son how can the australian government f...\n",
      "343    [australia post appreciate ##s the opportunity...\n",
      "Name: Responses, dtype: object\n",
      "134    [the financial services council f ##sc welcome...\n",
      "70     [property exchange australia ltd pe ##xa is pl...\n",
      "294    [there exist several potential risks from arti...\n",
      "96     [thank you for the opportunity to respond to t...\n",
      "9      [banks have a history of using technology to i...\n",
      "Name: Responses, dtype: object\n",
      "Empty Train Responses: 0\n",
      "Empty Validation Responses: 0\n",
      "Empty Test Responses: 0\n"
     ]
    }
   ],
   "source": [
    "# # Check the first few responses after cleaning\n",
    "# print(train_df['Responses'].head())\n",
    "# print(val_df['Responses'].head())\n",
    "# print(test_df['Responses'].head())\n",
    "\n",
    "# # Check if there are any empty or None values\n",
    "# empty_train_responses = train_df['Responses'].apply(lambda x: len(x) == 0 if isinstance(x, list) else True)\n",
    "# empty_val_responses = val_df['Responses'].apply(lambda x: len(x) == 0 if isinstance(x, list) else True)\n",
    "# empty_test_responses = test_df['Responses'].apply(lambda x: len(x) == 0 if isinstance(x, list) else True)\n",
    "\n",
    "# print(f\"Empty Train Responses: {empty_train_responses.sum()}\")\n",
    "# print(f\"Empty Validation Responses: {empty_val_responses.sum()}\")\n",
    "# print(f\"Empty Test Responses: {empty_test_responses.sum()}\")\n"
   ]
  },
  {
   "cell_type": "markdown",
   "metadata": {},
   "source": [
    "Embedding Creation"
   ]
  },
  {
   "cell_type": "code",
   "execution_count": 261,
   "metadata": {},
   "outputs": [
    {
     "name": "stdout",
     "output_type": "stream",
     "text": [
      "Embeddings generated successfully!\n"
     ]
    }
   ],
   "source": [
    "from sentence_transformers import SentenceTransformer\n",
    "import torch\n",
    "import numpy as np\n",
    "\n",
    "# Initialize the SentenceTransformer model (all-mpnet-base-v2)\n",
    "model = SentenceTransformer('all-mpnet-base-v2')\n",
    "\n",
    "# Function to generate sentence embeddings\n",
    "def get_sentence_embeddings(text_list):\n",
    "    # Generate sentence embeddings for the text list\n",
    "    return model.encode(text_list, convert_to_tensor=True)\n",
    "\n",
    "# Flatten the list of sentences (Responses are lists of sentences, so flatten them into one list)\n",
    "def flatten_responses(responses):\n",
    "    return [sentence for response in responses for sentence in response]\n",
    "\n",
    "# Ensure `df_cleaned` contains the `Responses` column\n",
    "if 'Responses' in df_cleaned.columns:\n",
    "    # Flatten the Responses column\n",
    "    flat_responses = flatten_responses(df_cleaned['Responses'].tolist())\n",
    "\n",
    "    # Generate embeddings for the flattened responses\n",
    "    flat_embeddings = get_sentence_embeddings(flat_responses)\n",
    "\n",
    "    # Group by ResponseID and apply mean pooling to get one embedding per response\n",
    "    def group_by_response_id(df, embeddings):\n",
    "        response_embeddings = {}\n",
    "        embedding_idx = 0  # Index to track embeddings for sentences\n",
    "\n",
    "        for response_id in df['ResponseID'].unique():\n",
    "            # Get all sentences for the given ResponseID\n",
    "            sentences = df[df['ResponseID'] == response_id]['Responses'].tolist()\n",
    "            \n",
    "            # Flatten the sentences for the ResponseID\n",
    "            sentences_flat = flatten_responses(sentences)\n",
    "            \n",
    "            # Extract corresponding embeddings\n",
    "            num_sentences = len(sentences_flat)\n",
    "            sentences_embeddings = embeddings[embedding_idx: embedding_idx + num_sentences]\n",
    "            embedding_idx += num_sentences\n",
    "            \n",
    "            # Apply mean pooling using PyTorch's .mean() method\n",
    "            response_embeddings[response_id] = sentences_embeddings.mean(dim=0)  # Mean Pooling\n",
    "        \n",
    "        return response_embeddings\n",
    "\n",
    "    # Generate response embeddings for all responses in df_cleaned\n",
    "    response_embeddings = group_by_response_id(df_cleaned, flat_embeddings)\n",
    "\n",
    "    # `response_embeddings` now contains a dictionary mapping ResponseID to its mean-pooled embedding\n",
    "    print(\"Embeddings generated successfully!\")\n",
    "else:\n",
    "    print(\"Error: `Responses` column not found in the DataFrame.\")\n"
   ]
  },
  {
   "cell_type": "code",
   "execution_count": 306,
   "metadata": {},
   "outputs": [
    {
     "name": "stdout",
     "output_type": "stream",
     "text": [
      "Response embeddings saved to response_embeddings.pkl\n"
     ]
    }
   ],
   "source": [
    "import pickle\n",
    "\n",
    "# Save response_embeddings to a file\n",
    "with open(\"response_embeddings.pkl\", \"wb\") as f:\n",
    "    pickle.dump(response_embeddings, f)\n",
    "print(\"Response embeddings saved to response_embeddings.pkl\")\n"
   ]
  },
  {
   "cell_type": "markdown",
   "metadata": {},
   "source": [
    "\n",
    "Cosine Similarity Calculation with static Threshold"
   ]
  },
  {
   "cell_type": "code",
   "execution_count": 299,
   "metadata": {},
   "outputs": [
    {
     "name": "stderr",
     "output_type": "stream",
     "text": [
      "Special tokens have been added in the vocabulary, make sure the associated word embeddings are fine-tuned or trained.\n"
     ]
    },
    {
     "name": "stdout",
     "output_type": "stream",
     "text": [
      "\n",
      "Filtered Responses:\n",
      "{433: 0.4345435}\n",
      "\n",
      "Generated Summary:\n",
      "royal aus ##tral ##asian college of medical administrators ra ##cm ##a is unique as a provider of medical management and leadership qualifications. the fellowship training program offered by ra ##cm ##a is accredited by the australian medical council and the new zealand medical council fellows of our college are recognised as medical specialists our education programs are aimed at e ##qui ##pping doctors with the leadership and management skills needed to influence and lead the aus ##tral\n"
     ]
    }
   ],
   "source": [
    "from sklearn.metrics.pairwise import cosine_similarity\n",
    "from sklearn.preprocessing import normalize\n",
    "from sentence_transformers import SentenceTransformer\n",
    "from transformers import T5Tokenizer, T5ForConditionalGeneration\n",
    "\n",
    "# Initialize the SentenceTransformer and T5 models\n",
    "model = SentenceTransformer('all-mpnet-base-v2')\n",
    "t5_tokenizer = T5Tokenizer.from_pretrained(\"t5-small\")\n",
    "t5_model = T5ForConditionalGeneration.from_pretrained(\"t5-small\")\n",
    "\n",
    "# Step 1: Accept User Keywords\n",
    "user_keywords = input(\"Enter keywords for summarization (comma-separated): \")\n",
    "user_keywords = [kw.strip() for kw in user_keywords.split(\",\")]\n",
    "\n",
    "# Step 2: Generate Embeddings for User Keywords\n",
    "keyword_embeddings = model.encode(user_keywords, convert_to_tensor=True)\n",
    "keyword_embeddings_cpu = normalize(keyword_embeddings.cpu().numpy(), axis=1)\n",
    "\n",
    "# Function to calculate cosine similarity\n",
    "def calculate_cosine_similarity(query_embeddings, response_embeddings):\n",
    "    similarities = {}\n",
    "    for response_id, embedding in response_embeddings.items():\n",
    "        # Normalize response embeddings\n",
    "        response_embedding_numpy = embedding.detach().cpu().numpy()\n",
    "        response_embedding_normalized = normalize(response_embedding_numpy.reshape(1, -1), axis=1)\n",
    "        \n",
    "        # Calculate cosine similarity for all user keywords\n",
    "        max_similarity = max(\n",
    "            cosine_similarity(query_embeddings, response_embedding_normalized).flatten()\n",
    "        )\n",
    "        similarities[response_id] = max_similarity\n",
    "    return similarities\n",
    "\n",
    "# Example threshold and fallback count\n",
    "THRESHOLD = 0.40\n",
    "TOP_N = 5  # Fallback: Select top N responses if no responses pass the threshold\n",
    "\n",
    "# Step 3: Calculate cosine similarity between user keyword embeddings and response embeddings\n",
    "response_similarities = {}\n",
    "for response_id, embedding in response_embeddings.items():\n",
    "    # Calculate cosine similarity\n",
    "    response_similarities[response_id] = calculate_cosine_similarity(keyword_embeddings_cpu, {response_id: embedding})[response_id]\n",
    "\n",
    "# Step 4: Filter responses based on threshold\n",
    "filtered_responses = {\n",
    "    response_id: sim for response_id, sim in response_similarities.items() if sim >= THRESHOLD\n",
    "}\n",
    "\n",
    "# Fallback: If no responses pass the threshold, select the top N most similar responses\n",
    "if not filtered_responses:\n",
    "    print(\"\\nNo responses passed the threshold. Using fallback mechanism.\")\n",
    "    filtered_responses = dict(\n",
    "        sorted(response_similarities.items(), key=lambda x: x[1], reverse=True)[:TOP_N]\n",
    "    )\n",
    "\n",
    "# Display filtered responses\n",
    "print(\"\\nFiltered Responses:\")\n",
    "print(filtered_responses)\n",
    "\n",
    "# Step 5: Fetch the filtered responses' text\n",
    "filtered_texts = [\n",
    "    \" \".join(df_cleaned.loc[df_cleaned['ResponseID'] == resp_id, 'Responses'].values[0])\n",
    "    for resp_id in filtered_responses.keys()\n",
    "]\n",
    "\n",
    "# Handle case where no responses are found\n",
    "if not filtered_texts:\n",
    "    filtered_texts = [\"No relevant responses found.\"]\n",
    "\n",
    "# Step 6: Prepare input for T5 summarization\n",
    "input_text = \"summarize: \" + \" \".join(filtered_texts)\n",
    "input_ids = t5_tokenizer.encode(input_text, return_tensors=\"pt\", truncation=True)\n",
    "\n",
    "# Step 7: Generate summary with T5\n",
    "summary_ids = t5_model.generate(input_ids, max_length=200, num_beams=8, length_penalty=1.5, early_stopping=True)\n",
    "summary = t5_tokenizer.decode(summary_ids[0], skip_special_tokens=True)\n",
    "\n",
    "# Display the generated summary\n",
    "print(\"\\nGenerated Summary:\")\n",
    "print(summary)\n"
   ]
  },
  {
   "cell_type": "markdown",
   "metadata": {},
   "source": [
    "Evaluation"
   ]
  },
  {
   "cell_type": "code",
   "execution_count": 266,
   "metadata": {},
   "outputs": [
    {
     "name": "stderr",
     "output_type": "stream",
     "text": [
      "huggingface/tokenizers: The current process just got forked, after parallelism has already been used. Disabling parallelism to avoid deadlocks...\n",
      "To disable this warning, you can either:\n",
      "\t- Avoid using `tokenizers` before the fork if possible\n",
      "\t- Explicitly set the environment variable TOKENIZERS_PARALLELISM=(true | false)\n"
     ]
    },
    {
     "name": "stdout",
     "output_type": "stream",
     "text": [
      "Collecting bert-score\n",
      "  Downloading bert_score-0.3.13-py3-none-any.whl.metadata (15 kB)\n",
      "Requirement already satisfied: torch>=1.0.0 in /Library/Frameworks/Python.framework/Versions/3.11/lib/python3.11/site-packages (from bert-score) (2.3.1)\n",
      "Requirement already satisfied: pandas>=1.0.1 in /Library/Frameworks/Python.framework/Versions/3.11/lib/python3.11/site-packages (from bert-score) (2.1.1)\n",
      "Requirement already satisfied: transformers>=3.0.0 in /Library/Frameworks/Python.framework/Versions/3.11/lib/python3.11/site-packages (from bert-score) (4.42.3)\n",
      "Requirement already satisfied: numpy in /Library/Frameworks/Python.framework/Versions/3.11/lib/python3.11/site-packages (from bert-score) (1.26.1)\n",
      "Requirement already satisfied: requests in /Library/Frameworks/Python.framework/Versions/3.11/lib/python3.11/site-packages (from bert-score) (2.31.0)\n",
      "Requirement already satisfied: tqdm>=4.31.1 in /Library/Frameworks/Python.framework/Versions/3.11/lib/python3.11/site-packages (from bert-score) (4.66.4)\n",
      "Requirement already satisfied: matplotlib in /Library/Frameworks/Python.framework/Versions/3.11/lib/python3.11/site-packages (from bert-score) (3.8.0)\n",
      "Requirement already satisfied: packaging>=20.9 in /Users/shashinimashi/Library/Python/3.11/lib/python/site-packages (from bert-score) (23.2)\n",
      "Requirement already satisfied: python-dateutil>=2.8.2 in /Users/shashinimashi/Library/Python/3.11/lib/python/site-packages (from pandas>=1.0.1->bert-score) (2.8.2)\n",
      "Requirement already satisfied: pytz>=2020.1 in /Library/Frameworks/Python.framework/Versions/3.11/lib/python3.11/site-packages (from pandas>=1.0.1->bert-score) (2023.3.post1)\n",
      "Requirement already satisfied: tzdata>=2022.1 in /Library/Frameworks/Python.framework/Versions/3.11/lib/python3.11/site-packages (from pandas>=1.0.1->bert-score) (2023.3)\n",
      "Requirement already satisfied: filelock in /Library/Frameworks/Python.framework/Versions/3.11/lib/python3.11/site-packages (from torch>=1.0.0->bert-score) (3.15.4)\n",
      "Requirement already satisfied: typing-extensions>=4.8.0 in /Library/Frameworks/Python.framework/Versions/3.11/lib/python3.11/site-packages (from torch>=1.0.0->bert-score) (4.12.2)\n",
      "Requirement already satisfied: sympy in /Library/Frameworks/Python.framework/Versions/3.11/lib/python3.11/site-packages (from torch>=1.0.0->bert-score) (1.12)\n",
      "Requirement already satisfied: networkx in /Library/Frameworks/Python.framework/Versions/3.11/lib/python3.11/site-packages (from torch>=1.0.0->bert-score) (3.2.1)\n",
      "Requirement already satisfied: jinja2 in /Library/Frameworks/Python.framework/Versions/3.11/lib/python3.11/site-packages (from torch>=1.0.0->bert-score) (3.1.4)\n",
      "Requirement already satisfied: fsspec in /Library/Frameworks/Python.framework/Versions/3.11/lib/python3.11/site-packages (from torch>=1.0.0->bert-score) (2024.6.1)\n",
      "Requirement already satisfied: huggingface-hub<1.0,>=0.23.2 in /Library/Frameworks/Python.framework/Versions/3.11/lib/python3.11/site-packages (from transformers>=3.0.0->bert-score) (0.23.4)\n",
      "Requirement already satisfied: pyyaml>=5.1 in /Library/Frameworks/Python.framework/Versions/3.11/lib/python3.11/site-packages (from transformers>=3.0.0->bert-score) (6.0.1)\n",
      "Requirement already satisfied: regex!=2019.12.17 in /Library/Frameworks/Python.framework/Versions/3.11/lib/python3.11/site-packages (from transformers>=3.0.0->bert-score) (2024.5.15)\n",
      "Requirement already satisfied: safetensors>=0.4.1 in /Library/Frameworks/Python.framework/Versions/3.11/lib/python3.11/site-packages (from transformers>=3.0.0->bert-score) (0.4.3)\n",
      "Requirement already satisfied: tokenizers<0.20,>=0.19 in /Library/Frameworks/Python.framework/Versions/3.11/lib/python3.11/site-packages (from transformers>=3.0.0->bert-score) (0.19.1)\n",
      "Requirement already satisfied: contourpy>=1.0.1 in /Library/Frameworks/Python.framework/Versions/3.11/lib/python3.11/site-packages (from matplotlib->bert-score) (1.1.1)\n",
      "Requirement already satisfied: cycler>=0.10 in /Library/Frameworks/Python.framework/Versions/3.11/lib/python3.11/site-packages (from matplotlib->bert-score) (0.12.1)\n",
      "Requirement already satisfied: fonttools>=4.22.0 in /Library/Frameworks/Python.framework/Versions/3.11/lib/python3.11/site-packages (from matplotlib->bert-score) (4.43.1)\n",
      "Requirement already satisfied: kiwisolver>=1.0.1 in /Library/Frameworks/Python.framework/Versions/3.11/lib/python3.11/site-packages (from matplotlib->bert-score) (1.4.5)\n",
      "Requirement already satisfied: pillow>=6.2.0 in /Library/Frameworks/Python.framework/Versions/3.11/lib/python3.11/site-packages (from matplotlib->bert-score) (10.1.0)\n",
      "Requirement already satisfied: pyparsing>=2.3.1 in /Library/Frameworks/Python.framework/Versions/3.11/lib/python3.11/site-packages (from matplotlib->bert-score) (3.1.1)\n",
      "Requirement already satisfied: charset-normalizer<4,>=2 in /Library/Frameworks/Python.framework/Versions/3.11/lib/python3.11/site-packages (from requests->bert-score) (3.3.0)\n",
      "Requirement already satisfied: idna<4,>=2.5 in /Library/Frameworks/Python.framework/Versions/3.11/lib/python3.11/site-packages (from requests->bert-score) (3.4)\n",
      "Requirement already satisfied: urllib3<3,>=1.21.1 in /Library/Frameworks/Python.framework/Versions/3.11/lib/python3.11/site-packages (from requests->bert-score) (2.0.7)\n",
      "Requirement already satisfied: certifi>=2017.4.17 in /Library/Frameworks/Python.framework/Versions/3.11/lib/python3.11/site-packages (from requests->bert-score) (2024.12.14)\n",
      "Requirement already satisfied: six>=1.5 in /Users/shashinimashi/Library/Python/3.11/lib/python/site-packages (from python-dateutil>=2.8.2->pandas>=1.0.1->bert-score) (1.16.0)\n",
      "Requirement already satisfied: MarkupSafe>=2.0 in /Library/Frameworks/Python.framework/Versions/3.11/lib/python3.11/site-packages (from jinja2->torch>=1.0.0->bert-score) (2.1.5)\n",
      "Requirement already satisfied: mpmath>=0.19 in /Library/Frameworks/Python.framework/Versions/3.11/lib/python3.11/site-packages (from sympy->torch>=1.0.0->bert-score) (1.3.0)\n",
      "Downloading bert_score-0.3.13-py3-none-any.whl (61 kB)\n",
      "\u001b[2K   \u001b[90m━━━━━━━━━━━━━━━━━━━━━━━━━━━━━━━━━━━━━━━━\u001b[0m \u001b[32m61.1/61.1 kB\u001b[0m \u001b[31m2.6 MB/s\u001b[0m eta \u001b[36m0:00:00\u001b[0m\n",
      "\u001b[?25hInstalling collected packages: bert-score\n",
      "Successfully installed bert-score-0.3.13\n",
      "\n",
      "\u001b[1m[\u001b[0m\u001b[34;49mnotice\u001b[0m\u001b[1;39;49m]\u001b[0m\u001b[39;49m A new release of pip is available: \u001b[0m\u001b[31;49m24.1.1\u001b[0m\u001b[39;49m -> \u001b[0m\u001b[32;49m24.3.1\u001b[0m\n",
      "\u001b[1m[\u001b[0m\u001b[34;49mnotice\u001b[0m\u001b[1;39;49m]\u001b[0m\u001b[39;49m To update, run: \u001b[0m\u001b[32;49mpip install --upgrade pip\u001b[0m\n",
      "Note: you may need to restart the kernel to use updated packages.\n"
     ]
    }
   ],
   "source": [
    "pip install bert-score"
   ]
  },
  {
   "cell_type": "code",
   "execution_count": 300,
   "metadata": {},
   "outputs": [],
   "source": [
    "# Combine the text of the filtered responses into a single reference string\n",
    "filtered_reference = \" \".join([\n",
    "    \" \".join(df_cleaned.loc[df_cleaned['ResponseID'] == resp_id, 'Responses'].values[0])\n",
    "    for resp_id in filtered_responses.keys()\n",
    "])\n",
    "\n"
   ]
  },
  {
   "cell_type": "code",
   "execution_count": 301,
   "metadata": {},
   "outputs": [
    {
     "name": "stdout",
     "output_type": "stream",
     "text": [
      "\n",
      "Filtered Reference Text:\n",
      "the royal aus ##tral ##asian college of medical administrators ra ##cm ##a is unique as a provider of medical management and leadership qualifications as it is the only specialist medical educator whose programs are recognised for the granting of specialist registration in medical administration the fellowship training program offered by ra ##cm ##a is accredited by the australian medical council and the new zealand medical council fellows of our college are recognised as medical specialists our education programs are aimed at e ##qui ##pping doctors with the leadership and management skills needed to influence and lead the aus ##tral ##asian health care systems with the clear aim of improving health outcomes of australians and new zealand ##ers the value of ra ##cm ##a is its members who strive to lead for change and positive outcomes for all australians new zealand ##ers and peoples in all parts of the world in which their members practice demonstrating their skills in key areas such as system leadership clinical governance financial management workforce management and professional leadership ra ##cm ##a members fill key roles in all aspects of health including government the public private and not ##for ##pro ##fi ##t sectors their roles are diverse including chief executives chief medical officers heads of departments clinical inform ##atic ##ians and academics informing influencing and making key decisions about system clinical governance and quality including clinical inform ##atics\n"
     ]
    }
   ],
   "source": [
    "print(\"\\nFiltered Reference Text:\")\n",
    "print(filtered_reference)\n"
   ]
  },
  {
   "cell_type": "code",
   "execution_count": 302,
   "metadata": {},
   "outputs": [
    {
     "name": "stderr",
     "output_type": "stream",
     "text": [
      "Some weights of RobertaModel were not initialized from the model checkpoint at roberta-large and are newly initialized: ['roberta.pooler.dense.bias', 'roberta.pooler.dense.weight']\n",
      "You should probably TRAIN this model on a down-stream task to be able to use it for predictions and inference.\n"
     ]
    },
    {
     "name": "stdout",
     "output_type": "stream",
     "text": [
      "calculating scores...\n",
      "computing bert embedding.\n"
     ]
    },
    {
     "name": "stderr",
     "output_type": "stream",
     "text": [
      "100%|██████████| 1/1 [00:00<00:00,  1.18it/s]\n"
     ]
    },
    {
     "name": "stdout",
     "output_type": "stream",
     "text": [
      "computing greedy matching.\n"
     ]
    },
    {
     "name": "stderr",
     "output_type": "stream",
     "text": [
      "100%|██████████| 1/1 [00:00<00:00, 109.00it/s]"
     ]
    },
    {
     "name": "stdout",
     "output_type": "stream",
     "text": [
      "done in 0.90 seconds, 1.11 sentences/sec\n",
      "\n",
      "Evaluation Metrics:\n",
      "ROUGE-1 F-Measure: 0.4984\n",
      "ROUGE-L F-Measure: 0.4984\n",
      "BLEU Score: 0.1291\n",
      "BERTScore Precision: 0.9607\n",
      "BERTScore Recall: 0.8693\n",
      "BERTScore F1: 0.9127\n"
     ]
    },
    {
     "name": "stderr",
     "output_type": "stream",
     "text": [
      "\n"
     ]
    }
   ],
   "source": [
    "from rouge_score import rouge_scorer\n",
    "from nltk.translate.bleu_score import sentence_bleu, SmoothingFunction\n",
    "from bert_score import score\n",
    "\n",
    "# Initialize ROUGE scorer\n",
    "rouge_scorer = rouge_scorer.RougeScorer(['rouge1', 'rougeL'], use_stemmer=True)\n",
    "\n",
    "# Compute ROUGE\n",
    "rouge_scores = rouge_scorer.score(filtered_reference, summary)  # Use the combined reference text\n",
    "rouge_1_fmeasure = rouge_scores['rouge1'].fmeasure\n",
    "rouge_l_fmeasure = rouge_scores['rougeL'].fmeasure\n",
    "\n",
    "# Compute BLEU\n",
    "bleu_score = sentence_bleu(\n",
    "    [filtered_reference.split()],  # Tokenized reference\n",
    "    summary.split(),               # Tokenized generated summary\n",
    "    smoothing_function=SmoothingFunction().method1  # Smoothing for short outputs\n",
    ")\n",
    "\n",
    "# Compute BERTScore\n",
    "P, R, F1 = score(\n",
    "    [summary],                     # List of generated summaries\n",
    "    [filtered_reference],          # List of reference texts (filtered responses)\n",
    "    lang=\"en\",                     # Language (e.g., English)\n",
    "    verbose=True                   # Show progress\n",
    ")\n",
    "\n",
    "# Display all metrics\n",
    "print(f\"\\nEvaluation Metrics:\")\n",
    "print(f\"ROUGE-1 F-Measure: {rouge_1_fmeasure:.4f}\")\n",
    "print(f\"ROUGE-L F-Measure: {rouge_l_fmeasure:.4f}\")\n",
    "print(f\"BLEU Score: {bleu_score:.4f}\")\n",
    "print(f\"BERTScore Precision: {P.mean():.4f}\")\n",
    "print(f\"BERTScore Recall: {R.mean():.4f}\")\n",
    "print(f\"BERTScore F1: {F1.mean():.4f}\")\n"
   ]
  },
  {
   "cell_type": "markdown",
   "metadata": {},
   "source": [
    "Static Threshold\n",
    "Keywords: medical,clinical\n",
    "Evaluation Metrics: Threshold 0.2\n",
    "ROUGE-1 F-Measure: 0.0126\n",
    "ROUGE-L F-Measure: 0.0126\n",
    "BLEU Score: 0.0000\n",
    "BERTScore Precision: 0.9437\n",
    "BERTScore Recall: 0.8227\n",
    "BERTScore F1: 0.8791\n",
    "\n",
    "Grid Search Threshold\n",
    "Evaluation Metrics:04 \n",
    "ROUGE-1 F-Measure: 0.4984\n",
    "ROUGE-L F-Measure: 0.4984\n",
    "BLEU Score: 0.1291\n",
    "BERTScore Precision: 0.9607\n",
    "BERTScore Recall: 0.8693\n",
    "BERTScore F1: 0.9127\n",
    "\n",
    "Dynamic Threshold\n",
    "Evaluation Metrics:\n",
    "ROUGE-1 F-Measure: 0.1942\n",
    "ROUGE-L F-Measure: 0.1165\n",
    "BLEU Score: 0.0019\n",
    "BERTScore Precision: 0.8272\n",
    "BERTScore Recall: 0.7876\n",
    "BERTScore F1: 0.8069"
   ]
  },
  {
   "cell_type": "markdown",
   "metadata": {},
   "source": [
    "Applying Grid search for Threshold optimization"
   ]
  },
  {
   "cell_type": "code",
   "execution_count": 282,
   "metadata": {},
   "outputs": [
    {
     "name": "stdout",
     "output_type": "stream",
     "text": [
      "\n",
      "Generated Summary:\n",
      "department of health and aged care welcomes ##s the discussion paper released by the department of industry science and resources di ##sr on safe and responsible ai in australia. artificial intelligence ai is an emerging capability that has the potential to transform wide areas of the economy and improve lives it is expected to have significant impacts in the healthcare sector ai is advancing quickly and will likely generate disrupt ##ive innovation across many parts of society.\n",
      "Threshold: 0.00, ROUGE-1 F-Measure: 0.0014\n",
      "\n",
      "Generated Summary:\n",
      "australian federal police af ##p welcome ##s the opportunity to make a submission to the department of industry science and resources public consultation on safe and responsible artificial intelligence ai in australia this submission addresses both identified criminal threats relating to ai and considerations for the use of ai. the af ##p has responsibility for enforcing commonwealth criminal law contributing to combat ##ing complex trans ##national serious and organised crime impact. the af ##p\n",
      "Threshold: 0.01, ROUGE-1 F-Measure: 0.0014\n",
      "\n",
      "Generated Summary:\n",
      "australian federal police af ##p welcome ##s the opportunity to make a submission to the department of industry science and resources public consultation on safe and responsible artificial intelligence ai in australia this submission addresses both identified criminal threats relating to ai and considerations for the use of ai. the af ##p has responsibility for enforcing commonwealth criminal law contributing to combat ##ing complex trans ##national serious and organised crime impact. the af ##p\n",
      "Threshold: 0.02, ROUGE-1 F-Measure: 0.0014\n",
      "\n",
      "Generated Summary:\n",
      "australian federal police af ##p welcome ##s the opportunity to make a submission to the department of industry science and resources public consultation on safe and responsible artificial intelligence ai in australia this submission addresses both identified criminal threats relating to ai and considerations for the use of ai. the af ##p has responsibility for enforcing commonwealth criminal law contributing to combat ##ing complex trans ##national serious and organised crime impact. the af ##p\n",
      "Threshold: 0.03, ROUGE-1 F-Measure: 0.0014\n",
      "\n",
      "Generated Summary:\n",
      "australian federal police af ##p welcome ##s the opportunity to make a submission to the department of industry science and resources public consultation on safe and responsible artificial intelligence ai in australia this submission addresses both identified criminal threats relating to ai and considerations for the use of ai. the af ##p has responsibility for enforcing commonwealth criminal law contributing to combat ##ing complex trans ##national serious and organised crime impact. the af ##p\n",
      "Threshold: 0.04, ROUGE-1 F-Measure: 0.0015\n",
      "\n",
      "Generated Summary:\n",
      "australian federal police af ##p welcome ##s the opportunity to make a submission to the department of industry science and resources public consultation on safe and responsible artificial intelligence ai in australia this submission addresses both identified criminal threats relating to ai and considerations for the use of ai. the af ##p has responsibility for enforcing commonwealth criminal law contributing to combat ##ing complex trans ##national serious and organised crime impact. the af ##p\n",
      "Threshold: 0.05, ROUGE-1 F-Measure: 0.0015\n",
      "\n",
      "Generated Summary:\n",
      "australian federal police af ##p welcome ##s the opportunity to make a submission to the department of industry science and resources public consultation on safe and responsible artificial intelligence ai in australia this submission addresses both identified criminal threats relating to ai and considerations for the use of ai. the af ##p has responsibility for enforcing commonwealth criminal law contributing to combat ##ing complex trans ##national serious and organised crime impact. the af ##p\n",
      "Threshold: 0.06, ROUGE-1 F-Measure: 0.0015\n",
      "\n",
      "Generated Summary:\n",
      "australian federal police af ##p welcome ##s the opportunity to make a submission to the department of industry science and resources public consultation on safe and responsible artificial intelligence ai in australia this submission addresses both identified criminal threats relating to ai and considerations for the use of ai. the af ##p has responsibility for enforcing commonwealth criminal law contributing to combat ##ing complex trans ##national serious and organised crime impact. the af ##p\n",
      "Threshold: 0.07, ROUGE-1 F-Measure: 0.0016\n",
      "\n",
      "Generated Summary:\n",
      "australian federal police af ##p welcome ##s the opportunity to make a submission to the department of industry science and resources public consultation on safe and responsible artificial intelligence ai in australia this submission addresses both identified criminal threats relating to ai and considerations for the use of ai. the af ##p has responsibility for enforcing commonwealth criminal law contributing to combat ##ing complex trans ##national serious and organised crime impact. the af ##p\n",
      "Threshold: 0.08, ROUGE-1 F-Measure: 0.0017\n",
      "\n",
      "Generated Summary:\n",
      "australian federal police af ##p welcome ##s the opportunity to make a submission to the department of industry science and resources public consultation on safe and responsible artificial intelligence ai in australia this submission addresses both identified criminal threats relating to ai and considerations for the use of ai. the af ##p has responsibility for enforcing commonwealth criminal law contributing to combat ##ing complex trans ##national serious and organised crime impact. the af ##p\n",
      "Threshold: 0.09, ROUGE-1 F-Measure: 0.0018\n",
      "\n",
      "Generated Summary:\n",
      "australian federal police af ##p welcome ##s the opportunity to make a submission to the department of industry science and resources public consultation on safe and responsible artificial intelligence ai in australia this submission addresses both identified criminal threats relating to ai and considerations for the use of ai. the af ##p has responsibility for enforcing commonwealth criminal law contributing to combat ##ing complex trans ##national serious and organised crime impact. the af ##p\n",
      "Threshold: 0.10, ROUGE-1 F-Measure: 0.0019\n",
      "\n",
      "Generated Summary:\n",
      "australian federal police af ##p welcome ##s the opportunity to make a submission to the department of industry science and resources public consultation on safe and responsible artificial intelligence ai in australia this submission addresses both identified criminal threats relating to ai and considerations for the use of ai. the af ##p has responsibility for enforcing commonwealth criminal law contributing to combat ##ing complex trans ##national serious and organised crime impact. the af ##p\n",
      "Threshold: 0.11, ROUGE-1 F-Measure: 0.0022\n",
      "\n",
      "Generated Summary:\n",
      "australian federal police af ##p welcome ##s the opportunity to make a submission to the department of industry science and resources public consultation on safe and responsible artificial intelligence ai in australia this submission addresses both identified criminal threats relating to ai and considerations for the use of ai. the af ##p has responsibility for enforcing commonwealth criminal law contributing to combat ##ing complex trans ##national serious and organised crime impact. the af ##p\n",
      "Threshold: 0.12, ROUGE-1 F-Measure: 0.0025\n",
      "\n",
      "Generated Summary:\n",
      "australian federal police af ##p welcome ##s the opportunity to make a submission to the department of industry science and resources public consultation on safe and responsible artificial intelligence ai in australia this submission addresses both identified criminal threats relating to ai and considerations for the use of ai. the af ##p has responsibility for enforcing commonwealth criminal law contributing to combat ##ing complex trans ##national serious and organised crime impact. the af ##p\n",
      "Threshold: 0.13, ROUGE-1 F-Measure: 0.0033\n",
      "\n",
      "Generated Summary:\n",
      "australian federal police af ##p welcome ##s the opportunity to make a submission to the department of industry science and resources public consultation on safe and responsible artificial intelligence ai in australia this submission addresses both identified criminal threats relating to ai and considerations for the use of ai. the af ##p has responsibility for enforcing commonwealth criminal law contributing to combat ##ing complex trans ##national serious and organised crime impact. the af ##p\n",
      "Threshold: 0.14, ROUGE-1 F-Measure: 0.0042\n",
      "\n",
      "Generated Summary:\n",
      "australian federal police af ##p welcome ##s the opportunity to make a submission to the department of industry science and resources public consultation on safe and responsible artificial intelligence ai in australia this submission addresses both identified criminal threats relating to ai and considerations for the use of ai. the af ##p has responsibility for enforcing commonwealth criminal law contributing to combat ##ing complex trans ##national serious and organised crime impact. the af ##p\n",
      "Threshold: 0.15, ROUGE-1 F-Measure: 0.0052\n",
      "\n",
      "Generated Summary:\n",
      "australian federal police af ##p welcome ##s the opportunity to make a submission to the department of industry science and resources public consultation on safe and responsible artificial intelligence ai in australia this submission addresses both identified criminal threats relating to ai and considerations for the use of ai. the af ##p has responsibility for enforcing commonwealth criminal law contributing to combat ##ing complex trans ##national serious and organised crime impact. the af ##p\n",
      "Threshold: 0.16, ROUGE-1 F-Measure: 0.0073\n",
      "\n",
      "Generated Summary:\n",
      "department of health and aged care welcomes ##s the discussion paper released by the department of industry science and resources di ##sr on safe and responsible ai in australia. artificial intelligence ai is an emerging capability that has the potential to transform wide areas of the economy and improve lives it is expected to have significant impacts in the healthcare sector ai is advancing quickly and will likely generate disrupt ##ive innovation across many parts of society.\n",
      "Threshold: 0.17, ROUGE-1 F-Measure: 0.0093\n",
      "\n",
      "Generated Summary:\n",
      "department of health and aged care welcomes ##s the discussion paper released by the department of industry science and resources di ##sr on safe and responsible ai in australia. artificial intelligence ai is an emerging capability that has the potential to transform wide areas of the economy and improve lives it is expected to have significant impacts in the healthcare sector ai is advancing quickly and will likely generate disrupt ##ive innovation across many parts of society.\n",
      "Threshold: 0.18, ROUGE-1 F-Measure: 0.0108\n",
      "\n",
      "Generated Summary:\n",
      "department of health and aged care welcomes ##s the discussion paper released by the department of industry science and resources di ##sr on safe and responsible ai in australia. artificial intelligence ai is an emerging capability that has the potential to transform wide areas of the economy and improve lives it is expected to have significant impacts in the healthcare sector ai is advancing quickly and will likely generate disrupt ##ive innovation across many parts of society.\n",
      "Threshold: 0.19, ROUGE-1 F-Measure: 0.0116\n",
      "\n",
      "Generated Summary:\n",
      "department of health and aged care welcomes ##s the discussion paper released by the department of industry science and resources di ##sr on safe and responsible ai in australia. artificial intelligence ai is an emerging capability that has the potential to transform wide areas of the economy and improve lives it is expected to have significant impacts in the healthcare sector ai is advancing quickly and will likely generate disrupt ##ive innovation across many parts of society.\n",
      "Threshold: 0.20, ROUGE-1 F-Measure: 0.0126\n",
      "\n",
      "Generated Summary:\n",
      "department of health and aged care welcomes ##s the discussion paper released by the department of industry science and resources di ##sr on safe and responsible ai in australia. artificial intelligence ai is an emerging capability that has the potential to transform wide areas of the economy and improve lives it is expected to have significant impacts in the healthcare sector ai is advancing quickly and will likely generate disrupt ##ive innovation across many parts of society.\n",
      "Threshold: 0.21, ROUGE-1 F-Measure: 0.0146\n",
      "\n",
      "Generated Summary:\n",
      "department of health and aged care welcomes ##s the discussion paper released by the department of industry science and resources di ##sr on safe and responsible ai in australia. artificial intelligence ai is an emerging capability that has the potential to transform wide areas of the economy and improve lives it is expected to have significant impacts in the healthcare sector ai is advancing quickly and will likely generate disrupt ##ive innovation across many parts of society.\n",
      "Threshold: 0.22, ROUGE-1 F-Measure: 0.0150\n",
      "\n",
      "Generated Summary:\n",
      "department of health and aged care welcomes ##s the discussion paper released by the department of industry science and resources di ##sr on safe and responsible ai in australia. artificial intelligence ai is an emerging capability that has the potential to transform wide areas of the economy and improve lives it is expected to have significant impacts in the healthcare sector ai is advancing quickly and will likely generate disrupt ##ive innovation across many parts of society.\n",
      "Threshold: 0.23, ROUGE-1 F-Measure: 0.0163\n",
      "\n",
      "Generated Summary:\n",
      "department of health and aged care welcomes ##s the discussion paper released by the department of industry science and resources di ##sr on safe and responsible ai in australia. artificial intelligence ai is an emerging capability that has the potential to transform wide areas of the economy and improve lives it is expected to have significant impacts in the healthcare sector ai is advancing quickly and will likely generate disrupt ##ive innovation across many parts of society.\n",
      "Threshold: 0.24, ROUGE-1 F-Measure: 0.0163\n",
      "\n",
      "Generated Summary:\n",
      "department of health and aged care welcomes ##s the discussion paper released by the department of industry science and resources di ##sr on safe and responsible ai in australia. artificial intelligence ai is an emerging capability that has the potential to transform wide areas of the economy and improve lives it is expected to have significant impacts in the healthcare sector ai is advancing quickly and will likely generate disrupt ##ive innovation across many parts of society.\n",
      "Threshold: 0.25, ROUGE-1 F-Measure: 0.0165\n",
      "\n",
      "Generated Summary:\n",
      "department of health and aged care welcomes ##s the discussion paper released by the department of industry science and resources di ##sr on safe and responsible ai in australia. artificial intelligence ai is an emerging capability that has the potential to transform wide areas of the economy and improve lives it is expected to have significant impacts in the healthcare sector ai is advancing quickly and will likely generate disrupt ##ive innovation across many parts of society.\n",
      "Threshold: 0.26, ROUGE-1 F-Measure: 0.0172\n",
      "\n",
      "Generated Summary:\n",
      "department of health and aged care welcomes ##s the discussion paper released by the department of industry science and resources di ##sr on safe and responsible ai in australia. artificial intelligence ai is an emerging capability that has the potential to transform wide areas of the economy and improve lives it is expected to have significant impacts in the healthcare sector ai is advancing quickly and will likely generate disrupt ##ive innovation across many parts of society.\n",
      "Threshold: 0.27, ROUGE-1 F-Measure: 0.0183\n",
      "\n",
      "Generated Summary:\n",
      "department of health and aged care welcomes ##s the discussion paper released by the department of industry science and resources di ##sr on safe and responsible ai in australia. artificial intelligence ai is an emerging capability that has the potential to transform wide areas of the economy and improve lives it is expected to have significant impacts in the healthcare sector ai is advancing quickly and will likely generate disrupt ##ive innovation across many parts of society.\n",
      "Threshold: 0.28, ROUGE-1 F-Measure: 0.0202\n",
      "\n",
      "Generated Summary:\n",
      "department of health and aged care welcomes ##s the discussion paper released by the department of industry science and resources di ##sr on safe and responsible ai in australia. artificial intelligence ai is an emerging capability that has the potential to transform wide areas of the economy and improve lives it is expected to have significant impacts in the healthcare sector ai is advancing quickly and will likely generate disrupt ##ive innovation across many parts of society.\n",
      "Threshold: 0.29, ROUGE-1 F-Measure: 0.0227\n",
      "\n",
      "Generated Summary:\n",
      "department of health and aged care welcomes ##s the discussion paper released by the department of industry science and resources di ##sr on safe and responsible ai in australia. artificial intelligence ai is an emerging capability that has the potential to transform wide areas of the economy and improve lives it is expected to have significant impacts in the healthcare sector ai is advancing quickly and will likely generate disrupt ##ive innovation across many parts of society.\n",
      "Threshold: 0.30, ROUGE-1 F-Measure: 0.0235\n",
      "\n",
      "Generated Summary:\n",
      "department of health and aged care welcomes ##s the discussion paper released by the department of industry science and resources di ##sr on safe and responsible ai in australia. artificial intelligence ai is an emerging capability that has the potential to transform wide areas of the economy and improve lives it is expected to have significant impacts in the healthcare sector ai is advancing quickly and will likely generate disrupt ##ive innovation across many parts of society.\n",
      "Threshold: 0.31, ROUGE-1 F-Measure: 0.0280\n",
      "\n",
      "Generated Summary:\n",
      "department of health and aged care welcomes ##s the discussion paper released by the department of industry science and resources di ##sr on safe and responsible ai in australia. artificial intelligence ai is an emerging capability that has the potential to transform wide areas of the economy and improve lives it is expected to have significant impacts in the healthcare sector ai is advancing quickly and will likely generate disrupt ##ive innovation across many parts of society.\n",
      "Threshold: 0.32, ROUGE-1 F-Measure: 0.0315\n",
      "\n",
      "Generated Summary:\n",
      "department of health and aged care welcomes ##s the discussion paper released by the department of industry science and resources di ##sr on safe and responsible ai in australia. artificial intelligence ai is an emerging capability that has the potential to transform wide areas of the economy and improve lives it is expected to have significant impacts in the healthcare sector ai is advancing quickly and will likely generate disrupt ##ive innovation across many parts of society.\n",
      "Threshold: 0.33, ROUGE-1 F-Measure: 0.0455\n",
      "\n",
      "Generated Summary:\n",
      "the royal aus ##tral ##asian college of medical administrators ra ##cm ##a is unique as a provider of medical management and leadership qualifications. the fellowship training program offered by ra ##cm ##a is accredited by the australian medical council and the new zealand medical council fellows of our college are recognised as medical specialists our education programs are aimed at e ##qui ##pping doctors with the leadership and management skills needed to influence and lead the aus ##tral\n",
      "Threshold: 0.34, ROUGE-1 F-Measure: 0.0895\n",
      "\n",
      "Generated Summary:\n",
      "the royal aus ##tral ##asian college of medical administrators ra ##cm ##a is unique as a provider of medical management and leadership qualifications. the fellowship training program offered by ra ##cm ##a is accredited by the australian medical council and the new zealand medical council fellows of our college are recognised as medical specialists our education programs are aimed at e ##qui ##pping doctors with the leadership and management skills needed to influence and lead the aus ##tral\n",
      "Threshold: 0.35, ROUGE-1 F-Measure: 0.0895\n",
      "\n",
      "Generated Summary:\n",
      "the royal aus ##tral ##asian college of medical administrators ra ##cm ##a is unique as a provider of medical management and leadership qualifications. the fellowship training program offered by ra ##cm ##a is accredited by the australian medical council and the new zealand medical council fellows of our college are recognised as medical specialists our education programs are aimed at e ##qui ##pping doctors with the leadership and management skills needed to influence and lead the aus ##tral\n",
      "Threshold: 0.36, ROUGE-1 F-Measure: 0.1079\n",
      "\n",
      "Generated Summary:\n",
      "the royal aus ##tral ##asian college of medical administrators ra ##cm ##a is unique as a provider of medical management and leadership qualifications. the fellowship training program offered by ra ##cm ##a is accredited by the australian medical council and the new zealand medical council fellows of our college are recognised as medical specialists our education programs are aimed at e ##qui ##pping doctors with the leadership and management skills needed to influence and lead the aus ##tral\n",
      "Threshold: 0.37, ROUGE-1 F-Measure: 0.1799\n",
      "\n",
      "Generated Summary:\n",
      "royal aus ##tral ##asian college of medical administrators ra ##cm ##a is unique as a provider of medical management and leadership qualifications. the fellowship training program offered by ra ##cm ##a is accredited by the australian medical council and the new zealand medical council fellows of our college are recognised as medical specialists. members fill key roles in all aspects of health including government the public private and not ##pro ##fi ##t sectors their roles are diverse\n",
      "Threshold: 0.38, ROUGE-1 F-Measure: 0.1799\n",
      "\n",
      "Generated Summary:\n",
      "royal aus ##tral ##asian college of medical administrators ra ##cm ##a is unique as a provider of medical management and leadership qualifications. the fellowship training program offered by ra ##cm ##a is accredited by the australian medical council and the new zealand medical council fellows of our college are recognised as medical specialists. members fill key roles in all aspects of health including government the public private and not ##pro ##fi ##t sectors their roles are diverse\n",
      "Threshold: 0.39, ROUGE-1 F-Measure: 0.1799\n",
      "\n",
      "Generated Summary:\n",
      "royal aus ##tral ##asian college of medical administrators ra ##cm ##a is unique as a provider of medical management and leadership qualifications. the fellowship training program offered by ra ##cm ##a is accredited by the australian medical council and the new zealand medical council fellows of our college are recognised as medical specialists. members fill key roles in all aspects of health including government the public private and not ##pro ##fi ##t sectors their roles are diverse\n",
      "Threshold: 0.40, ROUGE-1 F-Measure: 0.4984\n",
      "\n",
      "Generated Summary:\n",
      "royal aus ##tral ##asian college of medical administrators ra ##cm ##a is unique as a provider of medical management and leadership qualifications. the fellowship training program offered by ra ##cm ##a is accredited by the australian medical council and the new zealand medical council fellows of our college are recognised as medical specialists our education programs are aimed at e ##qui ##pping doctors with the leadership and management skills needed to influence and lead the aus ##tral\n",
      "Threshold: 0.41, ROUGE-1 F-Measure: 0.4984\n",
      "\n",
      "Generated Summary:\n",
      "royal aus ##tral ##asian college of medical administrators ra ##cm ##a is unique as a provider of medical management and leadership qualifications. the fellowship training program offered by ra ##cm ##a is accredited by the australian medical council and the new zealand medical council fellows of our college are recognised as medical specialists our education programs are aimed at e ##qui ##pping doctors with the leadership and management skills needed to influence and lead the aus ##tral\n",
      "Threshold: 0.42, ROUGE-1 F-Measure: 0.4984\n",
      "\n",
      "Generated Summary:\n",
      "royal aus ##tral ##asian college of medical administrators ra ##cm ##a is unique as a provider of medical management and leadership qualifications. the fellowship training program offered by ra ##cm ##a is accredited by the australian medical council and the new zealand medical council fellows of our college are recognised as medical specialists our education programs are aimed at e ##qui ##pping doctors with the leadership and management skills needed to influence and lead the aus ##tral\n",
      "Threshold: 0.43, ROUGE-1 F-Measure: 0.4984\n",
      "\n",
      "Optimal Threshold: 0.40 with ROUGE-1 F-Measure: 0.4984\n"
     ]
    }
   ],
   "source": [
    "import numpy as np\n",
    "from rouge_score import rouge_scorer\n",
    "from nltk.translate.bleu_score import sentence_bleu, SmoothingFunction\n",
    "from bert_score import score\n",
    "\n",
    "# Initialize ROUGE scorer\n",
    "rouge_scorer = rouge_scorer.RougeScorer(['rouge1', 'rougeL'], use_stemmer=True)\n",
    "\n",
    "# Define variables to track the best threshold and score\n",
    "best_threshold = None\n",
    "best_rouge1_fmeasure = -1\n",
    "\n",
    "# Define the range of thresholds to test\n",
    "threshold_range = np.arange(0.0, 1.01, 0.01)  # From 0.0 to 1.0 with 0.01 increments\n",
    "\n",
    "# Perform grid search\n",
    "for threshold in threshold_range:\n",
    "    # Filter responses based on the current threshold\n",
    "    filtered_responses = {\n",
    "        response_id: sim for response_id, sim in response_similarities.items() if sim >= threshold\n",
    "    }\n",
    "    \n",
    "    # Skip if no responses pass the threshold\n",
    "    if not filtered_responses:\n",
    "        continue\n",
    "\n",
    "    # Combine filtered responses into a single reference string\n",
    "    filtered_reference = \" \".join([\n",
    "        \" \".join(df_cleaned.loc[df_cleaned['ResponseID'] == resp_id, 'Responses'].values[0])\n",
    "        for resp_id in filtered_responses.keys()\n",
    "    ])\n",
    "\n",
    "    # Generate summary \n",
    "    summary_ids = t5_model.generate(input_ids, max_length=200, num_beams=8, length_penalty=1.5, early_stopping=True)\n",
    "    summary = t5_tokenizer.decode(summary_ids[0], skip_special_tokens=True)\n",
    "\n",
    "    # Display the generated summary\n",
    "    print(\"\\nGenerated Summary:\")\n",
    "    print(summary)\n",
    "\n",
    "    # Assume generate_summary as the summarization function\n",
    "    input_text = \"summarize: \" + filtered_reference\n",
    "    input_ids = t5_tokenizer.encode(input_text, return_tensors=\"pt\", truncation=True)\n",
    "    summary_ids = t5_model.generate(input_ids, max_length=150, num_beams=5, early_stopping=True)\n",
    "    summary = t5_tokenizer.decode(summary_ids[0], skip_special_tokens=True)\n",
    "\n",
    "    # Evaluate using ROUGE-1 F-Measure\n",
    "    rouge_scores = rouge_scorer.score(filtered_reference, summary)\n",
    "    rouge1_fmeasure = rouge_scores['rouge1'].fmeasure\n",
    "\n",
    "    # Update the best threshold if the current one is better\n",
    "    if rouge1_fmeasure > best_rouge1_fmeasure:\n",
    "        best_rouge1_fmeasure = rouge1_fmeasure\n",
    "        best_threshold = threshold\n",
    "\n",
    "    # Optionally, print progress for debugging\n",
    "    print(f\"Threshold: {threshold:.2f}, ROUGE-1 F-Measure: {rouge1_fmeasure:.4f}\")\n",
    "\n",
    "# Output the best threshold and score\n",
    "print(f\"\\nOptimal Threshold: {best_threshold:.2f} with ROUGE-1 F-Measure: {best_rouge1_fmeasure:.4f}\")\n"
   ]
  },
  {
   "cell_type": "markdown",
   "metadata": {},
   "source": [
    "Dynamic Threshold based on Similarity Score method"
   ]
  },
  {
   "cell_type": "code",
   "execution_count": 303,
   "metadata": {},
   "outputs": [
    {
     "name": "stderr",
     "output_type": "stream",
     "text": [
      "Special tokens have been added in the vocabulary, make sure the associated word embeddings are fine-tuned or trained.\n"
     ]
    },
    {
     "name": "stdout",
     "output_type": "stream",
     "text": [
      "\n",
      "Dynamic Threshold: 0.1943\n",
      "\n",
      "Filtered Responses:\n",
      "{501: 0.3214892, 487: 0.28845337, 484: 0.28588706, 459: 0.3135083, 456: 0.19475144, 433: 0.4345435, 432: 0.33562458, 428: 0.3259278, 388: 0.22591971, 379: 0.3166092, 368: 0.20993409, 354: 0.307584, 337: 0.3619985, 335: 0.19888848, 318: 0.24295926, 288: 0.33239985, 282: 0.20518482, 272: 0.25665125, 270: 0.3357447, 269: 0.29243273, 261: 0.26826602, 254: 0.20108172, 236: 0.32821319, 235: 0.39185894, 222: 0.3081241, 218: 0.20083797, 214: 0.28457117, 167: 0.22784068, 161: 0.20732924, 158: 0.20518467, 118: 0.32784605, 116: 0.33611903, 111: 0.20528916, 71: 0.26874042, 70: 0.27302998, 67: 0.27488136, 65: 0.2516881, 59: 0.3099209, 58: 0.39038882, 53: 0.25899515, 49: 0.21935953, 7: 0.357951}\n",
      "\n",
      "Generated Summary:\n",
      "department of health and aged care welcomes ##s the discussion paper released by the department of industry science and resources di ##sr on safe and responsible ai in australia. artificial intelligence ai is an emerging capability that has the potential to transform wide areas of the economy and improve lives it is expected to have significant impacts in the healthcare sector ai is advancing quickly and will likely generate disrupt ##ive innovation across many parts of society.\n"
     ]
    }
   ],
   "source": [
    "from sklearn.metrics.pairwise import cosine_similarity\n",
    "from sklearn.preprocessing import normalize\n",
    "from sentence_transformers import SentenceTransformer\n",
    "from transformers import T5Tokenizer, T5ForConditionalGeneration\n",
    "import numpy as np\n",
    "\n",
    "# Initialize the SentenceTransformer and T5 models\n",
    "model = SentenceTransformer('all-mpnet-base-v2')\n",
    "t5_tokenizer = T5Tokenizer.from_pretrained(\"t5-small\")\n",
    "t5_model = T5ForConditionalGeneration.from_pretrained(\"t5-small\")\n",
    "\n",
    "# Step 1: Accept User Keywords\n",
    "user_keywords = input(\"Enter keywords for summarization (comma-separated): \")\n",
    "user_keywords = [kw.strip() for kw in user_keywords.split(\",\")]\n",
    "\n",
    "# Step 2: Generate Embeddings for User Keywords\n",
    "keyword_embeddings = model.encode(user_keywords, convert_to_tensor=True)\n",
    "keyword_embeddings_cpu = normalize(keyword_embeddings.cpu().numpy(), axis=1)\n",
    "\n",
    "# Function to calculate cosine similarity\n",
    "def calculate_cosine_similarity(query_embeddings, response_embeddings):\n",
    "    similarities = {}\n",
    "    for response_id, embedding in response_embeddings.items():\n",
    "        # Normalize response embeddings\n",
    "        response_embedding_numpy = embedding.detach().cpu().numpy()\n",
    "        response_embedding_normalized = normalize(response_embedding_numpy.reshape(1, -1), axis=1)\n",
    "        \n",
    "        # Calculate cosine similarity for all user keywords\n",
    "        max_similarity = max(\n",
    "            cosine_similarity(query_embeddings, response_embedding_normalized).flatten()\n",
    "        )\n",
    "        similarities[response_id] = max_similarity\n",
    "    return similarities\n",
    "\n",
    "# Step 3: Calculate cosine similarity between user keyword embeddings and response embeddings\n",
    "response_similarities = {}\n",
    "for response_id, embedding in response_embeddings.items():\n",
    "    # Calculate cosine similarity\n",
    "    response_similarities[response_id] = calculate_cosine_similarity(keyword_embeddings_cpu, {response_id: embedding})[response_id]\n",
    "\n",
    "# Step 4: Compute the Dynamic Threshold\n",
    "# Dynamic threshold based on mean + standard deviation of similarity scores\n",
    "similarity_scores = list(response_similarities.values())\n",
    "mean_similarity = np.mean(similarity_scores)\n",
    "std_similarity = np.std(similarity_scores)\n",
    "dynamic_threshold = mean_similarity + std_similarity\n",
    "\n",
    "print(f\"\\nDynamic Threshold: {dynamic_threshold:.4f}\")\n",
    "\n",
    "# Step 5: Filter responses based on the dynamic threshold\n",
    "filtered_responses = {\n",
    "    response_id: sim for response_id, sim in response_similarities.items() if sim >= dynamic_threshold\n",
    "}\n",
    "\n",
    "# Fallback: If no responses pass the threshold, select the top N most similar responses\n",
    "TOP_N = 5\n",
    "if not filtered_responses:\n",
    "    print(\"\\nNo responses passed the dynamic threshold. Using fallback mechanism.\")\n",
    "    filtered_responses = dict(\n",
    "        sorted(response_similarities.items(), key=lambda x: x[1], reverse=True)[:TOP_N]\n",
    "    )\n",
    "\n",
    "# Display filtered responses\n",
    "print(\"\\nFiltered Responses:\")\n",
    "print(filtered_responses)\n",
    "\n",
    "# Step 6: Fetch the filtered responses' text\n",
    "filtered_texts = [\n",
    "    \" \".join(df_cleaned.loc[df_cleaned['ResponseID'] == resp_id, 'Responses'].values[0])\n",
    "    for resp_id in filtered_responses.keys()\n",
    "]\n",
    "\n",
    "# Handle case where no responses are found\n",
    "if not filtered_texts:\n",
    "    filtered_texts = [\"No relevant responses found.\"]\n",
    "\n",
    "# Step 7: Prepare input for T5 summarization\n",
    "input_text = \"summarize: \" + \" \".join(filtered_texts)\n",
    "input_ids = t5_tokenizer.encode(input_text, return_tensors=\"pt\", truncation=True)\n",
    "\n",
    "# Step 8: Generate summary with T5\n",
    "summary_ids = t5_model.generate(input_ids, max_length=200, num_beams=8, length_penalty=1.5, early_stopping=True)\n",
    "summary = t5_tokenizer.decode(summary_ids[0], skip_special_tokens=True)\n",
    "\n",
    "# Display the generated summary\n",
    "print(\"\\nGenerated Summary:\")\n",
    "print(summary)\n"
   ]
  },
  {
   "cell_type": "code",
   "execution_count": 304,
   "metadata": {},
   "outputs": [
    {
     "name": "stderr",
     "output_type": "stream",
     "text": [
      "Some weights of RobertaModel were not initialized from the model checkpoint at roberta-large and are newly initialized: ['roberta.pooler.dense.bias', 'roberta.pooler.dense.weight']\n",
      "You should probably TRAIN this model on a down-stream task to be able to use it for predictions and inference.\n"
     ]
    },
    {
     "name": "stdout",
     "output_type": "stream",
     "text": [
      "calculating scores...\n",
      "computing bert embedding.\n"
     ]
    },
    {
     "name": "stderr",
     "output_type": "stream",
     "text": [
      "100%|██████████| 1/1 [00:00<00:00,  1.18it/s]\n"
     ]
    },
    {
     "name": "stdout",
     "output_type": "stream",
     "text": [
      "computing greedy matching.\n"
     ]
    },
    {
     "name": "stderr",
     "output_type": "stream",
     "text": [
      "100%|██████████| 1/1 [00:00<00:00, 103.15it/s]"
     ]
    },
    {
     "name": "stdout",
     "output_type": "stream",
     "text": [
      "done in 0.87 seconds, 1.14 sentences/sec\n",
      "\n",
      "Evaluation Metrics:\n",
      "ROUGE-1 F-Measure: 0.1942\n",
      "ROUGE-L F-Measure: 0.1165\n",
      "BLEU Score: 0.0019\n",
      "BERTScore Precision: 0.8272\n",
      "BERTScore Recall: 0.7876\n",
      "BERTScore F1: 0.8069\n"
     ]
    },
    {
     "name": "stderr",
     "output_type": "stream",
     "text": [
      "\n"
     ]
    }
   ],
   "source": [
    "#Evaluate the Summary with Dynamic threshold method\n",
    "import numpy as np\n",
    "from rouge_score import rouge_scorer\n",
    "from nltk.translate.bleu_score import sentence_bleu, SmoothingFunction\n",
    "from bert_score import score\n",
    "\n",
    "# Initialize ROUGE scorer\n",
    "rouge_scorer = rouge_scorer.RougeScorer(['rouge1', 'rougeL'], use_stemmer=True)\n",
    "\n",
    "# Compute ROUGE\n",
    "rouge_scores = rouge_scorer.score(filtered_reference, summary)  # Use the combined reference text\n",
    "rouge_1_fmeasure = rouge_scores['rouge1'].fmeasure\n",
    "rouge_l_fmeasure = rouge_scores['rougeL'].fmeasure\n",
    "\n",
    "# Compute BLEU\n",
    "bleu_score = sentence_bleu(\n",
    "    [filtered_reference.split()],  # Tokenized reference\n",
    "    summary.split(),               # Tokenized generated summary\n",
    "    smoothing_function=SmoothingFunction().method1  # Smoothing for short outputs\n",
    ")\n",
    "\n",
    "# Compute BERTScore\n",
    "P, R, F1 = score(\n",
    "    [summary],                     # List of generated summaries\n",
    "    [filtered_reference],          # List of reference texts (filtered responses)\n",
    "    lang=\"en\",                     # Language (e.g., English)\n",
    "    verbose=True                   # Show progress\n",
    ")\n",
    "\n",
    "# Display all metrics\n",
    "print(f\"\\nEvaluation Metrics:\")\n",
    "print(f\"ROUGE-1 F-Measure: {rouge_1_fmeasure:.4f}\")\n",
    "print(f\"ROUGE-L F-Measure: {rouge_l_fmeasure:.4f}\")\n",
    "print(f\"BLEU Score: {bleu_score:.4f}\")\n",
    "print(f\"BERTScore Precision: {P.mean():.4f}\")\n",
    "print(f\"BERTScore Recall: {R.mean():.4f}\")\n",
    "print(f\"BERTScore F1: {F1.mean():.4f}\")"
   ]
  },
  {
   "cell_type": "markdown",
   "metadata": {},
   "source": [
    "Dynamic Grid search Threshold optimization"
   ]
  },
  {
   "cell_type": "code",
   "execution_count": null,
   "metadata": {},
   "outputs": [],
   "source": [
    "from sklearn.metrics.pairwise import cosine_similarity\n",
    "from sklearn.preprocessing import normalize\n",
    "from sentence_transformers import SentenceTransformer\n",
    "from transformers import T5Tokenizer, T5ForConditionalGeneration\n",
    "from rouge_score import rouge_scorer\n",
    "import numpy as np\n",
    "\n",
    "# Initialize the SentenceTransformer and T5 models\n",
    "model = SentenceTransformer('all-mpnet-base-v2')\n",
    "t5_tokenizer = T5Tokenizer.from_pretrained(\"t5-small\")\n",
    "t5_model = T5ForConditionalGeneration.from_pretrained(\"t5-small\")\n",
    "\n",
    "# Step 1: Accept User Keywords\n",
    "user_keywords = input(\"Enter keywords for summarization (comma-separated): \")\n",
    "user_keywords = [kw.strip() for kw in user_keywords.split(\",\")]\n",
    "\n",
    "# Step 2: Generate Embeddings for User Keywords\n",
    "keyword_embeddings = model.encode(user_keywords, convert_to_tensor=True)\n",
    "keyword_embeddings_cpu = normalize(keyword_embeddings.cpu().numpy(), axis=1)\n",
    "\n",
    "# Function to calculate cosine similarity\n",
    "def calculate_cosine_similarity(query_embeddings, response_embeddings):\n",
    "    similarities = {}\n",
    "    for response_id, embedding in response_embeddings.items():\n",
    "        # Normalize response embeddings\n",
    "        response_embedding_numpy = embedding.detach().cpu().numpy()\n",
    "        response_embedding_normalized = normalize(response_embedding_numpy.reshape(1, -1), axis=1)\n",
    "        \n",
    "        # Calculate cosine similarity for all user keywords\n",
    "        max_similarity = max(\n",
    "            cosine_similarity(query_embeddings, response_embedding_normalized).flatten()\n",
    "        )\n",
    "        similarities[response_id] = max_similarity\n",
    "    return similarities\n",
    "\n",
    "# Step 3: Calculate cosine similarity between user keyword embeddings and response embeddings\n",
    "response_similarities = {}\n",
    "for response_id, embedding in response_embeddings.items():\n",
    "    # Calculate cosine similarity\n",
    "    response_similarities[response_id] = calculate_cosine_similarity(keyword_embeddings_cpu, {response_id: embedding})[response_id]\n",
    "\n",
    "# Step 4: Dynamic Grid Search to Find the Best Threshold\n",
    "threshold_range = np.arange(0.0, 1.01, 0.01)  # From 0.0 to 1.0 with 0.01 increments\n",
    "best_threshold = None\n",
    "best_rouge1_fmeasure = -float(\"inf\")\n",
    "filtered_responses_best = None\n",
    "\n",
    "# Placeholder for reference summary\n",
    "filtered_reference = \"Reference summary for evaluation purposes.\"  # Replace with your actual reference\n",
    "\n",
    "for threshold in threshold_range:\n",
    "    # Filter responses based on the current threshold\n",
    "    filtered_responses = {\n",
    "        response_id: sim for response_id, sim in response_similarities.items() if sim >= threshold\n",
    "    }\n",
    "\n",
    "    # Fetch the filtered responses' text\n",
    "    filtered_texts = [\n",
    "        \" \".join(df_cleaned.loc[df_cleaned['ResponseID'] == resp_id, 'Responses'].values[0])\n",
    "        for resp_id in filtered_responses.keys()\n",
    "    ]\n",
    "\n",
    "    if not filtered_texts:  # Skip if no responses are filtered\n",
    "        continue\n",
    "\n",
    "    # Prepare input for T5 summarization\n",
    "    input_text = \"summarize: \" + \" \".join(filtered_texts)\n",
    "    input_ids = t5_tokenizer.encode(input_text, return_tensors=\"pt\", truncation=True)\n",
    "\n",
    "    # Generate summary\n",
    "    summary_ids = t5_model.generate(input_ids, max_length=200, num_beams=4, early_stopping=True)\n",
    "    summary = t5_tokenizer.decode(summary_ids[0], skip_special_tokens=True)\n",
    "\n",
    "    # Evaluate using ROUGE-1 F-Measure\n",
    "    rouge_scorer_instance = rouge_scorer.RougeScorer(['rouge1'], use_stemmer=True)\n",
    "    rouge_scores = rouge_scorer_instance.score(filtered_reference, summary)\n",
    "    rouge1_fmeasure = rouge_scores['rouge1'].fmeasure\n",
    "\n",
    "    # Update the best threshold if the current one is better\n",
    "    if rouge1_fmeasure > best_rouge1_fmeasure:\n",
    "        best_rouge1_fmeasure = rouge1_fmeasure\n",
    "        best_threshold = threshold\n",
    "        filtered_responses_best = filtered_responses\n",
    "\n",
    "print(f\"\\nBest Threshold: {best_threshold:.4f}\")\n",
    "\n",
    "# Step 5: Use the Best Threshold to Generate Final Summary\n",
    "if filtered_responses_best:\n",
    "    final_texts = [\n",
    "        \" \".join(df_cleaned.loc[df_cleaned['ResponseID'] == resp_id, 'Responses'].values[0])\n",
    "        for resp_id in filtered_responses_best.keys()\n",
    "    ]\n",
    "    input_text = \"summarize: \" + \" \".join(final_texts)\n",
    "    input_ids = t5_tokenizer.encode(input_text, return_tensors=\"pt\", truncation=True)\n",
    "    summary_ids = t5_model.generate(input_ids, max_length=200, num_beams=4, early_stopping=True)\n",
    "    final_summary = t5_tokenizer.decode(summary_ids[0], skip_special_tokens=True)\n",
    "    print(\"\\nGenerated Summary:\")\n",
    "    print(final_summary)\n",
    "else:\n",
    "    print(\"No relevant responses found.\")\n"
   ]
  }
 ],
 "metadata": {
  "kernelspec": {
   "display_name": "Python 3",
   "language": "python",
   "name": "python3"
  },
  "language_info": {
   "codemirror_mode": {
    "name": "ipython",
    "version": 3
   },
   "file_extension": ".py",
   "mimetype": "text/x-python",
   "name": "python",
   "nbconvert_exporter": "python",
   "pygments_lexer": "ipython3",
   "version": "3.11.6"
  }
 },
 "nbformat": 4,
 "nbformat_minor": 2
}
