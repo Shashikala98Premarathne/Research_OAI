{
 "cells": [
  {
   "cell_type": "code",
   "execution_count": 135,
   "metadata": {},
   "outputs": [
    {
     "name": "stdout",
     "output_type": "stream",
     "text": [
      "Requirement already satisfied: nltk in /Library/Frameworks/Python.framework/Versions/3.11/lib/python3.11/site-packages (3.9.1)\n",
      "Requirement already satisfied: click in /Library/Frameworks/Python.framework/Versions/3.11/lib/python3.11/site-packages (from nltk) (8.1.7)\n",
      "Requirement already satisfied: joblib in /Library/Frameworks/Python.framework/Versions/3.11/lib/python3.11/site-packages (from nltk) (1.3.2)\n",
      "Requirement already satisfied: regex>=2021.8.3 in /Library/Frameworks/Python.framework/Versions/3.11/lib/python3.11/site-packages (from nltk) (2024.5.15)\n",
      "Requirement already satisfied: tqdm in /Library/Frameworks/Python.framework/Versions/3.11/lib/python3.11/site-packages (from nltk) (4.66.4)\n",
      "\n",
      "\u001b[1m[\u001b[0m\u001b[34;49mnotice\u001b[0m\u001b[1;39;49m]\u001b[0m\u001b[39;49m A new release of pip is available: \u001b[0m\u001b[31;49m24.1.1\u001b[0m\u001b[39;49m -> \u001b[0m\u001b[32;49m24.3.1\u001b[0m\n",
      "\u001b[1m[\u001b[0m\u001b[34;49mnotice\u001b[0m\u001b[1;39;49m]\u001b[0m\u001b[39;49m To update, run: \u001b[0m\u001b[32;49mpip install --upgrade pip\u001b[0m\n"
     ]
    }
   ],
   "source": [
    "!pip install nltk"
   ]
  },
  {
   "cell_type": "code",
   "execution_count": 136,
   "metadata": {},
   "outputs": [
    {
     "name": "stdout",
     "output_type": "stream",
     "text": [
      "Requirement already satisfied: beautifulsoup4 in /Library/Frameworks/Python.framework/Versions/3.11/lib/python3.11/site-packages (4.12.3)\n",
      "Requirement already satisfied: soupsieve>1.2 in /Library/Frameworks/Python.framework/Versions/3.11/lib/python3.11/site-packages (from beautifulsoup4) (2.5)\n",
      "\n",
      "\u001b[1m[\u001b[0m\u001b[34;49mnotice\u001b[0m\u001b[1;39;49m]\u001b[0m\u001b[39;49m A new release of pip is available: \u001b[0m\u001b[31;49m24.1.1\u001b[0m\u001b[39;49m -> \u001b[0m\u001b[32;49m24.3.1\u001b[0m\n",
      "\u001b[1m[\u001b[0m\u001b[34;49mnotice\u001b[0m\u001b[1;39;49m]\u001b[0m\u001b[39;49m To update, run: \u001b[0m\u001b[32;49mpip install --upgrade pip\u001b[0m\n",
      "Note: you may need to restart the kernel to use updated packages.\n"
     ]
    }
   ],
   "source": [
    "pip install beautifulsoup4\n"
   ]
  },
  {
   "cell_type": "code",
   "execution_count": 137,
   "metadata": {},
   "outputs": [],
   "source": [
    "import pandas as pd\n",
    "import re\n",
    "from gensim.parsing.preprocessing import STOPWORDS, strip_tags,strip_numeric, strip_punctuation, strip_multiple_whitespaces,remove_stopwords, strip_short, stem_text\n",
    "import pickle\n",
    "from transformers import BertTokenizer\n",
    "import nltk\n"
   ]
  },
  {
   "cell_type": "code",
   "execution_count": 138,
   "metadata": {},
   "outputs": [],
   "source": [
    "import numpy as np"
   ]
  },
  {
   "cell_type": "code",
   "execution_count": 139,
   "metadata": {},
   "outputs": [],
   "source": [
    "import re\n",
    "import string\n",
    "from bs4 import BeautifulSoup\n",
    "from nltk.tokenize import sent_tokenize"
   ]
  },
  {
   "cell_type": "code",
   "execution_count": 140,
   "metadata": {},
   "outputs": [
    {
     "name": "stderr",
     "output_type": "stream",
     "text": [
      "[nltk_data] Downloading package stopwords to\n",
      "[nltk_data]     /Users/shashinimashi/nltk_data...\n",
      "[nltk_data]   Package stopwords is already up-to-date!\n"
     ]
    },
    {
     "data": {
      "text/plain": [
       "True"
      ]
     },
     "execution_count": 140,
     "metadata": {},
     "output_type": "execute_result"
    }
   ],
   "source": [
    "nltk.download('stopwords')"
   ]
  },
  {
   "cell_type": "code",
   "execution_count": 141,
   "metadata": {},
   "outputs": [],
   "source": [
    "from nltk.corpus import stopwords"
   ]
  },
  {
   "cell_type": "code",
   "execution_count": 142,
   "metadata": {},
   "outputs": [],
   "source": [
    "# Load the CSV file\n",
    "file_path = '/Users/shashinimashi/Desktop/Semester 3/Thesis/Analysis/Research_OAI-1/transcripts.csv'  \n",
    "df = pd.read_csv(file_path)"
   ]
  },
  {
   "cell_type": "code",
   "execution_count": 143,
   "metadata": {},
   "outputs": [
    {
     "data": {
      "text/html": [
       "<div>\n",
       "<style scoped>\n",
       "    .dataframe tbody tr th:only-of-type {\n",
       "        vertical-align: middle;\n",
       "    }\n",
       "\n",
       "    .dataframe tbody tr th {\n",
       "        vertical-align: top;\n",
       "    }\n",
       "\n",
       "    .dataframe thead th {\n",
       "        text-align: right;\n",
       "    }\n",
       "</style>\n",
       "<table border=\"1\" class=\"dataframe\">\n",
       "  <thead>\n",
       "    <tr style=\"text-align: right;\">\n",
       "      <th></th>\n",
       "      <th>ResponseID</th>\n",
       "      <th>Topic</th>\n",
       "      <th>Transcription</th>\n",
       "    </tr>\n",
       "  </thead>\n",
       "  <tbody>\n",
       "    <tr>\n",
       "      <th>0</th>\n",
       "      <td>510</td>\n",
       "      <td>Supporting Responsible Ai Discussion Paper</td>\n",
       "      <td>The Australian Federal Police Afp Welcomes The...</td>\n",
       "    </tr>\n",
       "    <tr>\n",
       "      <th>1</th>\n",
       "      <td>507</td>\n",
       "      <td>Safe And Responsible Ai In Australia’</td>\n",
       "      <td>The Disr Have Called For Public Submissions To...</td>\n",
       "    </tr>\n",
       "    <tr>\n",
       "      <th>2</th>\n",
       "      <td>506</td>\n",
       "      <td>Safe And Responsible Ai In Australia\\r\\nDiscus...</td>\n",
       "      <td>The Office Of The Australian Information Commi...</td>\n",
       "    </tr>\n",
       "    <tr>\n",
       "      <th>3</th>\n",
       "      <td>505</td>\n",
       "      <td>Canvas Approach To Ai</td>\n",
       "      <td>Canvas Mission Is To Empower The World To Desi...</td>\n",
       "    </tr>\n",
       "    <tr>\n",
       "      <th>4</th>\n",
       "      <td>504</td>\n",
       "      <td>Safe And Responsible Ai In\\r\\nAustralia</td>\n",
       "      <td>The Law Council Welcomes The Opportunity To Pr...</td>\n",
       "    </tr>\n",
       "  </tbody>\n",
       "</table>\n",
       "</div>"
      ],
      "text/plain": [
       "   ResponseID                                              Topic  \\\n",
       "0         510         Supporting Responsible Ai Discussion Paper   \n",
       "1         507              Safe And Responsible Ai In Australia’   \n",
       "2         506  Safe And Responsible Ai In Australia\\r\\nDiscus...   \n",
       "3         505                              Canvas Approach To Ai   \n",
       "4         504            Safe And Responsible Ai In\\r\\nAustralia   \n",
       "\n",
       "                                       Transcription  \n",
       "0  The Australian Federal Police Afp Welcomes The...  \n",
       "1  The Disr Have Called For Public Submissions To...  \n",
       "2  The Office Of The Australian Information Commi...  \n",
       "3  Canvas Mission Is To Empower The World To Desi...  \n",
       "4  The Law Council Welcomes The Opportunity To Pr...  "
      ]
     },
     "execution_count": 143,
     "metadata": {},
     "output_type": "execute_result"
    }
   ],
   "source": [
    "df.head()"
   ]
  },
  {
   "cell_type": "code",
   "execution_count": 144,
   "metadata": {},
   "outputs": [
    {
     "data": {
      "text/plain": [
       "Index(['ResponseID', 'Topic', 'Transcription'], dtype='object')"
      ]
     },
     "execution_count": 144,
     "metadata": {},
     "output_type": "execute_result"
    }
   ],
   "source": [
    "df.columns"
   ]
  },
  {
   "cell_type": "code",
   "execution_count": 145,
   "metadata": {},
   "outputs": [
    {
     "data": {
      "text/plain": [
       "<bound method DataFrame.value_counts of      ResponseID                                              Topic  \\\n",
       "0           510         Supporting Responsible Ai Discussion Paper   \n",
       "1           507              Safe And Responsible Ai In Australia’   \n",
       "2           506  Safe And Responsible Ai In Australia\\r\\nDiscus...   \n",
       "3           505                              Canvas Approach To Ai   \n",
       "4           504            Safe And Responsible Ai In\\r\\nAustralia   \n",
       "..          ...                                                ...   \n",
       "411           7  Epistemic Virtues Of Harnessing Rigorous\\r\\nMa...   \n",
       "412           6  Ai Explainability Framework For Environmental ...   \n",
       "413           4  Submission To Responsible Ai In Australia – Ga...   \n",
       "414           2  Ben Blackburn Racing Submission\\r\\nOn The Aust...   \n",
       "415           1                             Make A General Comment   \n",
       "\n",
       "                                         Transcription  \n",
       "0    The Australian Federal Police Afp Welcomes The...  \n",
       "1    The Disr Have Called For Public Submissions To...  \n",
       "2    The Office Of The Australian Information Commi...  \n",
       "3    Canvas Mission Is To Empower The World To Desi...  \n",
       "4    The Law Council Welcomes The Opportunity To Pr...  \n",
       "..                                                 ...  \n",
       "411  Some Physicians In Their Care Of\\r\\nPatients A...  \n",
       "412  Deep Learning Networks Powered By Ai Are Essen...  \n",
       "413  I Imported Zx80 Pc From Uk 43Yr Ago At 14Yr Ol...  \n",
       "414  I Am Extremely Pleased To Provide This Public ...  \n",
       "415  Ensure Ai Has Built In Prime Directives That C...  \n",
       "\n",
       "[416 rows x 3 columns]>"
      ]
     },
     "execution_count": 145,
     "metadata": {},
     "output_type": "execute_result"
    }
   ],
   "source": [
    "df.value_counts"
   ]
  },
  {
   "cell_type": "code",
   "execution_count": 146,
   "metadata": {},
   "outputs": [
    {
     "name": "stdout",
     "output_type": "stream",
     "text": [
      "count    416.000000\n",
      "mean     240.641827\n",
      "std      140.267280\n",
      "min        1.000000\n",
      "25%      144.000000\n",
      "50%      221.000000\n",
      "75%      309.000000\n",
      "max      710.000000\n",
      "Name: word_count, dtype: float64\n"
     ]
    }
   ],
   "source": [
    "#  Calculate word count for each transcription\n",
    "df['word_count'] = df['Transcription'].apply(lambda x: len(str(x).split()))\n",
    "\n",
    "# Get descriptive statistics for the word count\n",
    "word_count_stats = df['word_count'].describe()\n",
    "\n",
    "print(word_count_stats)"
   ]
  },
  {
   "cell_type": "code",
   "execution_count": 147,
   "metadata": {},
   "outputs": [
    {
     "name": "stdout",
     "output_type": "stream",
     "text": [
      "Non-empty rows: 416\n",
      "Empty rows: 8\n"
     ]
    }
   ],
   "source": [
    "# Count the non-empty rows in 'Transcription' column\n",
    "non_empty_rows = df['Transcription'].str.strip().astype(bool).sum()\n",
    "\n",
    "# Count the empty rows (including NaN values) in 'Transcription' column\n",
    "empty_rows = df['Transcription'].isna().sum() + (df['Transcription'].str.strip().astype(bool) == False).sum()\n",
    "\n",
    "# Print the results\n",
    "print(f\"Non-empty rows: {non_empty_rows}\")\n",
    "print(f\"Empty rows: {empty_rows}\")\n"
   ]
  },
  {
   "cell_type": "code",
   "execution_count": 148,
   "metadata": {},
   "outputs": [
    {
     "name": "stdout",
     "output_type": "stream",
     "text": [
      "Rows before filtering: 416\n",
      "Rows after filtering: 408\n"
     ]
    }
   ],
   "source": [
    "# Filtering Empty rows\n",
    "print(f\"Rows before filtering: {df.shape[0]}\")\n",
    "df = df[df['Transcription'].str.strip().astype(bool) & df['Transcription'].notna()]\n",
    "print(f\"Rows after filtering: {df.shape[0]}\")"
   ]
  },
  {
   "cell_type": "code",
   "execution_count": 149,
   "metadata": {},
   "outputs": [
    {
     "name": "stdout",
     "output_type": "stream",
     "text": [
      "Transcription - Average length: 245.34 words\n",
      "Transcription - Minimum length: 1 words\n",
      "Transcription - Maximum length: 710 words\n",
      "\n",
      "Text Lengths (Word Counts) per Text:\n",
      "                                       Transcription  transcription_word_count\n",
      "0  The Australian Federal Police Afp Welcomes The...                       518\n",
      "1  The Disr Have Called For Public Submissions To...                       213\n",
      "2  The Office Of The Australian Information Commi...                       545\n",
      "3  Canvas Mission Is To Empower The World To Desi...                       103\n",
      "4  The Law Council Welcomes The Opportunity To Pr...                       410\n"
     ]
    },
    {
     "name": "stderr",
     "output_type": "stream",
     "text": [
      "/var/folders/s1/xx81lcvn0kq8swqwckfrftb40000gn/T/ipykernel_56461/2615125692.py:5: SettingWithCopyWarning: \n",
      "A value is trying to be set on a copy of a slice from a DataFrame.\n",
      "Try using .loc[row_indexer,col_indexer] = value instead\n",
      "\n",
      "See the caveats in the documentation: https://pandas.pydata.org/pandas-docs/stable/user_guide/indexing.html#returning-a-view-versus-a-copy\n",
      "  df['transcription_word_count'] = df['Transcription'].apply(lambda x: len(str(x).split()) if isinstance(x, str) else 0)\n"
     ]
    }
   ],
   "source": [
    "import numpy as np\n",
    "\n",
    "# Word count check for 'Transcription' column\n",
    "# Step 1: Calculate word counts for each text in the 'Transcription' column\n",
    "df['transcription_word_count'] = df['Transcription'].apply(lambda x: len(str(x).split()) if isinstance(x, str) else 0)\n",
    "\n",
    "# Step 2: Calculate and print statistics for the 'Transcription' column\n",
    "transcription_avg = np.mean(df['transcription_word_count'])\n",
    "transcription_min = np.min(df['transcription_word_count'])\n",
    "transcription_max = np.max(df['transcription_word_count'])\n",
    "\n",
    "# Step 3: Display the statistics\n",
    "print(f\"Transcription - Average length: {transcription_avg:.2f} words\")\n",
    "print(f\"Transcription - Minimum length: {transcription_min} words\")\n",
    "print(f\"Transcription - Maximum length: {transcription_max} words\")\n",
    "\n",
    "# Optional: Display the word counts in the DataFrame for better insight\n",
    "print(\"\\nText Lengths (Word Counts) per Text:\")\n",
    "print(df[['Transcription', 'transcription_word_count']].head())"
   ]
  },
  {
   "cell_type": "code",
   "execution_count": 150,
   "metadata": {},
   "outputs": [
    {
     "data": {
      "text/plain": [
       "Text(0, 0.5, 'Frequency')"
      ]
     },
     "execution_count": 150,
     "metadata": {},
     "output_type": "execute_result"
    },
    {
     "data": {
      "image/png": "[encoded data removed]",
      "text/plain": [
       "<Figure size 800x500 with 1 Axes>"
      ]
     },
     "metadata": {},
     "output_type": "display_data"
    }
   ],
   "source": [
    "# Histogram of word counts\n",
    "import matplotlib.pyplot as plt\n",
    "import seaborn as sns\n",
    "\n",
    "plt.figure(figsize=(8, 5))\n",
    "sns.histplot(df['transcription_word_count'], bins=30, kde=True, color='skyblue')\n",
    "plt.title('Distribution of Word Count in Transcription Column', fontsize=16)\n",
    "plt.xlabel('Word Count', fontsize=12)\n",
    "plt.ylabel('Frequency', fontsize=12)"
   ]
  },
  {
   "cell_type": "code",
   "execution_count": 165,
   "metadata": {},
   "outputs": [
    {
     "name": "stderr",
     "output_type": "stream",
     "text": [
      "[nltk_data] Downloading package punkt to\n",
      "[nltk_data]     /Users/shashinimashi/nltk_data...\n",
      "[nltk_data]   Package punkt is already up-to-date!\n"
     ]
    },
    {
     "name": "stdout",
     "output_type": "stream",
     "text": [
      "First few rows of the column 'Transcription':\n",
      "0    The Australian Federal Police Afp Welcomes The...\n",
      "1    The Disr Have Called For Public Submissions To...\n",
      "2    The Office Of The Australian Information Commi...\n",
      "3    Canvas Mission Is To Empower The World To Desi...\n",
      "4    The Law Council Welcomes The Opportunity To Pr...\n",
      "Name: Transcription, dtype: object\n",
      "'Responses' column has been created successfully.\n",
      "                                       Transcription  \\\n",
      "0  The Australian Federal Police Afp Welcomes The...   \n",
      "1  The Disr Have Called For Public Submissions To...   \n",
      "2  The Office Of The Australian Information Commi...   \n",
      "3  Canvas Mission Is To Empower The World To Desi...   \n",
      "4  The Law Council Welcomes The Opportunity To Pr...   \n",
      "\n",
      "                                           Responses  \n",
      "0  [the australian federal police af ##p welcome ...  \n",
      "1  [the di ##sr have called for public submission...  \n",
      "2  [the office of the australian information comm...  \n",
      "3  [canvas mission is to em ##power the world to ...  \n",
      "4  [the law council welcome ##s the opportunity t...  \n"
     ]
    },
    {
     "name": "stderr",
     "output_type": "stream",
     "text": [
      "/var/folders/s1/xx81lcvn0kq8swqwckfrftb40000gn/T/ipykernel_56461/2575543807.py:59: SettingWithCopyWarning: \n",
      "A value is trying to be set on a copy of a slice from a DataFrame.\n",
      "Try using .loc[row_indexer,col_indexer] = value instead\n",
      "\n",
      "See the caveats in the documentation: https://pandas.pydata.org/pandas-docs/stable/user_guide/indexing.html#returning-a-view-versus-a-copy\n",
      "  df['Responses'] = df[column_name].apply(clean_text)\n"
     ]
    }
   ],
   "source": [
    "import re\n",
    "import string\n",
    "from transformers import BertTokenizer\n",
    "from bs4 import BeautifulSoup\n",
    "import nltk\n",
    "import pandas as pd  \n",
    "\n",
    "# Download NLTK data for sentence tokenization (ensure 'punkt' is available)\n",
    "nltk.download('punkt')\n",
    "\n",
    "# Initialize BERT tokenizer\n",
    "tokenizer = BertTokenizer.from_pretrained('bert-base-uncased')\n",
    "\n",
    "def clean_and_tokenize(df, column_name='Transcription'):\n",
    "    \n",
    "    # Ensure the column exists in the DataFrame\n",
    "    if column_name not in df.columns:\n",
    "        print(f\"Error: Column '{column_name}' not found in the DataFrame.\")\n",
    "        return df\n",
    "    \n",
    "    def clean_text(text):\n",
    "        if not text or pd.isna(text):  # Check for empty or NaN values\n",
    "            return []  # Return an empty list if the text is invalid\n",
    "\n",
    "        # Lowercase the text\n",
    "        text = text.lower()\n",
    "        \n",
    "        # Remove URLs\n",
    "        text = re.sub(r\"http\\S+|www\\S+|https\\S+\", \"\", text, flags=re.MULTILINE)\n",
    "        \n",
    "        # Remove HTML tags\n",
    "        text = BeautifulSoup(text, \"html.parser\").get_text()\n",
    "        \n",
    "        # Remove punctuation\n",
    "        text = text.translate(str.maketrans(\"\", \"\", string.punctuation))\n",
    "        \n",
    "        # Remove special characters and numbers\n",
    "        text = re.sub(r\"[^a-zA-Z\\s]\", \"\", text)\n",
    "\n",
    "        # Normalize multiple spaces to a single space\n",
    "        text = re.sub(r'\\s+', ' ', text).strip()\n",
    "        \n",
    "        # Tokenize the text using BERT tokenizer (subword-level)\n",
    "        tokens = tokenizer.tokenize(text)\n",
    "        \n",
    "        # Rejoin tokens into a single string\n",
    "        cleaned_text = \" \".join(tokens)\n",
    "        \n",
    "        # Alternative sentence tokenization using re.split()\n",
    "        sentences = re.split(r'(?<=[.!?])\\s+', cleaned_text)\n",
    "        \n",
    "        return sentences\n",
    "\n",
    "    # Debug: Print first few rows before cleaning\n",
    "    print(f\"First few rows of the column '{column_name}':\")\n",
    "    print(df[column_name].head())\n",
    "    \n",
    "    # Apply the clean_text function to each entry in the column\n",
    "    df['Responses'] = df[column_name].apply(clean_text)\n",
    "    \n",
    "    # Debug: Check if the Responses column has been added\n",
    "    if 'Responses' in df.columns:\n",
    "        print(f\"'Responses' column has been created successfully.\")\n",
    "    else:\n",
    "        print(f\"Error: 'Responses' column not created.\")\n",
    "    \n",
    "    # Print the DataFrame with Transcriptions and Responses\n",
    "    print(df[['Transcription', 'Responses']].head())\n",
    "    \n",
    "    return df\n",
    "\n",
    "# Output\n",
    "df_cleaned = clean_and_tokenize(df)\n"
   ]
  },
  {
   "cell_type": "code",
   "execution_count": 166,
   "metadata": {},
   "outputs": [
    {
     "data": {
      "text/html": [
       "<div>\n",
       "<style scoped>\n",
       "    .dataframe tbody tr th:only-of-type {\n",
       "        vertical-align: middle;\n",
       "    }\n",
       "\n",
       "    .dataframe tbody tr th {\n",
       "        vertical-align: top;\n",
       "    }\n",
       "\n",
       "    .dataframe thead th {\n",
       "        text-align: right;\n",
       "    }\n",
       "</style>\n",
       "<table border=\"1\" class=\"dataframe\">\n",
       "  <thead>\n",
       "    <tr style=\"text-align: right;\">\n",
       "      <th></th>\n",
       "      <th>ResponseID</th>\n",
       "      <th>Topic</th>\n",
       "      <th>Transcription</th>\n",
       "      <th>word_count</th>\n",
       "      <th>transcription_word_count</th>\n",
       "      <th>Responses</th>\n",
       "    </tr>\n",
       "  </thead>\n",
       "  <tbody>\n",
       "    <tr>\n",
       "      <th>0</th>\n",
       "      <td>510</td>\n",
       "      <td>Supporting Responsible Ai Discussion Paper</td>\n",
       "      <td>The Australian Federal Police Afp Welcomes The...</td>\n",
       "      <td>550</td>\n",
       "      <td>518</td>\n",
       "      <td>[the australian federal police af ##p welcome ...</td>\n",
       "    </tr>\n",
       "    <tr>\n",
       "      <th>1</th>\n",
       "      <td>507</td>\n",
       "      <td>Safe And Responsible Ai In Australia’</td>\n",
       "      <td>The Disr Have Called For Public Submissions To...</td>\n",
       "      <td>226</td>\n",
       "      <td>213</td>\n",
       "      <td>[the di ##sr have called for public submission...</td>\n",
       "    </tr>\n",
       "    <tr>\n",
       "      <th>2</th>\n",
       "      <td>506</td>\n",
       "      <td>Safe And Responsible Ai In Australia\\r\\nDiscus...</td>\n",
       "      <td>The Office Of The Australian Information Commi...</td>\n",
       "      <td>579</td>\n",
       "      <td>545</td>\n",
       "      <td>[the office of the australian information comm...</td>\n",
       "    </tr>\n",
       "    <tr>\n",
       "      <th>3</th>\n",
       "      <td>505</td>\n",
       "      <td>Canvas Approach To Ai</td>\n",
       "      <td>Canvas Mission Is To Empower The World To Desi...</td>\n",
       "      <td>108</td>\n",
       "      <td>103</td>\n",
       "      <td>[canvas mission is to em ##power the world to ...</td>\n",
       "    </tr>\n",
       "    <tr>\n",
       "      <th>4</th>\n",
       "      <td>504</td>\n",
       "      <td>Safe And Responsible Ai In\\r\\nAustralia</td>\n",
       "      <td>The Law Council Welcomes The Opportunity To Pr...</td>\n",
       "      <td>436</td>\n",
       "      <td>410</td>\n",
       "      <td>[the law council welcome ##s the opportunity t...</td>\n",
       "    </tr>\n",
       "  </tbody>\n",
       "</table>\n",
       "</div>"
      ],
      "text/plain": [
       "   ResponseID                                              Topic  \\\n",
       "0         510         Supporting Responsible Ai Discussion Paper   \n",
       "1         507              Safe And Responsible Ai In Australia’   \n",
       "2         506  Safe And Responsible Ai In Australia\\r\\nDiscus...   \n",
       "3         505                              Canvas Approach To Ai   \n",
       "4         504            Safe And Responsible Ai In\\r\\nAustralia   \n",
       "\n",
       "                                       Transcription  word_count  \\\n",
       "0  The Australian Federal Police Afp Welcomes The...         550   \n",
       "1  The Disr Have Called For Public Submissions To...         226   \n",
       "2  The Office Of The Australian Information Commi...         579   \n",
       "3  Canvas Mission Is To Empower The World To Desi...         108   \n",
       "4  The Law Council Welcomes The Opportunity To Pr...         436   \n",
       "\n",
       "   transcription_word_count                                          Responses  \n",
       "0                       518  [the australian federal police af ##p welcome ...  \n",
       "1                       213  [the di ##sr have called for public submission...  \n",
       "2                       545  [the office of the australian information comm...  \n",
       "3                       103  [canvas mission is to em ##power the world to ...  \n",
       "4                       410  [the law council welcome ##s the opportunity t...  "
      ]
     },
     "execution_count": 166,
     "metadata": {},
     "output_type": "execute_result"
    }
   ],
   "source": [
    "df_cleaned.head()"
   ]
  },
  {
   "cell_type": "code",
   "execution_count": 167,
   "metadata": {},
   "outputs": [
    {
     "name": "stdout",
     "output_type": "stream",
     "text": [
      "count    408.000000\n",
      "mean     264.850490\n",
      "std      149.770027\n",
      "min        1.000000\n",
      "25%      157.750000\n",
      "50%      243.500000\n",
      "75%      341.000000\n",
      "max      786.000000\n",
      "Name: word_count, dtype: float64\n"
     ]
    },
    {
     "name": "stderr",
     "output_type": "stream",
     "text": [
      "/var/folders/s1/xx81lcvn0kq8swqwckfrftb40000gn/T/ipykernel_56461/2871606896.py:2: SettingWithCopyWarning: \n",
      "A value is trying to be set on a copy of a slice from a DataFrame.\n",
      "Try using .loc[row_indexer,col_indexer] = value instead\n",
      "\n",
      "See the caveats in the documentation: https://pandas.pydata.org/pandas-docs/stable/user_guide/indexing.html#returning-a-view-versus-a-copy\n",
      "  df_cleaned['word_count'] = df_cleaned['Responses'].apply(lambda x: len(str(x).split()))\n"
     ]
    }
   ],
   "source": [
    "#  Calculate word count for each Response\n",
    "df_cleaned['word_count'] = df_cleaned['Responses'].apply(lambda x: len(str(x).split()))\n",
    "\n",
    "# Get descriptive statistics for the word count\n",
    "word_count_stats = df_cleaned['word_count'].describe()\n",
    "\n",
    "print(word_count_stats)"
   ]
  },
  {
   "cell_type": "markdown",
   "metadata": {},
   "source": [
    "Train/Validation/Test Split"
   ]
  },
  {
   "cell_type": "code",
   "execution_count": 168,
   "metadata": {},
   "outputs": [
    {
     "name": "stdout",
     "output_type": "stream",
     "text": [
      "Training Set: 326\n",
      "Validation Set: 41\n",
      "Test Set: 41\n"
     ]
    }
   ],
   "source": [
    "from sklearn.model_selection import train_test_split\n",
    "\n",
    "train_df, temp_df = train_test_split(df_cleaned, test_size=0.2, random_state=42)  # 80% training data\n",
    "val_df, test_df = train_test_split(temp_df, test_size=0.5, random_state=42)  # 10% validation, 10% test\n",
    "\n",
    "print(f\"Training Set: {len(train_df)}\")\n",
    "print(f\"Validation Set: {len(val_df)}\")\n",
    "print(f\"Test Set: {len(test_df)}\")\n"
   ]
  },
  {
   "cell_type": "code",
   "execution_count": 169,
   "metadata": {},
   "outputs": [
    {
     "name": "stdout",
     "output_type": "stream",
     "text": [
      "train_df columns: Index(['ResponseID', 'Topic', 'Transcription', 'word_count',\n",
      "       'transcription_word_count', 'Responses'],\n",
      "      dtype='object')\n",
      "val_df columns: Index(['ResponseID', 'Topic', 'Transcription', 'word_count',\n",
      "       'transcription_word_count', 'Responses'],\n",
      "      dtype='object')\n",
      "test_df columns: Index(['ResponseID', 'Topic', 'Transcription', 'word_count',\n",
      "       'transcription_word_count', 'Responses'],\n",
      "      dtype='object')\n"
     ]
    }
   ],
   "source": [
    "# Print the column names of each dataframe\n",
    "print(f\"train_df columns: {train_df.columns}\")\n",
    "print(f\"val_df columns: {val_df.columns}\")\n",
    "print(f\"test_df columns: {test_df.columns}\")\n"
   ]
  },
  {
   "cell_type": "code",
   "execution_count": 170,
   "metadata": {},
   "outputs": [
    {
     "name": "stdout",
     "output_type": "stream",
     "text": [
      "339    [the paper does not acknowledge the catastroph...\n",
      "3      [canvas mission is to em ##power the world to ...\n",
      "18     [the interactive games entertainment associati...\n",
      "133    [king wood mall ##eson ##s welcome ##s the opp...\n",
      "120    [this submission concerns the formation of ai ...\n",
      "Name: Responses, dtype: object\n",
      "33     [the centre for media transition is conducting...\n",
      "235    [this response to the australian government th...\n",
      "82     [crest brings a multi ##dis ##ci ##plin ##ary ...\n",
      "252    [que ##son how can the australian government f...\n",
      "343    [australia post appreciate ##s the opportunity...\n",
      "Name: Responses, dtype: object\n",
      "134    [the financial services council f ##sc welcome...\n",
      "70     [property exchange australia ltd pe ##xa is pl...\n",
      "294    [there exist several potential risks from arti...\n",
      "96     [thank you for the opportunity to respond to t...\n",
      "9      [banks have a history of using technology to i...\n",
      "Name: Responses, dtype: object\n"
     ]
    }
   ],
   "source": [
    "# Check the first few rows of 'Responses' column in each dataset\n",
    "print(train_df['Responses'].head())\n",
    "print(val_df['Responses'].head())\n",
    "print(test_df['Responses'].head())\n"
   ]
  },
  {
   "cell_type": "code",
   "execution_count": 172,
   "metadata": {},
   "outputs": [
    {
     "name": "stdout",
     "output_type": "stream",
     "text": [
      "Valid Train Responses: 326\n",
      "Valid Validation Responses: 41\n",
      "Valid Test Responses: 41\n"
     ]
    }
   ],
   "source": [
    "# Check how many valid responses are left\n",
    "print(f\"Valid Train Responses: {len([r for r in train_responses if r != ''])}\")\n",
    "print(f\"Valid Validation Responses: {len([r for r in val_responses if r != ''])}\")\n",
    "print(f\"Valid Test Responses: {len([r for r in test_responses if r != ''])}\")\n"
   ]
  },
  {
   "cell_type": "code",
   "execution_count": 174,
   "metadata": {},
   "outputs": [
    {
     "name": "stdout",
     "output_type": "stream",
     "text": [
      "339    [the paper does not acknowledge the catastroph...\n",
      "3      [canvas mission is to em ##power the world to ...\n",
      "18     [the interactive games entertainment associati...\n",
      "133    [king wood mall ##eson ##s welcome ##s the opp...\n",
      "120    [this submission concerns the formation of ai ...\n",
      "Name: Responses, dtype: object\n",
      "33     [the centre for media transition is conducting...\n",
      "235    [this response to the australian government th...\n",
      "82     [crest brings a multi ##dis ##ci ##plin ##ary ...\n",
      "252    [que ##son how can the australian government f...\n",
      "343    [australia post appreciate ##s the opportunity...\n",
      "Name: Responses, dtype: object\n",
      "134    [the financial services council f ##sc welcome...\n",
      "70     [property exchange australia ltd pe ##xa is pl...\n",
      "294    [there exist several potential risks from arti...\n",
      "96     [thank you for the opportunity to respond to t...\n",
      "9      [banks have a history of using technology to i...\n",
      "Name: Responses, dtype: object\n",
      "Empty Train Responses: 0\n",
      "Empty Validation Responses: 0\n",
      "Empty Test Responses: 0\n"
     ]
    }
   ],
   "source": [
    "# Check the first few responses after cleaning\n",
    "print(train_df['Responses'].head())\n",
    "print(val_df['Responses'].head())\n",
    "print(test_df['Responses'].head())\n",
    "\n",
    "# Check if there are any empty or None values\n",
    "empty_train_responses = train_df['Responses'].apply(lambda x: len(x) == 0 if isinstance(x, list) else True)\n",
    "empty_val_responses = val_df['Responses'].apply(lambda x: len(x) == 0 if isinstance(x, list) else True)\n",
    "empty_test_responses = test_df['Responses'].apply(lambda x: len(x) == 0 if isinstance(x, list) else True)\n",
    "\n",
    "print(f\"Empty Train Responses: {empty_train_responses.sum()}\")\n",
    "print(f\"Empty Validation Responses: {empty_val_responses.sum()}\")\n",
    "print(f\"Empty Test Responses: {empty_test_responses.sum()}\")\n"
   ]
  },
  {
   "cell_type": "markdown",
   "metadata": {},
   "source": [
    "Embedding Creation"
   ]
  },
  {
   "cell_type": "code",
   "execution_count": 176,
   "metadata": {},
   "outputs": [],
   "source": [
    "from sentence_transformers import SentenceTransformer\n",
    "import torch\n",
    "import numpy as np\n",
    "\n",
    "# Initialize the SentenceTransformer model (all-mpnet-base-v2)\n",
    "model = SentenceTransformer('all-mpnet-base-v2')\n",
    "\n",
    "# Function to generate sentence embeddings\n",
    "def get_sentence_embeddings(text_list):\n",
    "    # Generate sentence embeddings for the text list\n",
    "    return model.encode(text_list, convert_to_tensor=True)\n",
    "\n",
    "# Flatten the list of sentences (Responses are lists of sentences, so flatten them into one list)\n",
    "def flatten_responses(responses):\n",
    "    return [sentence for response in responses for sentence in response]\n",
    "\n",
    "# For the training, validation, and test sets, flatten the responses before getting embeddings\n",
    "train_flat_responses = flatten_responses(train_df['Responses'].tolist())\n",
    "val_flat_responses = flatten_responses(val_df['Responses'].tolist())\n",
    "test_flat_responses = flatten_responses(test_df['Responses'].tolist())\n",
    "\n",
    "# Get embeddings for the flattened responses\n",
    "train_embeddings = get_sentence_embeddings(train_flat_responses)\n",
    "val_embeddings = get_sentence_embeddings(val_flat_responses)\n",
    "test_embeddings = get_sentence_embeddings(test_flat_responses)\n",
    "\n",
    "# Now, group by ResponseID (Mean Pooling) - assuming 'ResponseID' is already available\n",
    "# Grouping the responses by ResponseID and applying mean pooling to get one embedding per response\n",
    "def group_by_response_id(df, embeddings):\n",
    "    response_embeddings = {}\n",
    "    \n",
    "    # Iterate through unique ResponseIDs\n",
    "    for response_id in df['ResponseID'].unique():\n",
    "        # Get sentences for the given ResponseID\n",
    "        sentences = df[df['ResponseID'] == response_id]['Responses'].tolist()\n",
    "        \n",
    "        # Flatten the sentences for the ResponseID\n",
    "        sentences_flat = flatten_responses(sentences)\n",
    "        \n",
    "        # Generate sentence embeddings for the flattened sentences\n",
    "        sentences_embeddings = model.encode(sentences_flat, convert_to_tensor=True)\n",
    "        \n",
    "        # Apply mean pooling using PyTorch's .mean() method along the right axis\n",
    "        response_embeddings[response_id] = sentences_embeddings.mean(dim=0)  # Mean Pooling\n",
    "    \n",
    "    return response_embeddings\n",
    "\n",
    "# Example for training, validation, and test sets\n",
    "train_response_embeddings = group_by_response_id(train_df, train_embeddings)\n",
    "val_response_embeddings = group_by_response_id(val_df, val_embeddings)\n",
    "test_response_embeddings = group_by_response_id(test_df, test_embeddings)\n"
   ]
  },
  {
   "cell_type": "code",
   "execution_count": 177,
   "metadata": {},
   "outputs": [],
   "source": [
    "import pickle\n",
    "\n",
    "# Save train response embeddings\n",
    "with open('train_response_embeddings.pkl', 'wb') as f:\n",
    "    pickle.dump(train_response_embeddings, f)\n",
    "\n",
    "# Save validation response embeddings\n",
    "with open('val_response_embeddings.pkl', 'wb') as f:\n",
    "    pickle.dump(val_response_embeddings, f)\n",
    "\n",
    "# Save test response embeddings\n",
    "with open('test_response_embeddings.pkl', 'wb') as f:\n",
    "    pickle.dump(test_response_embeddings, f)\n"
   ]
  },
  {
   "cell_type": "markdown",
   "metadata": {},
   "source": [
    "Training Phase\n",
    "Cosine Similarity Calculation"
   ]
  },
  {
   "cell_type": "code",
   "execution_count": 213,
   "metadata": {},
   "outputs": [
    {
     "name": "stderr",
     "output_type": "stream",
     "text": [
      "/Library/Frameworks/Python.framework/Versions/3.11/lib/python3.11/site-packages/sklearn/metrics/_classification.py:1757: UndefinedMetricWarning: F-score is ill-defined and being set to 0.0 due to no true nor predicted samples. Use `zero_division` parameter to control this behavior.\n",
      "  _warn_prf(average, \"true nor predicted\", \"F-score is\", len(true_sum))\n",
      "/Library/Frameworks/Python.framework/Versions/3.11/lib/python3.11/site-packages/sklearn/metrics/_classification.py:1757: UndefinedMetricWarning: F-score is ill-defined and being set to 0.0 due to no true nor predicted samples. Use `zero_division` parameter to control this behavior.\n",
      "  _warn_prf(average, \"true nor predicted\", \"F-score is\", len(true_sum))\n",
      "/Library/Frameworks/Python.framework/Versions/3.11/lib/python3.11/site-packages/sklearn/metrics/_classification.py:1757: UndefinedMetricWarning: F-score is ill-defined and being set to 0.0 due to no true nor predicted samples. Use `zero_division` parameter to control this behavior.\n",
      "  _warn_prf(average, \"true nor predicted\", \"F-score is\", len(true_sum))\n",
      "/Library/Frameworks/Python.framework/Versions/3.11/lib/python3.11/site-packages/sklearn/metrics/_classification.py:1757: UndefinedMetricWarning: F-score is ill-defined and being set to 0.0 due to no true nor predicted samples. Use `zero_division` parameter to control this behavior.\n",
      "  _warn_prf(average, \"true nor predicted\", \"F-score is\", len(true_sum))\n",
      "/Library/Frameworks/Python.framework/Versions/3.11/lib/python3.11/site-packages/sklearn/metrics/_classification.py:1757: UndefinedMetricWarning: F-score is ill-defined and being set to 0.0 due to no true nor predicted samples. Use `zero_division` parameter to control this behavior.\n",
      "  _warn_prf(average, \"true nor predicted\", \"F-score is\", len(true_sum))\n",
      "/Library/Frameworks/Python.framework/Versions/3.11/lib/python3.11/site-packages/sklearn/metrics/_classification.py:1757: UndefinedMetricWarning: F-score is ill-defined and being set to 0.0 due to no true nor predicted samples. Use `zero_division` parameter to control this behavior.\n",
      "  _warn_prf(average, \"true nor predicted\", \"F-score is\", len(true_sum))\n",
      "/Library/Frameworks/Python.framework/Versions/3.11/lib/python3.11/site-packages/sklearn/metrics/_classification.py:1757: UndefinedMetricWarning: F-score is ill-defined and being set to 0.0 due to no true nor predicted samples. Use `zero_division` parameter to control this behavior.\n",
      "  _warn_prf(average, \"true nor predicted\", \"F-score is\", len(true_sum))\n",
      "/Library/Frameworks/Python.framework/Versions/3.11/lib/python3.11/site-packages/sklearn/metrics/_classification.py:1757: UndefinedMetricWarning: F-score is ill-defined and being set to 0.0 due to no true nor predicted samples. Use `zero_division` parameter to control this behavior.\n",
      "  _warn_prf(average, \"true nor predicted\", \"F-score is\", len(true_sum))\n",
      "/Library/Frameworks/Python.framework/Versions/3.11/lib/python3.11/site-packages/sklearn/metrics/_classification.py:1757: UndefinedMetricWarning: F-score is ill-defined and being set to 0.0 due to no true nor predicted samples. Use `zero_division` parameter to control this behavior.\n",
      "  _warn_prf(average, \"true nor predicted\", \"F-score is\", len(true_sum))\n",
      "/Library/Frameworks/Python.framework/Versions/3.11/lib/python3.11/site-packages/sklearn/metrics/_classification.py:1757: UndefinedMetricWarning: F-score is ill-defined and being set to 0.0 due to no true nor predicted samples. Use `zero_division` parameter to control this behavior.\n",
      "  _warn_prf(average, \"true nor predicted\", \"F-score is\", len(true_sum))\n",
      "/Library/Frameworks/Python.framework/Versions/3.11/lib/python3.11/site-packages/sklearn/metrics/_classification.py:1757: UndefinedMetricWarning: F-score is ill-defined and being set to 0.0 due to no true nor predicted samples. Use `zero_division` parameter to control this behavior.\n",
      "  _warn_prf(average, \"true nor predicted\", \"F-score is\", len(true_sum))\n",
      "/Library/Frameworks/Python.framework/Versions/3.11/lib/python3.11/site-packages/sklearn/metrics/_classification.py:1757: UndefinedMetricWarning: F-score is ill-defined and being set to 0.0 due to no true nor predicted samples. Use `zero_division` parameter to control this behavior.\n",
      "  _warn_prf(average, \"true nor predicted\", \"F-score is\", len(true_sum))\n",
      "/Library/Frameworks/Python.framework/Versions/3.11/lib/python3.11/site-packages/sklearn/metrics/_classification.py:1757: UndefinedMetricWarning: F-score is ill-defined and being set to 0.0 due to no true nor predicted samples. Use `zero_division` parameter to control this behavior.\n",
      "  _warn_prf(average, \"true nor predicted\", \"F-score is\", len(true_sum))\n",
      "/Library/Frameworks/Python.framework/Versions/3.11/lib/python3.11/site-packages/sklearn/metrics/_classification.py:1757: UndefinedMetricWarning: F-score is ill-defined and being set to 0.0 due to no true nor predicted samples. Use `zero_division` parameter to control this behavior.\n",
      "  _warn_prf(average, \"true nor predicted\", \"F-score is\", len(true_sum))\n",
      "/Library/Frameworks/Python.framework/Versions/3.11/lib/python3.11/site-packages/sklearn/metrics/_classification.py:1757: UndefinedMetricWarning: F-score is ill-defined and being set to 0.0 due to no true nor predicted samples. Use `zero_division` parameter to control this behavior.\n",
      "  _warn_prf(average, \"true nor predicted\", \"F-score is\", len(true_sum))\n",
      "/Library/Frameworks/Python.framework/Versions/3.11/lib/python3.11/site-packages/sklearn/metrics/_classification.py:1757: UndefinedMetricWarning: F-score is ill-defined and being set to 0.0 due to no true nor predicted samples. Use `zero_division` parameter to control this behavior.\n",
      "  _warn_prf(average, \"true nor predicted\", \"F-score is\", len(true_sum))\n",
      "/Library/Frameworks/Python.framework/Versions/3.11/lib/python3.11/site-packages/sklearn/metrics/_classification.py:1757: UndefinedMetricWarning: F-score is ill-defined and being set to 0.0 due to no true nor predicted samples. Use `zero_division` parameter to control this behavior.\n",
      "  _warn_prf(average, \"true nor predicted\", \"F-score is\", len(true_sum))\n",
      "/Library/Frameworks/Python.framework/Versions/3.11/lib/python3.11/site-packages/sklearn/metrics/_classification.py:1757: UndefinedMetricWarning: F-score is ill-defined and being set to 0.0 due to no true nor predicted samples. Use `zero_division` parameter to control this behavior.\n",
      "  _warn_prf(average, \"true nor predicted\", \"F-score is\", len(true_sum))\n",
      "/Library/Frameworks/Python.framework/Versions/3.11/lib/python3.11/site-packages/sklearn/metrics/_classification.py:1757: UndefinedMetricWarning: F-score is ill-defined and being set to 0.0 due to no true nor predicted samples. Use `zero_division` parameter to control this behavior.\n",
      "  _warn_prf(average, \"true nor predicted\", \"F-score is\", len(true_sum))\n",
      "/Library/Frameworks/Python.framework/Versions/3.11/lib/python3.11/site-packages/sklearn/metrics/_classification.py:1757: UndefinedMetricWarning: F-score is ill-defined and being set to 0.0 due to no true nor predicted samples. Use `zero_division` parameter to control this behavior.\n",
      "  _warn_prf(average, \"true nor predicted\", \"F-score is\", len(true_sum))\n",
      "/Library/Frameworks/Python.framework/Versions/3.11/lib/python3.11/site-packages/sklearn/metrics/_classification.py:1757: UndefinedMetricWarning: F-score is ill-defined and being set to 0.0 due to no true nor predicted samples. Use `zero_division` parameter to control this behavior.\n",
      "  _warn_prf(average, \"true nor predicted\", \"F-score is\", len(true_sum))\n",
      "/Library/Frameworks/Python.framework/Versions/3.11/lib/python3.11/site-packages/sklearn/metrics/_classification.py:1757: UndefinedMetricWarning: F-score is ill-defined and being set to 0.0 due to no true nor predicted samples. Use `zero_division` parameter to control this behavior.\n",
      "  _warn_prf(average, \"true nor predicted\", \"F-score is\", len(true_sum))\n",
      "/Library/Frameworks/Python.framework/Versions/3.11/lib/python3.11/site-packages/sklearn/metrics/_classification.py:1757: UndefinedMetricWarning: F-score is ill-defined and being set to 0.0 due to no true nor predicted samples. Use `zero_division` parameter to control this behavior.\n",
      "  _warn_prf(average, \"true nor predicted\", \"F-score is\", len(true_sum))\n",
      "/Library/Frameworks/Python.framework/Versions/3.11/lib/python3.11/site-packages/sklearn/metrics/_classification.py:1757: UndefinedMetricWarning: F-score is ill-defined and being set to 0.0 due to no true nor predicted samples. Use `zero_division` parameter to control this behavior.\n",
      "  _warn_prf(average, \"true nor predicted\", \"F-score is\", len(true_sum))\n",
      "/Library/Frameworks/Python.framework/Versions/3.11/lib/python3.11/site-packages/sklearn/metrics/_classification.py:1757: UndefinedMetricWarning: F-score is ill-defined and being set to 0.0 due to no true nor predicted samples. Use `zero_division` parameter to control this behavior.\n",
      "  _warn_prf(average, \"true nor predicted\", \"F-score is\", len(true_sum))\n",
      "/Library/Frameworks/Python.framework/Versions/3.11/lib/python3.11/site-packages/sklearn/metrics/_classification.py:1757: UndefinedMetricWarning: F-score is ill-defined and being set to 0.0 due to no true nor predicted samples. Use `zero_division` parameter to control this behavior.\n",
      "  _warn_prf(average, \"true nor predicted\", \"F-score is\", len(true_sum))\n",
      "/Library/Frameworks/Python.framework/Versions/3.11/lib/python3.11/site-packages/sklearn/metrics/_classification.py:1757: UndefinedMetricWarning: F-score is ill-defined and being set to 0.0 due to no true nor predicted samples. Use `zero_division` parameter to control this behavior.\n",
      "  _warn_prf(average, \"true nor predicted\", \"F-score is\", len(true_sum))\n",
      "/Library/Frameworks/Python.framework/Versions/3.11/lib/python3.11/site-packages/sklearn/metrics/_classification.py:1757: UndefinedMetricWarning: F-score is ill-defined and being set to 0.0 due to no true nor predicted samples. Use `zero_division` parameter to control this behavior.\n",
      "  _warn_prf(average, \"true nor predicted\", \"F-score is\", len(true_sum))\n",
      "/Library/Frameworks/Python.framework/Versions/3.11/lib/python3.11/site-packages/sklearn/metrics/_classification.py:1757: UndefinedMetricWarning: F-score is ill-defined and being set to 0.0 due to no true nor predicted samples. Use `zero_division` parameter to control this behavior.\n",
      "  _warn_prf(average, \"true nor predicted\", \"F-score is\", len(true_sum))\n",
      "/Library/Frameworks/Python.framework/Versions/3.11/lib/python3.11/site-packages/sklearn/metrics/_classification.py:1757: UndefinedMetricWarning: F-score is ill-defined and being set to 0.0 due to no true nor predicted samples. Use `zero_division` parameter to control this behavior.\n",
      "  _warn_prf(average, \"true nor predicted\", \"F-score is\", len(true_sum))\n",
      "/Library/Frameworks/Python.framework/Versions/3.11/lib/python3.11/site-packages/sklearn/metrics/_classification.py:1757: UndefinedMetricWarning: F-score is ill-defined and being set to 0.0 due to no true nor predicted samples. Use `zero_division` parameter to control this behavior.\n",
      "  _warn_prf(average, \"true nor predicted\", \"F-score is\", len(true_sum))\n",
      "/Library/Frameworks/Python.framework/Versions/3.11/lib/python3.11/site-packages/sklearn/metrics/_classification.py:1757: UndefinedMetricWarning: F-score is ill-defined and being set to 0.0 due to no true nor predicted samples. Use `zero_division` parameter to control this behavior.\n",
      "  _warn_prf(average, \"true nor predicted\", \"F-score is\", len(true_sum))\n",
      "/Library/Frameworks/Python.framework/Versions/3.11/lib/python3.11/site-packages/sklearn/metrics/_classification.py:1757: UndefinedMetricWarning: F-score is ill-defined and being set to 0.0 due to no true nor predicted samples. Use `zero_division` parameter to control this behavior.\n",
      "  _warn_prf(average, \"true nor predicted\", \"F-score is\", len(true_sum))\n",
      "/Library/Frameworks/Python.framework/Versions/3.11/lib/python3.11/site-packages/sklearn/metrics/_classification.py:1757: UndefinedMetricWarning: F-score is ill-defined and being set to 0.0 due to no true nor predicted samples. Use `zero_division` parameter to control this behavior.\n",
      "  _warn_prf(average, \"true nor predicted\", \"F-score is\", len(true_sum))\n",
      "/Library/Frameworks/Python.framework/Versions/3.11/lib/python3.11/site-packages/sklearn/metrics/_classification.py:1757: UndefinedMetricWarning: F-score is ill-defined and being set to 0.0 due to no true nor predicted samples. Use `zero_division` parameter to control this behavior.\n",
      "  _warn_prf(average, \"true nor predicted\", \"F-score is\", len(true_sum))\n",
      "/Library/Frameworks/Python.framework/Versions/3.11/lib/python3.11/site-packages/sklearn/metrics/_classification.py:1757: UndefinedMetricWarning: F-score is ill-defined and being set to 0.0 due to no true nor predicted samples. Use `zero_division` parameter to control this behavior.\n",
      "  _warn_prf(average, \"true nor predicted\", \"F-score is\", len(true_sum))\n",
      "/Library/Frameworks/Python.framework/Versions/3.11/lib/python3.11/site-packages/sklearn/metrics/_classification.py:1757: UndefinedMetricWarning: F-score is ill-defined and being set to 0.0 due to no true nor predicted samples. Use `zero_division` parameter to control this behavior.\n",
      "  _warn_prf(average, \"true nor predicted\", \"F-score is\", len(true_sum))\n",
      "/Library/Frameworks/Python.framework/Versions/3.11/lib/python3.11/site-packages/sklearn/metrics/_classification.py:1757: UndefinedMetricWarning: F-score is ill-defined and being set to 0.0 due to no true nor predicted samples. Use `zero_division` parameter to control this behavior.\n",
      "  _warn_prf(average, \"true nor predicted\", \"F-score is\", len(true_sum))\n"
     ]
    },
    {
     "name": "stdout",
     "output_type": "stream",
     "text": [
      "Optimal Threshold: 0\n"
     ]
    },
    {
     "name": "stderr",
     "output_type": "stream",
     "text": [
      "/Library/Frameworks/Python.framework/Versions/3.11/lib/python3.11/site-packages/sklearn/metrics/_classification.py:1757: UndefinedMetricWarning: F-score is ill-defined and being set to 0.0 due to no true nor predicted samples. Use `zero_division` parameter to control this behavior.\n",
      "  _warn_prf(average, \"true nor predicted\", \"F-score is\", len(true_sum))\n"
     ]
    }
   ],
   "source": [
    "from sklearn.metrics.pairwise import cosine_similarity\n",
    "from sklearn.metrics import f1_score\n",
    "import numpy as np\n",
    "from sentence_transformers import SentenceTransformer\n",
    "\n",
    "# Initialize the SentenceTransformer model (all-mpnet-base-v2)\n",
    "model = SentenceTransformer('all-mpnet-base-v2')\n",
    "\n",
    "# Function to calculate cosine similarity\n",
    "def calculate_cosine_similarity(query_embedding, response_embeddings):\n",
    "    similarities = {}\n",
    "    for response_id, embedding in response_embeddings.items():\n",
    "        # Ensure both embeddings are moved to CPU and converted to NumPy\n",
    "        similarity = cosine_similarity(\n",
    "            query_embedding.cpu().numpy(),\n",
    "            embedding.cpu().numpy().reshape(1, -1)\n",
    "        )[0][0]\n",
    "        similarities[response_id] = similarity\n",
    "    return similarities\n",
    "\n",
    "# Function to find semantically related responses based on the threshold\n",
    "def find_semantically_related_responses(response_embeddings, keyword_embeddings, threshold=0.6):\n",
    "    related_responses = {}\n",
    "    # Ensure keyword embeddings are moved to CPU\n",
    "    for keyword_embedding in keyword_embeddings:\n",
    "        keyword_embedding = keyword_embedding.cpu()  # Ensure keyword embedding is on CPU\n",
    "        similarities = calculate_cosine_similarity(keyword_embedding.reshape(1, -1), response_embeddings)\n",
    "        \n",
    "        # Filter by threshold\n",
    "        for response_id, similarity in similarities.items():\n",
    "            if similarity >= threshold:\n",
    "                if response_id not in related_responses:\n",
    "                    related_responses[response_id] = similarity\n",
    "                else:\n",
    "                    related_responses[response_id] = max(related_responses[response_id], similarity)\n",
    "    return related_responses\n",
    "\n",
    "# Function to optimize the threshold\n",
    "def find_optimal_threshold(response_embeddings, keyword_embeddings, ground_truth_labels, thresholds):\n",
    "    best_threshold = 0\n",
    "    best_f1_score = 0\n",
    "    f1_scores = []\n",
    "\n",
    "    # Ensure that ground_truth_labels is a list or numpy array\n",
    "    if isinstance(ground_truth_labels, dict):\n",
    "        ground_truth_labels = list(ground_truth_labels.values())  # Convert dict to list if needed\n",
    "    elif isinstance(ground_truth_labels, np.ndarray):\n",
    "        ground_truth_labels = ground_truth_labels.tolist()  # Convert numpy array to list if needed\n",
    "\n",
    "    # Iterate through all thresholds\n",
    "    for threshold in thresholds:\n",
    "        # Get related responses based on the current threshold\n",
    "        related_responses = find_semantically_related_responses(response_embeddings, keyword_embeddings, threshold)\n",
    "        \n",
    "        # Convert response IDs into binary predictions (1 for related, 0 otherwise)\n",
    "        y_pred = [1 if response_id in related_responses else 0 for response_id in response_embeddings.keys()]\n",
    "        \n",
    "        # Calculate the F1 score for this threshold\n",
    "        f1 = f1_score(ground_truth_labels, y_pred)\n",
    "        f1_scores.append(f1)\n",
    "\n",
    "        # Track the best threshold and its F1 score\n",
    "        if f1 > best_f1_score:\n",
    "            best_f1_score = f1\n",
    "            best_threshold = threshold\n",
    "\n",
    "    return best_threshold, f1_scores\n",
    "\n",
    "# Define the range of thresholds you want to explore\n",
    "thresholds = np.arange(0, 1.01, 0.01)\n",
    "\n",
    "# Find the optimal threshold using training data\n",
    "best_threshold, f1_scores = find_optimal_threshold(train_response_embeddings, keyword_embeddings, ground_truth_labels, thresholds)\n",
    "\n",
    "print(f\"Optimal Threshold: {best_threshold}\")\n"
   ]
  },
  {
   "cell_type": "code",
   "execution_count": null,
   "metadata": {},
   "outputs": [],
   "source": [
    "# Function to find semantically related responses based on the threshold\n",
    "def find_semantically_related_responses(response_embeddings, keywords, threshold=0.15):\n",
    "    related_responses = {}\n",
    "\n",
    "    # Generate embeddings for keywords using SentenceTransformer \n",
    "    keyword_embeddings = model.encode(keywords, convert_to_tensor=True)\n",
    "\n",
    "    # For each keyword embedding, calculate the cosine similarity with the responses\n",
    "    for keyword_embedding in keyword_embeddings:\n",
    "        similarities = calculate_cosine_similarity(keyword_embedding.reshape(1, -1), response_embeddings)\n",
    "        for response_id, similarity in similarities.items():\n",
    "            if similarity >= threshold:\n",
    "                if response_id not in related_responses:\n",
    "                    related_responses[response_id] = similarity\n",
    "                else:\n",
    "                    related_responses[response_id] = max(related_responses[response_id], similarity)\n",
    "    \n",
    "    return related_responses\n",
    "\n",
    "# Example usage:\n",
    "keywords = [\"climate change\", \"global warming\", \"weather patterns\"]\n",
    "\n",
    "# Assuming you already have the response embeddings for training, e.g.:\n",
    "# response_embeddings = train_response_embeddings\n",
    "\n",
    "# Find semantically related responses\n",
    "threshold = 0.6\n",
    "related_responses = find_semantically_related_responses(train_response_embeddings, keywords, threshold)\n",
    "\n",
    "# Output the results\n",
    "print(\"\\nRelated Responses:\")\n",
    "for response_id, similarity in related_responses.items():\n",
    "    print(f\"{response_id}: Similarity = {similarity:.4f}\")"
   ]
  },
  {
   "cell_type": "code",
   "execution_count": 204,
   "metadata": {},
   "outputs": [
    {
     "name": "stdout",
     "output_type": "stream",
     "text": [
      "Best Threshold: 0.62\n",
      "\n",
      "Filtered Responses for T5 Summarization:\n"
     ]
    }
   ],
   "source": [
    "# Step 3: Function to optimize the threshold using F1-score\n",
    "def find_optimal_threshold(response_embeddings, keyword_embeddings, ground_truth_labels, thresholds=np.arange(0, 1.01, 0.01)):\n",
    "    f1_scores = []\n",
    "    for threshold in thresholds:\n",
    "        # Get related responses based on the current threshold\n",
    "        related_responses = find_semantically_related_responses(response_embeddings, keyword_embeddings, threshold)\n",
    "        \n",
    "        # Convert response IDs into binary predictions (1 for related, 0 otherwise)\n",
    "        y_pred = [1 if response_id in related_responses else 0 for response_id in response_embeddings.keys()]\n",
    "        y_true = [ground_truth_labels[response_id] for response_id in response_embeddings.keys()]\n",
    "        \n",
    "        # Calculate F1-score\n",
    "        f1 = f1_score(y_true, y_pred, zero_division=1)\n",
    "        f1_scores.append(f1)\n",
    "    \n",
    "    # Identify the best threshold\n",
    "    best_threshold = thresholds[np.argmax(f1_scores)]\n",
    "    return best_threshold, f1_scores\n",
    "\n",
    "# Update: Calculate cosine similarity ensuring tensors are on CPU\n",
    "def calculate_cosine_similarity(query_embedding, response_embeddings):\n",
    "    \"\"\"\n",
    "    Calculate cosine similarity between the query embedding and a dictionary of response embeddings.\n",
    "    \n",
    "    Args:\n",
    "    query_embedding (torch.Tensor): The embedding of the query or keyword(s) (on CPU).\n",
    "    response_embeddings (dict): A dictionary where keys are response IDs and values are their embeddings (on CPU).\n",
    "    \n",
    "    Returns:\n",
    "    dict: A dictionary of response IDs and their similarity scores.\n",
    "    \"\"\"\n",
    "    query_embedding = query_embedding.cpu().numpy()  # Ensure query is on CPU and convert to NumPy\n",
    "    similarities = {}\n",
    "    for response_id, embedding in response_embeddings.items():\n",
    "        embedding = embedding.cpu().numpy()  # Ensure response embedding is on CPU and convert to NumPy\n",
    "        similarity = cosine_similarity(query_embedding.reshape(1, -1), embedding.reshape(1, -1))[0][0]\n",
    "        similarities[response_id] = similarity\n",
    "    return similarities\n",
    "\n",
    "# Update: Find related responses ensuring tensors are on CPU\n",
    "def find_semantically_related_responses(response_embeddings, keyword_embeddings, threshold=0.6):\n",
    "    \"\"\"\n",
    "    Find responses semantically related to given keywords based on cosine similarity.\n",
    "    \n",
    "    Args:\n",
    "    response_embeddings (dict): A dictionary of response embeddings with response IDs as keys (on CPU).\n",
    "    keyword_embeddings (torch.Tensor): Embedding(s) for user-provided keywords (on CPU).\n",
    "    threshold (float): Cosine similarity threshold for filtering responses.\n",
    "    \n",
    "    Returns:\n",
    "    dict: Filtered dictionary of response IDs and their similarity scores.\n",
    "    \"\"\"\n",
    "    related_responses = {}\n",
    "    # For each keyword, calculate cosine similarity\n",
    "    for keyword_embedding in keyword_embeddings:\n",
    "        keyword_embedding = keyword_embedding.cpu()  # Ensure keyword embedding is on CPU\n",
    "        similarities = calculate_cosine_similarity(keyword_embedding, response_embeddings)\n",
    "        # Filter by threshold\n",
    "        for response_id, similarity in similarities.items():\n",
    "            if similarity >= threshold:\n",
    "                if response_id not in related_responses:\n",
    "                    related_responses[response_id] = similarity\n",
    "                else:\n",
    "                    related_responses[response_id] = max(related_responses[response_id], similarity)\n",
    "    return related_responses\n",
    "\n",
    "# Example: User-provided keywords and ground truth labels\n",
    "user_keywords = ['AI', 'Security']\n",
    "\n",
    "# Get the embedding for the user keywords\n",
    "keyword_embeddings = model.encode(user_keywords, convert_to_tensor=True).cpu()\n",
    "\n",
    "# Ground truth labels (1 for relevant, 0 for irrelevant) for training data\n",
    "ground_truth_labels = {\n",
    "    response_id: 1 if response_id in ['response_1', 'response_2'] else 0  # Example labels\n",
    "    for response_id in train_response_embeddings.keys()\n",
    "}\n",
    "\n",
    "# Step 4: Find the optimal threshold\n",
    "thresholds = np.arange(0, 1.01, 0.01)\n",
    "best_threshold, f1_scores = find_optimal_threshold(train_response_embeddings, keyword_embeddings, ground_truth_labels, thresholds)\n",
    "\n",
    "print(f\"Best Threshold: {best_threshold}\")\n",
    "\n",
    "# Step 5: Filter responses with the optimal threshold\n",
    "filtered_responses = find_semantically_related_responses(train_response_embeddings, keyword_embeddings, best_threshold)\n",
    "\n",
    "print(\"\\nFiltered Responses for T5 Summarization:\")\n",
    "for response_id, similarity in filtered_responses.items():\n",
    "    print(f\"Response ID: {response_id}, Similarity: {similarity:.4f}\")\n"
   ]
  },
  {
   "cell_type": "code",
   "execution_count": 205,
   "metadata": {},
   "outputs": [
    {
     "data": {
      "image/png": "[encoded data removed]",
      "text/plain": [
       "<Figure size 640x480 with 1 Axes>"
      ]
     },
     "metadata": {},
     "output_type": "display_data"
    }
   ],
   "source": [
    "import matplotlib.pyplot as plt\n",
    "from sklearn.metrics.pairwise import cosine_similarity\n",
    "\n",
    "# Ensure both embeddings (keywords and responses) are 2D (n, 768) arrays\n",
    "# If `keyword_embeddings` is a tensor, convert it to NumPy and flatten (if necessary)\n",
    "keyword_embeddings_cpu = keyword_embeddings.cpu().numpy()\n",
    "\n",
    "# Get the cosine similarities for all responses\n",
    "similarities = []\n",
    "for response_id, embedding in train_response_embeddings.items():\n",
    "    # Ensure the response embedding is on the CPU and converted to NumPy\n",
    "    embedding_cpu = embedding.cpu().numpy()\n",
    "\n",
    "    # Loop through all keyword embeddings (assuming keywords are in a batch of embeddings)\n",
    "    for keyword_embedding in keyword_embeddings_cpu:\n",
    "        # Calculate cosine similarity between the keyword embedding and response embedding\n",
    "        similarity = cosine_similarity(\n",
    "            keyword_embedding.reshape(1, -1),  # Reshaping keyword to be 2D (1, 768)\n",
    "            embedding_cpu.reshape(1, -1)       # Reshaping response to be 2D (1, 768)\n",
    "        )[0][0]\n",
    "        similarities.append(similarity)\n",
    "\n",
    "# Plot the distribution of similarities\n",
    "plt.hist(similarities, bins=20, edgecolor='black')\n",
    "plt.title(\"Cosine Similarity Distribution\")\n",
    "plt.xlabel(\"Cosine Similarity\")\n",
    "plt.ylabel(\"Frequency\")\n",
    "plt.show()\n"
   ]
  },
  {
   "cell_type": "code",
   "execution_count": 206,
   "metadata": {},
   "outputs": [
    {
     "name": "stdout",
     "output_type": "stream",
     "text": [
      "\n",
      "No responses passed the threshold. Lowering the threshold or revising filtering criteria is needed.\n"
     ]
    }
   ],
   "source": [
    "if not filtered_texts:\n",
    "    print(\"\\nNo responses passed the threshold. Lowering the threshold or revising filtering criteria is needed.\")\n",
    "    filtered_texts = [\"No relevant responses found.\"]\n"
   ]
  },
  {
   "cell_type": "code",
   "execution_count": 207,
   "metadata": {},
   "outputs": [
    {
     "name": "stdout",
     "output_type": "stream",
     "text": [
      "\n",
      "Filtered Texts:\n",
      "['No relevant responses found.']\n"
     ]
    }
   ],
   "source": [
    "print(\"\\nFiltered Texts:\")\n",
    "print(filtered_texts)\n"
   ]
  },
  {
   "cell_type": "code",
   "execution_count": 208,
   "metadata": {},
   "outputs": [
    {
     "name": "stderr",
     "output_type": "stream",
     "text": [
      "Special tokens have been added in the vocabulary, make sure the associated word embeddings are fine-tuned or trained.\n"
     ]
    },
    {
     "name": "stdout",
     "output_type": "stream",
     "text": [
      "\n",
      "Generated Summary:\n",
      "\n"
     ]
    }
   ],
   "source": [
    "# Step 6: Prepare data for T5 summarization\n",
    "# Convert the filtered responses to a format that the T5 model can use.\n",
    "filtered_texts = [train_df.loc[train_df['ResponseID'] == response_id, 'Responses'].values[0] for response_id in filtered_responses.keys()]\n",
    "\n",
    "# Example: Feed filtered responses into T5 for summarization\n",
    "# You can use HuggingFace's T5Tokenizer and T5ForConditionalGeneration to perform summarization\n",
    "from transformers import T5Tokenizer, T5ForConditionalGeneration\n",
    "\n",
    "# Initialize T5 model and tokenizer\n",
    "t5_tokenizer = T5Tokenizer.from_pretrained(\"t5-small\")\n",
    "t5_model = T5ForConditionalGeneration.from_pretrained(\"t5-small\")\n",
    "\n",
    "# Concatenate filtered responses and prepare input\n",
    "input_text = \"summarize: \" + \" \".join(filtered_texts)\n",
    "input_ids = t5_tokenizer.encode(input_text, return_tensors=\"pt\", truncation=True)\n",
    "\n",
    "# Generate the summary\n",
    "summary_ids = t5_model.generate(input_ids, max_length=150, num_beams=5, early_stopping=True)\n",
    "summary = t5_tokenizer.decode(summary_ids[0], skip_special_tokens=True)\n",
    "\n",
    "print(\"\\nGenerated Summary:\")\n",
    "print(summary)"
   ]
  }
 ],
 "metadata": {
  "kernelspec": {
   "display_name": "Python 3",
   "language": "python",
   "name": "python3"
  },
  "language_info": {
   "codemirror_mode": {
    "name": "ipython",
    "version": 3
   },
   "file_extension": ".py",
   "mimetype": "text/x-python",
   "name": "python",
   "nbconvert_exporter": "python",
   "pygments_lexer": "ipython3",
   "version": "3.11.6"
  }
 },
 "nbformat": 4,
 "nbformat_minor": 2
}
