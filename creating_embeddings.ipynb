{
 "cells": [
  {
   "cell_type": "code",
   "execution_count": null,
   "metadata": {},
   "outputs": [],
   "source": [
    "import pandas as pd\n",
    "from sentence_transformers import SentenceTransformer\n",
    "\n",
    "# Load the CSV file\n",
    "file_path = '/Users/shashinimashi/Desktop/Semester 3/Thesis/Analysis/Repo/Research_OAI/Research_OAI/transcripts.csv'  \n",
    "df = pd.read_csv(file_path)\n",
    "\n",
    "# Check if the 'Transcription' column exists\n",
    "if 'Transcription' not in df.columns:\n",
    "    raise ValueError(\"The 'Transcription' column is missing in the dataset.\")\n",
    "\n",
    "# Load the pretrained embedding model\n",
    "embedding_model = SentenceTransformer('all-mpnet-base-v2')\n",
    "\n",
    "# Generate embeddings for the Transcription column\n",
    "df['Transcription_Embeddings'] = df['Transcription'].apply(\n",
    "    lambda text: embedding_model.encode(text, convert_to_tensor=True)\n",
    ")\n",
    "\n",
    "# Save the updated DataFrame to a CSV file\n",
    "output_path = 'transcription_embeddings.csv'\n",
    "df.to_csv(output_path, index=False)\n",
    "\n",
    "print(f\"Embeddings file saved to {output_path}\")\n"
   ]
  }
 ],
 "metadata": {
  "language_info": {
   "name": "python"
  }
 },
 "nbformat": 4,
 "nbformat_minor": 2
}
